{
 "cells": [
  {
   "attachments": {},
   "cell_type": "markdown",
   "metadata": {},
   "source": [
    "# Matrix manipulation and optimization\n",
    "\n",
    "Przemysław Szufel"
   ]
  },
  {
   "cell_type": "code",
   "execution_count": 3,
   "metadata": {
    "scrolled": true
   },
   "outputs": [
    {
     "data": {
      "text/plain": [
       "\"C:\\\\AAABIBLIOTEKA\\\\MIT_Boston\\\\Stuttgart\""
      ]
     },
     "execution_count": 3,
     "metadata": {},
     "output_type": "execute_result"
    }
   ],
   "source": [
    "pwd() # Ctrl + ENTER"
   ]
  },
  {
   "cell_type": "code",
   "execution_count": 4,
   "metadata": {},
   "outputs": [
    {
     "name": "stdout",
     "output_type": "stream",
     "text": [
      "Julia Version 1.9.3\n",
      "Commit bed2cd540a (2023-08-24 14:43 UTC)\n",
      "Build Info:\n",
      "  Official https://julialang.org/ release\n",
      "Platform Info:\n",
      "  OS: Windows (x86_64-w64-mingw32)\n",
      "  CPU: 12 × 13th Gen Intel(R) Core(TM) i7-1355U\n",
      "  WORD_SIZE: 64\n",
      "  LIBM: libopenlibm\n",
      "  LLVM: libLLVM-14.0.6 (ORCJIT, goldmont)\n",
      "  Threads: 2 on 12 virtual cores\n",
      "Environment:\n",
      "  JULIA_DEPOT_PATH = c:\\JuliaPkg\\Julia-1.9.3\n",
      "  JULIA_HOME = c:\\Julia-1.9.3\n",
      "  JULIA_VERSION = Julia-1.9.3\n"
     ]
    }
   ],
   "source": [
    "versioninfo()"
   ]
  },
  {
   "cell_type": "markdown",
   "metadata": {},
   "source": [
    "## Working with matrices "
   ]
  },
  {
   "cell_type": "markdown",
   "metadata": {},
   "source": [
    "### Parametric data types in vectors and matrices"
   ]
  },
  {
   "cell_type": "code",
   "execution_count": 5,
   "metadata": {},
   "outputs": [
    {
     "data": {
      "text/plain": [
       "3-element Vector{Int64}:\n",
       " 1\n",
       " 4\n",
       " 5"
      ]
     },
     "execution_count": 5,
     "metadata": {},
     "output_type": "execute_result"
    }
   ],
   "source": [
    "v1 = [1,4,5]"
   ]
  },
  {
   "cell_type": "code",
   "execution_count": 6,
   "metadata": {},
   "outputs": [
    {
     "data": {
      "text/plain": [
       "Vector{Int64}\u001b[90m (alias for \u001b[39m\u001b[90mArray{Int64, 1}\u001b[39m\u001b[90m)\u001b[39m"
      ]
     },
     "execution_count": 6,
     "metadata": {},
     "output_type": "execute_result"
    }
   ],
   "source": [
    "typeof(v1)"
   ]
  },
  {
   "cell_type": "code",
   "execution_count": 7,
   "metadata": {},
   "outputs": [
    {
     "data": {
      "text/plain": [
       "2-element Vector{Float64}:\n",
       " 1.1\n",
       " 2.2"
      ]
     },
     "execution_count": 7,
     "metadata": {},
     "output_type": "execute_result"
    }
   ],
   "source": [
    "v2 = [1.1, 2.2]"
   ]
  },
  {
   "cell_type": "code",
   "execution_count": 8,
   "metadata": {},
   "outputs": [
    {
     "data": {
      "text/plain": [
       "Vector{Float64}\u001b[90m (alias for \u001b[39m\u001b[90mArray{Float64, 1}\u001b[39m\u001b[90m)\u001b[39m"
      ]
     },
     "execution_count": 8,
     "metadata": {},
     "output_type": "execute_result"
    }
   ],
   "source": [
    "typeof(v2)"
   ]
  },
  {
   "cell_type": "code",
   "execution_count": 9,
   "metadata": {},
   "outputs": [
    {
     "data": {
      "text/plain": [
       "(Int64, Float64)"
      ]
     },
     "execution_count": 9,
     "metadata": {},
     "output_type": "execute_result"
    }
   ],
   "source": [
    "eltype(v1),  eltype(v2)"
   ]
  },
  {
   "cell_type": "code",
   "execution_count": 10,
   "metadata": {},
   "outputs": [
    {
     "data": {
      "text/plain": [
       "1-element Vector{Int64}:\n",
       " 5"
      ]
     },
     "execution_count": 10,
     "metadata": {},
     "output_type": "execute_result"
    }
   ],
   "source": [
    "b = Int[]\n",
    "append!(b, 5)"
   ]
  },
  {
   "cell_type": "code",
   "execution_count": 11,
   "metadata": {
    "scrolled": true
   },
   "outputs": [
    {
     "data": {
      "text/plain": [
       "1-element Vector{Any}:\n",
       " 5"
      ]
     },
     "execution_count": 11,
     "metadata": {},
     "output_type": "execute_result"
    }
   ],
   "source": [
    "c = []\n",
    "append!(c, 5)"
   ]
  },
  {
   "cell_type": "code",
   "execution_count": 12,
   "metadata": {},
   "outputs": [
    {
     "data": {
      "text/plain": [
       "1 + 4im"
      ]
     },
     "execution_count": 12,
     "metadata": {},
     "output_type": "execute_result"
    }
   ],
   "source": [
    "c = Complex(1,4)"
   ]
  },
  {
   "cell_type": "code",
   "execution_count": 13,
   "metadata": {},
   "outputs": [
    {
     "data": {
      "text/plain": [
       "Complex{Int64}"
      ]
     },
     "execution_count": 13,
     "metadata": {},
     "output_type": "execute_result"
    }
   ],
   "source": [
    "typeof(c)"
   ]
  },
  {
   "cell_type": "code",
   "execution_count": 14,
   "metadata": {},
   "outputs": [
    {
     "name": "stdout",
     "output_type": "stream",
     "text": [
      "Complex{Int64}\n",
      "  re: Int64 1\n",
      "  im: Int64 4\n"
     ]
    }
   ],
   "source": [
    "dump(c)"
   ]
  },
  {
   "cell_type": "code",
   "execution_count": 15,
   "metadata": {},
   "outputs": [
    {
     "data": {
      "text/plain": [
       "1.0 + 4.0im"
      ]
     },
     "execution_count": 15,
     "metadata": {},
     "output_type": "execute_result"
    }
   ],
   "source": [
    "c2=Complex{Float64}(1,4)"
   ]
  },
  {
   "cell_type": "code",
   "execution_count": 16,
   "metadata": {},
   "outputs": [
    {
     "data": {
      "text/plain": [
       "ComplexF64\u001b[90m (alias for \u001b[39m\u001b[90mComplex{Float64}\u001b[39m\u001b[90m)\u001b[39m"
      ]
     },
     "execution_count": 16,
     "metadata": {},
     "output_type": "execute_result"
    }
   ],
   "source": [
    "typeof(c2)"
   ]
  },
  {
   "cell_type": "code",
   "execution_count": 17,
   "metadata": {},
   "outputs": [
    {
     "data": {
      "text/plain": [
       "ComplexF32\u001b[90m (alias for \u001b[39m\u001b[90mComplex{Float32}\u001b[39m\u001b[90m)\u001b[39m"
      ]
     },
     "execution_count": 17,
     "metadata": {},
     "output_type": "execute_result"
    }
   ],
   "source": [
    "c2=Complex{Float32}(1,4)\n",
    "typeof(c2)"
   ]
  },
  {
   "cell_type": "code",
   "execution_count": 18,
   "metadata": {},
   "outputs": [
    {
     "data": {
      "text/plain": [
       "3//4"
      ]
     },
     "execution_count": 18,
     "metadata": {},
     "output_type": "execute_result"
    }
   ],
   "source": [
    "x = 1//2 + 1//4"
   ]
  },
  {
   "cell_type": "code",
   "execution_count": 19,
   "metadata": {},
   "outputs": [
    {
     "data": {
      "text/plain": [
       "Rational{Int64}"
      ]
     },
     "execution_count": 19,
     "metadata": {},
     "output_type": "execute_result"
    }
   ],
   "source": [
    "typeof(x)"
   ]
  },
  {
   "cell_type": "code",
   "execution_count": 20,
   "metadata": {},
   "outputs": [
    {
     "name": "stdout",
     "output_type": "stream",
     "text": [
      "c3 = 1//4 + 4//1*im\n"
     ]
    },
    {
     "data": {
      "text/plain": [
       "1//4 + 4//1*im"
      ]
     },
     "execution_count": 20,
     "metadata": {},
     "output_type": "execute_result"
    }
   ],
   "source": [
    "c3=Complex{Rational{Int128}}(1//4,4)\n",
    "@show c3\n"
   ]
  },
  {
   "cell_type": "code",
   "execution_count": 21,
   "metadata": {},
   "outputs": [
    {
     "data": {
      "text/plain": [
       "0.25 + 4.0im"
      ]
     },
     "execution_count": 21,
     "metadata": {},
     "output_type": "execute_result"
    }
   ],
   "source": [
    "Complex{Float64}(c3)"
   ]
  },
  {
   "cell_type": "code",
   "execution_count": 22,
   "metadata": {},
   "outputs": [
    {
     "data": {
      "text/plain": [
       "2×3 Matrix{Int64}:\n",
       " 0  0  0\n",
       " 0  0  0"
      ]
     },
     "execution_count": 22,
     "metadata": {},
     "output_type": "execute_result"
    }
   ],
   "source": [
    "zeros(Int, 2,3)"
   ]
  },
  {
   "cell_type": "code",
   "execution_count": 23,
   "metadata": {},
   "outputs": [
    {
     "data": {
      "text/plain": [
       "40×30 Matrix{Float64}:\n",
       " 1.18028e288   3.97085e246     1.12252e-311  …  1.24186e-308  1.11097e-308\n",
       " 8.37171e-144  8.88243e247     8.48798e-314     1.16228e-308  2.80426e-309\n",
       " 7.7282e-91    2.15799e243     1.12252e-311     1.11368e-308  2.81495e-309\n",
       " 1.11032e-47   1.14428e243     0.0              1.39053e-308  2.79554e-309\n",
       " 3.42242e126   1.35617e248   NaN                1.21694e-308  2.77375e-309\n",
       " 3.75598e199   0.0             1.12252e-311  …  1.21446e-308  2.80379e-309\n",
       " 1.12247e-311  0.0             1.12252e-311     1.23045e-308  0.0\n",
       " 1.12252e-311  1.12041e-311    2.122e-314       1.2191e-308   1.4307e-308\n",
       " 1.12252e-311  1.12252e-311    1.12041e-311     1.22031e-308  1.40223e-308\n",
       " 4.0e-323      1.35808e-312    1.12252e-311     3.95351e-309  1.431e-308\n",
       " 6.49269e169   1.12149e-311    1.12252e-311  …  4.09709e-309  1.40176e-308\n",
       " 1.12247e-311  1.16095e-28     1.12252e-311     1.41472e-308  1.43129e-308\n",
       " 0.0           5.80815e286   NaN                4.53233e-309  1.25379e-308\n",
       " ⋮                                           ⋱                \n",
       " 1.12252e-311  0.0             0.0              1.25441e-308  0.0\n",
       " 1.12252e-311  0.0             0.0              1.71226e-309  0.0\n",
       " 1.12252e-311  1.12252e-311  NaN             …  2.73984e-309  0.0\n",
       " 1.56246e161   1.12252e-311    1.12252e-311     1.07513e-308  0.0\n",
       " 1.12041e-311  1.12252e-311    1.12252e-311     1.26064e-308  0.0\n",
       " 1.12252e-311  1.12252e-311    2.122e-314       1.73581e-309  0.0\n",
       " 4.24399e-314  4.0e-323        1.12041e-311     2.79838e-309  0.0\n",
       " 4.0e-323      0.0             1.12247e-311  …  1.37498e-308  0.0\n",
       " 1.86078e160   1.12252e-311    0.0              1.10946e-308  0.0\n",
       " 1.12213e-311  1.12252e-311    0.0              1.10984e-308  0.0\n",
       " 1.12149e-311  1.12252e-311    1.12252e-311     1.38799e-308  0.0\n",
       " 1.16466e-28   0.0             0.0              1.23517e-308  0.0"
      ]
     },
     "execution_count": 23,
     "metadata": {},
     "output_type": "execute_result"
    }
   ],
   "source": [
    "Matrix{Float64}(undef,40, 30 )"
   ]
  },
  {
   "cell_type": "code",
   "execution_count": 24,
   "metadata": {},
   "outputs": [
    {
     "name": "stdout",
     "output_type": "stream",
     "text": [
      "Array{Any}(undef, 2, 3) = Any[#undef #undef #undef; #undef #undef #undef]\n",
      "zeros(5) = [0.0, 0.0, 0.0, 0.0, 0.0]\n",
      "ones(Int64, 2, 1) = [1; 1;;]\n",
      "(trues(3), falses(3)) = (Bool[1, 1, 1], Bool[0, 0, 0])\n",
      "x = range(1, stop = 2, length = 5) = 1.0:0.25:2.0\n",
      "collect(x) = [1.0, 1.25, 1.5, 1.75, 2.0]\n",
      "1:10 = 1:10\n",
      "1:2:10 = 1:2:9\n",
      "reshape(1:12, 3, 4) = [1 4 7 10; 2 5 8 11; 3 6 9 12]\n"
     ]
    },
    {
     "data": {
      "text/plain": [
       "3×4 reshape(::UnitRange{Int64}, 3, 4) with eltype Int64:\n",
       " 1  4  7  10\n",
       " 2  5  8  11\n",
       " 3  6  9  12"
      ]
     },
     "execution_count": 24,
     "metadata": {},
     "output_type": "execute_result"
    }
   ],
   "source": [
    "@show Array{Any}(undef, 2, 3) \t# 2x3 Matrix of Any\n",
    "@show zeros(5) \t\t\t\t# vector of Float64 zeros\n",
    "@show ones(Int64, 2, 1) \t# 2x1 array of Int64 ones\n",
    "@show trues(3), falses(3) \t# tuple of vector of trues and of falses\n",
    "\n",
    "@show x = range(1, stop=2, length=5)  # iterator having 5 equally spaced elements\n",
    "@show collect(x) \t# converts iterator to vector\n",
    "@show 1:10 \t\t\t# iterable from 1 to 10\n",
    "@show 1:2:10 \t\t# iterable from 1 to 9 with 2 skip\n",
    "@show reshape(1:12, 3, 4)\t# 3x4 array filled with 1:12 values\n"
   ]
  },
  {
   "cell_type": "code",
   "execution_count": 25,
   "metadata": {},
   "outputs": [
    {
     "data": {
      "text/plain": [
       "Matrix\u001b[90m (alias for \u001b[39m\u001b[90mArray{T, 2} where T\u001b[39m\u001b[90m)\u001b[39m"
      ]
     },
     "execution_count": 25,
     "metadata": {},
     "output_type": "execute_result"
    }
   ],
   "source": [
    "Matrix"
   ]
  },
  {
   "cell_type": "code",
   "execution_count": 26,
   "metadata": {},
   "outputs": [
    {
     "data": {
      "text/plain": [
       "2×3 Matrix{Int64}:\n",
       " 51539607568  51539607564  30064771079\n",
       " 81604378641  30064771084  30064771079"
      ]
     },
     "execution_count": 26,
     "metadata": {},
     "output_type": "execute_result"
    }
   ],
   "source": [
    "y = Matrix{Int64}(undef, 2, 3)"
   ]
  },
  {
   "cell_type": "code",
   "execution_count": 27,
   "metadata": {},
   "outputs": [
    {
     "data": {
      "text/plain": [
       "4×5 Matrix{Float64}:\n",
       " 0.0  0.0  66.0  0.0  0.0\n",
       " 0.0  0.0   0.0  0.0  0.0\n",
       " 0.0  0.0   0.0  0.0  0.0\n",
       " 0.0  0.0   0.0  0.0  0.0"
      ]
     },
     "execution_count": 27,
     "metadata": {},
     "output_type": "execute_result"
    }
   ],
   "source": [
    "m = zeros( 4, 5)\n",
    "m[1,3] = 66\n",
    "m\n",
    "# 1-based numbering "
   ]
  },
  {
   "cell_type": "code",
   "execution_count": 28,
   "metadata": {},
   "outputs": [
    {
     "data": {
      "text/plain": [
       "3-element Vector{Float64}:\n",
       " 66.0\n",
       "  0.0\n",
       "  0.0"
      ]
     },
     "execution_count": 28,
     "metadata": {},
     "output_type": "execute_result"
    }
   ],
   "source": [
    "m[1:end-1,3] #array slicing"
   ]
  },
  {
   "cell_type": "code",
   "execution_count": 29,
   "metadata": {},
   "outputs": [
    {
     "data": {
      "text/plain": [
       "4-element Vector{Int64}:\n",
       " 99\n",
       "  2\n",
       "  3\n",
       "  4"
      ]
     },
     "execution_count": 29,
     "metadata": {},
     "output_type": "execute_result"
    }
   ],
   "source": [
    "a = [1,2,3,4]\n",
    "b = a'\n",
    "b[1,1] = 99\n",
    "a"
   ]
  },
  {
   "cell_type": "code",
   "execution_count": 30,
   "metadata": {},
   "outputs": [
    {
     "data": {
      "text/plain": [
       "3×2 Matrix{Int64}:\n",
       " 7  10\n",
       " 8  11\n",
       " 9  12"
      ]
     },
     "metadata": {},
     "output_type": "display_data"
    },
    {
     "data": {
      "text/plain": [
       "3-element Vector{Int64}:\n",
       " 1\n",
       " 2\n",
       " 3"
      ]
     },
     "metadata": {},
     "output_type": "display_data"
    },
    {
     "data": {
      "text/plain": [
       "4-element Vector{Int64}:\n",
       "  1\n",
       "  4\n",
       "  7\n",
       " 10"
      ]
     },
     "metadata": {},
     "output_type": "display_data"
    }
   ],
   "source": [
    "a = reshape(1:12, 3, 4)\n",
    "display(a[:, 3:end]) # 3x2 matrix\n",
    "display(a[:, 1]) # 3 element vector\n",
    "display(a[1, :]) # 4 element vector\n"
   ]
  },
  {
   "cell_type": "markdown",
   "metadata": {
    "jp-MarkdownHeadingCollapsed": true
   },
   "source": [
    "### Vectorization of operators"
   ]
  },
  {
   "cell_type": "code",
   "execution_count": 31,
   "metadata": {},
   "outputs": [
    {
     "data": {
      "text/plain": [
       "1×2 BitMatrix:\n",
       " 1  0"
      ]
     },
     "execution_count": 31,
     "metadata": {},
     "output_type": "execute_result"
    }
   ],
   "source": [
    "Bool.( [1 2] .< [2 1])"
   ]
  },
  {
   "cell_type": "code",
   "execution_count": 32,
   "metadata": {
    "scrolled": true
   },
   "outputs": [
    {
     "data": {
      "text/plain": [
       "1×3 BitMatrix:\n",
       " 1  0  0"
      ]
     },
     "execution_count": 32,
     "metadata": {},
     "output_type": "execute_result"
    }
   ],
   "source": [
    "[1 2 3] .< [4 2 2]"
   ]
  },
  {
   "cell_type": "code",
   "execution_count": 33,
   "metadata": {},
   "outputs": [
    {
     "data": {
      "text/plain": [
       "2×3 Matrix{Int64}:\n",
       " 3  4  5\n",
       " 6  7  8"
      ]
     },
     "execution_count": 33,
     "metadata": {},
     "output_type": "execute_result"
    }
   ],
   "source": [
    "2 .+ [1 2 3; 4 5 6] "
   ]
  },
  {
   "cell_type": "code",
   "execution_count": 34,
   "metadata": {},
   "outputs": [
    {
     "data": {
      "text/plain": [
       "2×3 Matrix{Int64}:\n",
       " 3  4  5\n",
       " 6  7  8"
      ]
     },
     "execution_count": 34,
     "metadata": {},
     "output_type": "execute_result"
    }
   ],
   "source": [
    "2 .+ [1 2 3; 4 5 6] "
   ]
  },
  {
   "cell_type": "code",
   "execution_count": 35,
   "metadata": {
    "scrolled": true
   },
   "outputs": [
    {
     "data": {
      "text/plain": [
       "f (generic function with 1 method)"
      ]
     },
     "execution_count": 35,
     "metadata": {},
     "output_type": "execute_result"
    }
   ],
   "source": [
    "f(a,b) = a < b + 1 ? a : b"
   ]
  },
  {
   "cell_type": "code",
   "execution_count": 36,
   "metadata": {},
   "outputs": [
    {
     "data": {
      "text/plain": [
       "1×3 Matrix{Int64}:\n",
       " 1  2  2"
      ]
     },
     "execution_count": 36,
     "metadata": {},
     "output_type": "execute_result"
    }
   ],
   "source": [
    "f.([1 2 3], [4 2 2])"
   ]
  },
  {
   "cell_type": "code",
   "execution_count": 37,
   "metadata": {},
   "outputs": [],
   "source": [
    "# dot operator :  . "
   ]
  },
  {
   "cell_type": "code",
   "execution_count": 38,
   "metadata": {},
   "outputs": [
    {
     "data": {
      "text/plain": [
       "3-element BitVector:\n",
       " 1\n",
       " 0\n",
       " 0"
      ]
     },
     "execution_count": 38,
     "metadata": {},
     "output_type": "execute_result"
    }
   ],
   "source": [
    "[1,2,3] .< [4,2,1]"
   ]
  },
  {
   "cell_type": "code",
   "execution_count": 39,
   "metadata": {},
   "outputs": [
    {
     "data": {
      "text/plain": [
       "\"def f(x,y):\\n   return 2*x if x < y else -1\\n\""
      ]
     },
     "execution_count": 39,
     "metadata": {},
     "output_type": "execute_result"
    }
   ],
   "source": [
    "\"\"\"\n",
    "def f(x,y):\n",
    "   return 2*x if x < y else -1\n",
    "\"\"\""
   ]
  },
  {
   "cell_type": "code",
   "execution_count": 40,
   "metadata": {},
   "outputs": [
    {
     "data": {
      "text/plain": [
       "f (generic function with 1 method)"
      ]
     },
     "execution_count": 40,
     "metadata": {},
     "output_type": "execute_result"
    }
   ],
   "source": [
    "f(x,y) =  x<y ? 2x : -1"
   ]
  },
  {
   "cell_type": "code",
   "execution_count": 41,
   "metadata": {},
   "outputs": [
    {
     "data": {
      "text/plain": [
       "20"
      ]
     },
     "execution_count": 41,
     "metadata": {},
     "output_type": "execute_result"
    }
   ],
   "source": [
    "f(10,30)\n"
   ]
  },
  {
   "cell_type": "code",
   "execution_count": 42,
   "metadata": {},
   "outputs": [
    {
     "data": {
      "text/plain": [
       "3-element Vector{Int64}:\n",
       " 0\n",
       " 5\n",
       " 6"
      ]
     },
     "execution_count": 42,
     "metadata": {},
     "output_type": "execute_result"
    }
   ],
   "source": [
    "a=  [1,2,3]\n",
    "b=  [0,5,6]"
   ]
  },
  {
   "cell_type": "code",
   "execution_count": 43,
   "metadata": {},
   "outputs": [
    {
     "data": {
      "text/plain": [
       "3-element Vector{Int64}:\n",
       " -1\n",
       "  4\n",
       "  6"
      ]
     },
     "execution_count": 43,
     "metadata": {},
     "output_type": "execute_result"
    }
   ],
   "source": [
    "f.(a,b)"
   ]
  },
  {
   "cell_type": "code",
   "execution_count": 44,
   "metadata": {},
   "outputs": [
    {
     "data": {
      "text/plain": [
       "3-element Vector{Int64}:\n",
       "  0\n",
       " 10\n",
       " 18"
      ]
     },
     "execution_count": 44,
     "metadata": {},
     "output_type": "execute_result"
    }
   ],
   "source": [
    "a .* b"
   ]
  },
  {
   "cell_type": "markdown",
   "metadata": {
    "jp-MarkdownHeadingCollapsed": true
   },
   "source": [
    "### Working with sparse matrices and unmaterialized data"
   ]
  },
  {
   "cell_type": "code",
   "execution_count": 45,
   "metadata": {},
   "outputs": [],
   "source": [
    "using SparseArrays\n",
    "using LinearAlgebra"
   ]
  },
  {
   "cell_type": "code",
   "execution_count": 46,
   "metadata": {},
   "outputs": [
    {
     "data": {
      "text/plain": [
       "10×10 SparseMatrixCSC{Bool, Int64} with 10 stored entries:\n",
       " 1  ⋅  ⋅  ⋅  ⋅  ⋅  ⋅  ⋅  ⋅  ⋅\n",
       " ⋅  1  ⋅  ⋅  ⋅  ⋅  ⋅  ⋅  ⋅  ⋅\n",
       " ⋅  ⋅  1  ⋅  ⋅  ⋅  ⋅  ⋅  ⋅  ⋅\n",
       " ⋅  ⋅  ⋅  1  ⋅  ⋅  ⋅  ⋅  ⋅  ⋅\n",
       " ⋅  ⋅  ⋅  ⋅  1  ⋅  ⋅  ⋅  ⋅  ⋅\n",
       " ⋅  ⋅  ⋅  ⋅  ⋅  1  ⋅  ⋅  ⋅  ⋅\n",
       " ⋅  ⋅  ⋅  ⋅  ⋅  ⋅  1  ⋅  ⋅  ⋅\n",
       " ⋅  ⋅  ⋅  ⋅  ⋅  ⋅  ⋅  1  ⋅  ⋅\n",
       " ⋅  ⋅  ⋅  ⋅  ⋅  ⋅  ⋅  ⋅  1  ⋅\n",
       " ⋅  ⋅  ⋅  ⋅  ⋅  ⋅  ⋅  ⋅  ⋅  1"
      ]
     },
     "execution_count": 46,
     "metadata": {},
     "output_type": "execute_result"
    }
   ],
   "source": [
    "a = sparse(I, 10, 10)"
   ]
  },
  {
   "cell_type": "code",
   "execution_count": 47,
   "metadata": {},
   "outputs": [
    {
     "data": {
      "text/plain": [
       "10×10 Matrix{Bool}:\n",
       " 1  0  0  0  0  0  0  0  0  0\n",
       " 0  1  0  0  0  0  0  0  0  0\n",
       " 0  0  1  0  0  0  0  0  0  0\n",
       " 0  0  0  1  0  0  0  0  0  0\n",
       " 0  0  0  0  1  0  0  0  0  0\n",
       " 0  0  0  0  0  1  0  0  0  0\n",
       " 0  0  0  0  0  0  1  0  0  0\n",
       " 0  0  0  0  0  0  0  1  0  0\n",
       " 0  0  0  0  0  0  0  0  1  0\n",
       " 0  0  0  0  0  0  0  0  0  1"
      ]
     },
     "execution_count": 47,
     "metadata": {},
     "output_type": "execute_result"
    }
   ],
   "source": [
    "b = Array(a)"
   ]
  },
  {
   "cell_type": "code",
   "execution_count": 48,
   "metadata": {},
   "outputs": [
    {
     "data": {
      "text/plain": [
       "10×10 SparseMatrixCSC{Bool, Int64} with 10 stored entries:\n",
       " 1  ⋅  ⋅  ⋅  ⋅  ⋅  ⋅  ⋅  ⋅  ⋅\n",
       " ⋅  1  ⋅  ⋅  ⋅  ⋅  ⋅  ⋅  ⋅  ⋅\n",
       " ⋅  ⋅  1  ⋅  ⋅  ⋅  ⋅  ⋅  ⋅  ⋅\n",
       " ⋅  ⋅  ⋅  1  ⋅  ⋅  ⋅  ⋅  ⋅  ⋅\n",
       " ⋅  ⋅  ⋅  ⋅  1  ⋅  ⋅  ⋅  ⋅  ⋅\n",
       " ⋅  ⋅  ⋅  ⋅  ⋅  1  ⋅  ⋅  ⋅  ⋅\n",
       " ⋅  ⋅  ⋅  ⋅  ⋅  ⋅  1  ⋅  ⋅  ⋅\n",
       " ⋅  ⋅  ⋅  ⋅  ⋅  ⋅  ⋅  1  ⋅  ⋅\n",
       " ⋅  ⋅  ⋅  ⋅  ⋅  ⋅  ⋅  ⋅  1  ⋅\n",
       " ⋅  ⋅  ⋅  ⋅  ⋅  ⋅  ⋅  ⋅  ⋅  1"
      ]
     },
     "execution_count": 48,
     "metadata": {},
     "output_type": "execute_result"
    }
   ],
   "source": [
    "c = sparse(b)"
   ]
  },
  {
   "cell_type": "code",
   "execution_count": 49,
   "metadata": {
    "scrolled": true
   },
   "outputs": [
    {
     "data": {
      "text/plain": [
       "1000000×1000000 SparseMatrixCSC{Float64, Int64} with 99870 stored entries:\n",
       "⎡⣿⣿⣿⣿⣿⣿⣿⣿⣿⣿⣿⣿⣿⣿⣿⣿⣿⣿⣿⣿⣿⣿⣿⣿⣿⣿⣿⣿⣿⣿⣿⣿⣿⣿⣿⣿⣿⣿⣿⣿⎤\n",
       "⎢⣿⣿⣿⣿⣿⣿⣿⣿⣿⣿⣿⣿⣿⣿⣿⣿⣿⣿⣿⣿⣿⣿⣿⣿⣿⣿⣿⣿⣿⣿⣿⣿⣿⣿⣿⣿⣿⣿⣿⣿⎥\n",
       "⎢⣿⣿⣿⣿⣿⣿⣿⣿⣿⣿⣿⣿⣿⣿⣿⣿⣿⣿⣿⣿⣿⣿⣿⣿⣿⣿⣿⣿⣿⣿⣿⣿⣿⣿⣿⣿⣿⣿⣿⣿⎥\n",
       "⎢⣿⣿⣿⣿⣿⣿⣿⣿⣿⣿⣿⣿⣿⣿⣿⣿⣿⣿⣿⣿⣿⣿⣿⣿⣿⣿⣿⣿⣿⣿⣿⣿⣿⣿⣿⣿⣿⣿⣿⣿⎥\n",
       "⎢⣿⣿⣿⣿⣿⣿⣿⣿⣿⣿⣿⣿⣿⣿⣿⣿⣿⣿⣿⣿⣿⣿⣿⣿⣿⣿⣿⣿⣿⣿⣿⣿⣿⣿⣿⣿⣿⣿⣿⣿⎥\n",
       "⎢⣿⣿⣿⣿⣿⣿⣿⣿⣿⣿⣿⣿⣿⣿⣿⣿⣿⣿⣿⣿⣿⣿⣿⣿⣿⣿⣿⣿⣿⣿⣿⣿⣿⣿⣿⣿⣿⣿⣿⣿⎥\n",
       "⎢⣿⣿⣿⣿⣿⣿⣿⣿⣿⣿⣿⣿⣿⣿⣿⣿⣿⣿⣿⣿⣿⣿⣿⣿⣿⣿⣿⣿⣿⣿⣿⣿⣿⣿⣿⣿⣿⣿⣿⣿⎥\n",
       "⎢⣿⣿⣿⣿⣿⣿⣿⣿⣿⣿⣿⣿⣿⣿⣿⣿⣿⣿⣿⣿⣿⣿⣿⣿⣿⣿⣿⣿⣿⣿⣿⣿⣿⣿⣿⣿⣿⣿⣿⣿⎥\n",
       "⎢⣿⣿⣿⣿⣿⣿⣿⣿⣿⣿⣿⣿⣿⣿⣿⣿⣿⣿⣿⣿⣿⣿⣿⣿⣿⣿⣿⣿⣿⣿⣿⣿⣿⣿⣿⣿⣿⣿⣿⣿⎥\n",
       "⎢⣿⣿⣿⣿⣿⣿⣿⣿⣿⣿⣿⣿⣿⣿⣿⣿⣿⣿⣿⣿⣿⣿⣿⣿⣿⣿⣿⣿⣿⣿⣿⣿⣿⣿⣿⣿⣿⣿⣿⣿⎥\n",
       "⎢⣿⣿⣿⣿⣿⣿⣿⣿⣿⣿⣿⣿⣿⣿⣿⣿⣿⣿⣿⣿⣿⣿⣿⣿⣿⣿⣿⣿⣿⣿⣿⣿⣿⣿⣿⣿⣿⣿⣿⣿⎥\n",
       "⎢⣿⣿⣿⣿⣿⣿⣿⣿⣿⣿⣿⣿⣿⣿⣿⣿⣿⣿⣿⣿⣿⣿⣿⣿⣿⣿⣿⣿⣿⣿⣿⣿⣿⣿⣿⣿⣿⣿⣿⣿⎥\n",
       "⎢⣿⣿⣿⣿⣿⣿⣿⣿⣿⣿⣿⣿⣿⣿⣿⣿⣿⣿⣿⣿⣿⣿⣿⣿⣿⣿⣿⣿⣿⣿⣿⣿⣿⣿⣿⣿⣿⣿⣿⣿⎥\n",
       "⎢⣿⣿⣿⣿⣿⣿⣿⣿⣿⣿⣿⣿⣿⣿⣿⣿⣿⣿⣿⣿⣿⣿⣿⣿⣿⣿⣿⣿⣿⣿⣿⣿⣿⣿⣿⣿⣿⣿⣿⣿⎥\n",
       "⎢⣿⣿⣿⣿⣿⣿⣿⣿⣿⣿⣿⣿⣿⣿⣿⣿⣿⣿⣿⣿⣿⣿⣿⣿⣿⣿⣿⣿⣿⣿⣿⣿⣿⣿⣿⣿⣿⣿⣿⣿⎥\n",
       "⎢⣿⣿⣿⣿⣿⣿⣿⣿⣿⣿⣿⣿⣿⣿⣿⣿⣿⣿⣿⣿⣿⣿⣿⣿⣿⣿⣿⣿⣿⣿⣿⣿⣿⣿⣿⣿⣿⣿⣿⣿⎥\n",
       "⎢⣿⣿⣿⣿⣿⣿⣿⣿⣿⣿⣿⣿⣿⣿⣿⣿⣿⣿⣿⣿⣿⣿⣿⣿⣿⣿⣿⣿⣿⣿⣿⣿⣿⣿⣿⣿⣿⣿⣿⣿⎥\n",
       "⎢⣿⣿⣿⣿⣿⣿⣿⣿⣿⣿⣿⣿⣿⣿⣿⣿⣿⣿⣿⣿⣿⣿⣿⣿⣿⣿⣿⣿⣿⣿⣿⣿⣿⣿⣿⣿⣿⣿⣿⣿⎥\n",
       "⎢⣿⣿⣿⣿⣿⣿⣿⣿⣿⣿⣿⣿⣿⣿⣿⣿⣿⣿⣿⣿⣿⣿⣿⣿⣿⣿⣿⣿⣿⣿⣿⣿⣿⣿⣿⣿⣿⣿⣿⣿⎥\n",
       "⎣⣿⣿⣿⣿⣿⣿⣿⣿⣿⣿⣿⣿⣿⣿⣿⣿⣿⣿⣿⣿⣿⣿⣿⣿⣿⣿⣿⣿⣿⣿⣿⣿⣿⣿⣿⣿⣿⣿⣿⣿⎦"
      ]
     },
     "execution_count": 49,
     "metadata": {},
     "output_type": "execute_result"
    }
   ],
   "source": [
    "rr = sprand(1000_000,1000_000,0.000_000_1)"
   ]
  },
  {
   "cell_type": "code",
   "execution_count": 50,
   "metadata": {},
   "outputs": [
    {
     "data": {
      "text/plain": [
       "4.992023180743609e-8"
      ]
     },
     "execution_count": 50,
     "metadata": {},
     "output_type": "execute_result"
    }
   ],
   "source": [
    "using Statistics\n",
    "Statistics.mean(rr)"
   ]
  },
  {
   "cell_type": "code",
   "execution_count": 51,
   "metadata": {},
   "outputs": [
    {
     "data": {
      "text/plain": [
       "1000000×1000000 SparseMatrixCSC{Float64, Int64} with 10050 stored entries:\n",
       "⎡⣒⣺⡴⠳⣸⠲⢿⢼⡾⢙⣫⣒⣶⠷⣻⣶⣼⢿⡵⢟⣽⡮⣳⡾⣾⣿⡷⢫⣷⣥⣿⣳⢾⡖⣿⣎⣷⡿⡷⡦⎤\n",
       "⎢⡼⣿⡿⢫⢶⡽⢊⢿⣬⣛⢷⢿⣾⣟⡫⣾⣟⢯⢞⣿⣿⠷⣿⣻⣾⠯⣾⣯⡵⣦⣿⠿⠗⣶⡺⣾⣿⣟⣷⡟⎥\n",
       "⎢⠛⣯⢺⡦⡾⣷⣿⣵⣖⣝⣜⣿⣿⣾⣿⡯⣏⣿⡋⣾⡿⢳⣵⣿⠽⣽⣿⣭⡿⡏⣗⣽⣬⣿⣍⣿⣧⡩⣧⣞⎥\n",
       "⎢⣾⣹⣿⡡⣽⠿⣾⣧⣼⠻⣻⢷⣞⡏⣿⡿⣿⢮⢿⢺⡷⡯⡿⣿⢻⢻⣟⣿⣻⣹⡛⣴⣿⡞⣿⣽⣩⣮⣏⣇⎥\n",
       "⎢⠋⢿⢳⡱⣩⣿⣷⢷⢿⢄⣩⣽⡻⣿⡿⡫⡿⡟⣯⡷⣿⠷⡿⡿⣯⣳⠼⣯⣫⢿⡟⣿⣯⣟⢻⢿⣯⢛⣷⢨⎥\n",
       "⎢⢺⣫⣽⣹⣾⣽⣿⣿⢯⣻⢻⢟⣻⣝⣗⢟⠻⣻⣯⣫⡶⣵⣝⠶⣿⡿⣟⣧⣗⣦⢵⢾⣾⣻⣗⣿⡻⡿⣿⡯⎥\n",
       "⎢⣼⣧⣽⡏⣷⣿⢏⣿⣿⣿⢾⣗⣍⣏⣷⣚⡖⣿⡶⣿⣕⠝⣿⣾⣷⣽⣩⣞⢿⣿⢽⣿⣿⢿⣽⡇⣭⣿⣿⣿⎥\n",
       "⎢⡹⣏⡊⣾⡻⢤⣛⢿⣇⣿⣽⡎⢾⣯⠶⣿⢿⣾⣿⣿⡺⣿⣻⣓⡟⣞⣟⣯⣿⣽⢵⣱⡿⢻⣓⣼⣣⣯⡾⠏⎥\n",
       "⎢⠼⣝⡽⡧⢳⣿⣯⣹⣗⣬⣣⣾⣟⣜⣫⣿⣡⣿⣝⢪⢟⣾⣾⣶⣗⣿⣿⣯⡿⣲⢭⢜⣓⣿⣿⡿⣾⣽⢿⡧⎥\n",
       "⎢⡒⡽⣿⣝⡙⣵⠗⣷⣿⣿⣻⢞⢛⡷⠇⣷⢷⢱⣯⣿⢽⣯⡝⣺⣻⣚⣚⢧⡿⡽⣮⡿⣷⡿⣷⣯⣹⣿⡦⡝⎥\n",
       "⎢⣿⣗⡛⡾⢽⢮⣿⣿⣲⣿⡻⣮⣿⢾⣶⣿⠺⣸⣷⣻⣿⣷⡿⣻⣻⣿⣮⡥⡾⣿⣿⣼⣾⣶⡿⡿⡿⣾⣷⣷⎥\n",
       "⎢⡵⣛⣿⣽⣾⣿⣻⣦⣿⡾⣯⣾⣖⡻⡼⣷⡾⣺⣛⢽⡿⣻⣜⠿⢗⣽⣛⢿⣸⣿⣽⣮⣿⣿⡹⣽⣮⡿⣻⡔⎥\n",
       "⎢⠿⢿⡿⣟⠾⣻⣽⢯⣿⣿⢟⠿⣿⣻⣿⣷⣪⣝⡟⣿⢽⣮⢃⠮⣿⣌⣿⢏⣻⣾⣾⢾⢟⣿⡿⣻⣽⡟⣿⢟⎥\n",
       "⎢⣻⣿⢟⣿⣺⡦⢽⢷⣯⢹⣽⣽⣿⡾⡿⣿⠻⣿⢷⣽⢿⣿⣷⢛⡳⢿⢿⣷⣟⢻⢾⣑⣛⣵⢽⡿⣳⡃⢻⣟⎥\n",
       "⎢⣳⡻⢧⡟⣿⡾⡺⠿⣟⣿⠾⣲⣷⢽⣯⡿⣿⣭⡿⣿⡿⢲⣻⣿⣯⢺⡷⣧⣹⣿⣟⣿⠿⠿⢿⣹⣦⣹⣗⣾⎥\n",
       "⎢⡹⣙⡿⠿⢩⡷⣍⣪⣯⡻⣿⣽⣿⣿⣷⢷⢹⣟⣙⣽⣟⡝⣿⡳⣯⢹⣸⢿⠭⣟⡅⣟⣿⣈⣿⣟⢫⡽⣍⣯⎥\n",
       "⎢⢯⣿⣍⣻⡻⣶⣷⡯⣛⣞⣞⣿⡯⣷⡽⣯⢿⣭⡹⣿⣝⡦⣿⣿⣿⡬⣽⣿⣟⣭⣝⣾⡿⣿⣿⡿⠬⣭⢢⠯⎥\n",
       "⎢⣺⣪⣺⣾⣮⡷⡮⡏⣿⣿⣻⣿⣷⠧⡵⣷⣹⡮⣷⣝⣾⢿⢷⢟⠏⣷⣭⣿⡞⣾⣛⣝⣩⣾⢦⣽⣿⠿⣼⡯⎥\n",
       "⎢⣋⣟⣚⣾⣛⣿⣿⣯⣿⣺⣯⢿⣿⢿⣽⠽⣿⣟⣿⣺⣿⡽⢷⢿⣿⣽⣿⢟⣿⣽⠿⠛⣸⢿⡯⢽⣟⢛⣿⡻⎥\n",
       "⎣⠸⠯⡿⠽⡖⠏⠿⢿⢗⣿⣗⡳⡷⠷⡿⡿⠯⡟⢯⡾⢯⢫⡵⢟⣞⠷⡯⡿⣛⠿⠼⠿⢽⡿⡣⠾⠯⡾⣽⣍⎦"
      ]
     },
     "execution_count": 51,
     "metadata": {},
     "output_type": "execute_result"
    }
   ],
   "source": [
    "rr2 = sprand(1000_000,1000_000,0.000_000_01)"
   ]
  },
  {
   "cell_type": "code",
   "execution_count": 52,
   "metadata": {},
   "outputs": [
    {
     "data": {
      "text/plain": [
       "1000000×1000000 SparseMatrixCSC{Float64, Int64} with 109920 stored entries:\n",
       "⎡⣿⣿⣿⣿⣿⣿⣿⣿⣿⣿⣿⣿⣿⣿⣿⣿⣿⣿⣿⣿⣿⣿⣿⣿⣿⣿⣿⣿⣿⣿⣿⣿⣿⣿⣿⣿⣿⣿⣿⣿⎤\n",
       "⎢⣿⣿⣿⣿⣿⣿⣿⣿⣿⣿⣿⣿⣿⣿⣿⣿⣿⣿⣿⣿⣿⣿⣿⣿⣿⣿⣿⣿⣿⣿⣿⣿⣿⣿⣿⣿⣿⣿⣿⣿⎥\n",
       "⎢⣿⣿⣿⣿⣿⣿⣿⣿⣿⣿⣿⣿⣿⣿⣿⣿⣿⣿⣿⣿⣿⣿⣿⣿⣿⣿⣿⣿⣿⣿⣿⣿⣿⣿⣿⣿⣿⣿⣿⣿⎥\n",
       "⎢⣿⣿⣿⣿⣿⣿⣿⣿⣿⣿⣿⣿⣿⣿⣿⣿⣿⣿⣿⣿⣿⣿⣿⣿⣿⣿⣿⣿⣿⣿⣿⣿⣿⣿⣿⣿⣿⣿⣿⣿⎥\n",
       "⎢⣿⣿⣿⣿⣿⣿⣿⣿⣿⣿⣿⣿⣿⣿⣿⣿⣿⣿⣿⣿⣿⣿⣿⣿⣿⣿⣿⣿⣿⣿⣿⣿⣿⣿⣿⣿⣿⣿⣿⣿⎥\n",
       "⎢⣿⣿⣿⣿⣿⣿⣿⣿⣿⣿⣿⣿⣿⣿⣿⣿⣿⣿⣿⣿⣿⣿⣿⣿⣿⣿⣿⣿⣿⣿⣿⣿⣿⣿⣿⣿⣿⣿⣿⣿⎥\n",
       "⎢⣿⣿⣿⣿⣿⣿⣿⣿⣿⣿⣿⣿⣿⣿⣿⣿⣿⣿⣿⣿⣿⣿⣿⣿⣿⣿⣿⣿⣿⣿⣿⣿⣿⣿⣿⣿⣿⣿⣿⣿⎥\n",
       "⎢⣿⣿⣿⣿⣿⣿⣿⣿⣿⣿⣿⣿⣿⣿⣿⣿⣿⣿⣿⣿⣿⣿⣿⣿⣿⣿⣿⣿⣿⣿⣿⣿⣿⣿⣿⣿⣿⣿⣿⣿⎥\n",
       "⎢⣿⣿⣿⣿⣿⣿⣿⣿⣿⣿⣿⣿⣿⣿⣿⣿⣿⣿⣿⣿⣿⣿⣿⣿⣿⣿⣿⣿⣿⣿⣿⣿⣿⣿⣿⣿⣿⣿⣿⣿⎥\n",
       "⎢⣿⣿⣿⣿⣿⣿⣿⣿⣿⣿⣿⣿⣿⣿⣿⣿⣿⣿⣿⣿⣿⣿⣿⣿⣿⣿⣿⣿⣿⣿⣿⣿⣿⣿⣿⣿⣿⣿⣿⣿⎥\n",
       "⎢⣿⣿⣿⣿⣿⣿⣿⣿⣿⣿⣿⣿⣿⣿⣿⣿⣿⣿⣿⣿⣿⣿⣿⣿⣿⣿⣿⣿⣿⣿⣿⣿⣿⣿⣿⣿⣿⣿⣿⣿⎥\n",
       "⎢⣿⣿⣿⣿⣿⣿⣿⣿⣿⣿⣿⣿⣿⣿⣿⣿⣿⣿⣿⣿⣿⣿⣿⣿⣿⣿⣿⣿⣿⣿⣿⣿⣿⣿⣿⣿⣿⣿⣿⣿⎥\n",
       "⎢⣿⣿⣿⣿⣿⣿⣿⣿⣿⣿⣿⣿⣿⣿⣿⣿⣿⣿⣿⣿⣿⣿⣿⣿⣿⣿⣿⣿⣿⣿⣿⣿⣿⣿⣿⣿⣿⣿⣿⣿⎥\n",
       "⎢⣿⣿⣿⣿⣿⣿⣿⣿⣿⣿⣿⣿⣿⣿⣿⣿⣿⣿⣿⣿⣿⣿⣿⣿⣿⣿⣿⣿⣿⣿⣿⣿⣿⣿⣿⣿⣿⣿⣿⣿⎥\n",
       "⎢⣿⣿⣿⣿⣿⣿⣿⣿⣿⣿⣿⣿⣿⣿⣿⣿⣿⣿⣿⣿⣿⣿⣿⣿⣿⣿⣿⣿⣿⣿⣿⣿⣿⣿⣿⣿⣿⣿⣿⣿⎥\n",
       "⎢⣿⣿⣿⣿⣿⣿⣿⣿⣿⣿⣿⣿⣿⣿⣿⣿⣿⣿⣿⣿⣿⣿⣿⣿⣿⣿⣿⣿⣿⣿⣿⣿⣿⣿⣿⣿⣿⣿⣿⣿⎥\n",
       "⎢⣿⣿⣿⣿⣿⣿⣿⣿⣿⣿⣿⣿⣿⣿⣿⣿⣿⣿⣿⣿⣿⣿⣿⣿⣿⣿⣿⣿⣿⣿⣿⣿⣿⣿⣿⣿⣿⣿⣿⣿⎥\n",
       "⎢⣿⣿⣿⣿⣿⣿⣿⣿⣿⣿⣿⣿⣿⣿⣿⣿⣿⣿⣿⣿⣿⣿⣿⣿⣿⣿⣿⣿⣿⣿⣿⣿⣿⣿⣿⣿⣿⣿⣿⣿⎥\n",
       "⎢⣿⣿⣿⣿⣿⣿⣿⣿⣿⣿⣿⣿⣿⣿⣿⣿⣿⣿⣿⣿⣿⣿⣿⣿⣿⣿⣿⣿⣿⣿⣿⣿⣿⣿⣿⣿⣿⣿⣿⣿⎥\n",
       "⎣⣿⣿⣿⣿⣿⣿⣿⣿⣿⣿⣿⣿⣿⣿⣿⣿⣿⣿⣿⣿⣿⣿⣿⣿⣿⣿⣿⣿⣿⣿⣿⣿⣿⣿⣿⣿⣿⣿⣿⣿⎦"
      ]
     },
     "execution_count": 52,
     "metadata": {},
     "output_type": "execute_result"
    }
   ],
   "source": [
    "rr_sum = rr .+ rr2"
   ]
  },
  {
   "cell_type": "code",
   "execution_count": 53,
   "metadata": {},
   "outputs": [],
   "source": [
    "using BandedMatrices"
   ]
  },
  {
   "cell_type": "code",
   "execution_count": 54,
   "metadata": {},
   "outputs": [
    {
     "data": {
      "text/plain": [
       "7×7 BandedMatrix{Float64} with bandwidths (0, 0):\n",
       " 1.0   ⋅    ⋅    ⋅    ⋅    ⋅    ⋅ \n",
       "  ⋅   1.0   ⋅    ⋅    ⋅    ⋅    ⋅ \n",
       "  ⋅    ⋅   1.0   ⋅    ⋅    ⋅    ⋅ \n",
       "  ⋅    ⋅    ⋅   1.0   ⋅    ⋅    ⋅ \n",
       "  ⋅    ⋅    ⋅    ⋅   1.0   ⋅    ⋅ \n",
       "  ⋅    ⋅    ⋅    ⋅    ⋅   1.0   ⋅ \n",
       "  ⋅    ⋅    ⋅    ⋅    ⋅    ⋅   1.0"
      ]
     },
     "execution_count": 54,
     "metadata": {},
     "output_type": "execute_result"
    }
   ],
   "source": [
    "BandedMatrix(Ones(7,7), (0,0))"
   ]
  },
  {
   "cell_type": "code",
   "execution_count": 55,
   "metadata": {},
   "outputs": [
    {
     "data": {
      "text/plain": [
       "7×7 BandedMatrix{Float64} with bandwidths (1, 1):\n",
       " 1.0  0.0   ⋅    ⋅    ⋅    ⋅    ⋅ \n",
       " 0.0  1.0  0.0   ⋅    ⋅    ⋅    ⋅ \n",
       "  ⋅   0.0  1.0  0.0   ⋅    ⋅    ⋅ \n",
       "  ⋅    ⋅   0.0  1.0  0.0   ⋅    ⋅ \n",
       "  ⋅    ⋅    ⋅   0.0  1.0  0.0   ⋅ \n",
       "  ⋅    ⋅    ⋅    ⋅   0.0  1.0  0.0\n",
       "  ⋅    ⋅    ⋅    ⋅    ⋅   0.0  1.0"
      ]
     },
     "execution_count": 55,
     "metadata": {},
     "output_type": "execute_result"
    }
   ],
   "source": [
    "a = BandedMatrix(Eye(7), (1,1))"
   ]
  },
  {
   "cell_type": "code",
   "execution_count": 56,
   "metadata": {},
   "outputs": [
    {
     "data": {
      "text/plain": [
       "7×7 BandedMatrix{Float64} with bandwidths (1, 2):\n",
       " 0.0  0.0  0.0   ⋅    ⋅    ⋅    ⋅ \n",
       " 0.0  0.0  0.0  0.0   ⋅    ⋅    ⋅ \n",
       "  ⋅   0.0  0.0  0.0  0.0   ⋅    ⋅ \n",
       "  ⋅    ⋅   0.0  0.0  0.0  0.0   ⋅ \n",
       "  ⋅    ⋅    ⋅   0.0  0.0  0.0  0.0\n",
       "  ⋅    ⋅    ⋅    ⋅   0.0  0.0  0.0\n",
       "  ⋅    ⋅    ⋅    ⋅    ⋅   0.0  0.0"
      ]
     },
     "execution_count": 56,
     "metadata": {},
     "output_type": "execute_result"
    }
   ],
   "source": [
    "BandedMatrix(Zeros(7,7), (1,2))  #BandedMatrix(Zeros(m,n), (l,u))    "
   ]
  },
  {
   "cell_type": "code",
   "execution_count": 57,
   "metadata": {},
   "outputs": [
    {
     "data": {
      "text/plain": [
       "7×7 BandedMatrix{Int64} with bandwidths (1, 0):\n",
       " 1  ⋅   ⋅   ⋅   ⋅   ⋅  ⋅\n",
       " 8  2   ⋅   ⋅   ⋅   ⋅  ⋅\n",
       " ⋅  9   3   ⋅   ⋅   ⋅  ⋅\n",
       " ⋅  ⋅  10   4   ⋅   ⋅  ⋅\n",
       " ⋅  ⋅   ⋅  11   5   ⋅  ⋅\n",
       " ⋅  ⋅   ⋅   ⋅  12   6  ⋅\n",
       " ⋅  ⋅   ⋅   ⋅   ⋅  13  7"
      ]
     },
     "execution_count": 57,
     "metadata": {},
     "output_type": "execute_result"
    }
   ],
   "source": [
    "b = BandedMatrix((0=>1:7,-1=>8:14), (7,7), (1,0))  \n",
    "#BandedMatrix(bands_dict, (n,m), (l,u))   "
   ]
  },
  {
   "cell_type": "code",
   "execution_count": 58,
   "metadata": {},
   "outputs": [
    {
     "data": {
      "text/plain": [
       "7×7 BandedMatrix{Float64} with bandwidths (1, 1):\n",
       " 2.0  0.0    ⋅     ⋅     ⋅     ⋅    ⋅ \n",
       " 8.0  3.0   0.0    ⋅     ⋅     ⋅    ⋅ \n",
       "  ⋅   9.0   4.0   0.0    ⋅     ⋅    ⋅ \n",
       "  ⋅    ⋅   10.0   5.0   0.0    ⋅    ⋅ \n",
       "  ⋅    ⋅     ⋅   11.0   6.0   0.0   ⋅ \n",
       "  ⋅    ⋅     ⋅     ⋅   12.0   7.0  0.0\n",
       "  ⋅    ⋅     ⋅     ⋅     ⋅   13.0  8.0"
      ]
     },
     "execution_count": 58,
     "metadata": {},
     "output_type": "execute_result"
    }
   ],
   "source": [
    "c = a+b"
   ]
  },
  {
   "cell_type": "code",
   "execution_count": 59,
   "metadata": {},
   "outputs": [
    {
     "data": {
      "text/plain": [
       "7×7 BandedMatrix{Float64} with bandwidths (1, 1):\n",
       " 2.0  0.0    ⋅     ⋅      ⋅     ⋅    ⋅ \n",
       " 8.0  3.0   0.0    ⋅      ⋅     ⋅    ⋅ \n",
       "  ⋅   9.0   4.0   0.0     ⋅     ⋅    ⋅ \n",
       "  ⋅    ⋅   10.0   5.0    0.0    ⋅    ⋅ \n",
       "  ⋅    ⋅     ⋅   11.0   99.0   0.0   ⋅ \n",
       "  ⋅    ⋅     ⋅     ⋅   999.0   7.0  0.0\n",
       "  ⋅    ⋅     ⋅     ⋅      ⋅   13.0  8.0"
      ]
     },
     "execution_count": 59,
     "metadata": {},
     "output_type": "execute_result"
    }
   ],
   "source": [
    "c[5,5] = 99\n",
    "c[6,5] = 999\n",
    "c"
   ]
  },
  {
   "cell_type": "code",
   "execution_count": 60,
   "metadata": {},
   "outputs": [
    {
     "data": {
      "text/plain": [
       "10000×10000 BandedMatrix{Float64} with bandwidths (4, 3):\n",
       " 0.717031  0.00970876  0.36922   0.676207   …   ⋅         ⋅         ⋅ \n",
       " 0.524178  0.458799    0.769404  0.0453147      ⋅         ⋅         ⋅ \n",
       " 0.64484   0.24969     0.876344  0.0749038      ⋅         ⋅         ⋅ \n",
       " 0.898134  0.544399    0.505147  0.468312       ⋅         ⋅         ⋅ \n",
       " 0.447232  0.937858    0.918129  0.584957       ⋅         ⋅         ⋅ \n",
       "  ⋅        0.472211    0.725038  0.169458   …   ⋅         ⋅         ⋅ \n",
       "  ⋅         ⋅          0.875969  0.86004        ⋅         ⋅         ⋅ \n",
       "  ⋅         ⋅           ⋅        0.413408       ⋅         ⋅         ⋅ \n",
       "  ⋅         ⋅           ⋅         ⋅             ⋅         ⋅         ⋅ \n",
       "  ⋅         ⋅           ⋅         ⋅             ⋅         ⋅         ⋅ \n",
       "  ⋅         ⋅           ⋅         ⋅         …   ⋅         ⋅         ⋅ \n",
       "  ⋅         ⋅           ⋅         ⋅             ⋅         ⋅         ⋅ \n",
       "  ⋅         ⋅           ⋅         ⋅             ⋅         ⋅         ⋅ \n",
       " ⋮                                          ⋱                      \n",
       "  ⋅         ⋅           ⋅         ⋅             ⋅         ⋅         ⋅ \n",
       "  ⋅         ⋅           ⋅         ⋅             ⋅         ⋅         ⋅ \n",
       "  ⋅         ⋅           ⋅         ⋅         …   ⋅         ⋅         ⋅ \n",
       "  ⋅         ⋅           ⋅         ⋅             ⋅         ⋅         ⋅ \n",
       "  ⋅         ⋅           ⋅         ⋅             ⋅         ⋅         ⋅ \n",
       "  ⋅         ⋅           ⋅         ⋅             ⋅         ⋅         ⋅ \n",
       "  ⋅         ⋅           ⋅         ⋅            0.601123   ⋅         ⋅ \n",
       "  ⋅         ⋅           ⋅         ⋅         …  0.845169  0.991419   ⋅ \n",
       "  ⋅         ⋅           ⋅         ⋅            0.811976  0.670674  0.474065\n",
       "  ⋅         ⋅           ⋅         ⋅            0.318209  0.641995  0.94989\n",
       "  ⋅         ⋅           ⋅         ⋅            0.22135   0.198353  0.664046\n",
       "  ⋅         ⋅           ⋅         ⋅            0.544739  0.733808  0.51824"
      ]
     },
     "execution_count": 60,
     "metadata": {},
     "output_type": "execute_result"
    }
   ],
   "source": [
    "A = brand(10000,10000,4,3)"
   ]
  },
  {
   "cell_type": "code",
   "execution_count": 61,
   "metadata": {},
   "outputs": [
    {
     "data": {
      "text/plain": [
       "10000-element Vector{Float64}:\n",
       " -0.8946805178374083\n",
       "  1.791456844344719\n",
       " -1.006332232770576\n",
       "  0.791271927711156\n",
       " -0.94388977856925\n",
       " -0.5040404487535977\n",
       "  1.1438942503322178\n",
       "  0.9156317592307124\n",
       " -0.35552174058202674\n",
       " -0.6318695191330024\n",
       "  1.5025208196461846\n",
       " -1.4482466971059618\n",
       "  0.17640586952859919\n",
       "  ⋮\n",
       " -0.3754881597565462\n",
       " -0.51204988872086\n",
       " -0.23009357169989553\n",
       "  0.9263014134731414\n",
       "  1.1145981384963324\n",
       " -0.18044177324813834\n",
       "  0.5248468744312341\n",
       "  0.17633316812053937\n",
       "  1.8671731928639776\n",
       " -0.9640139843966083\n",
       " -0.9608403570552534\n",
       " -2.0782487798309455"
      ]
     },
     "execution_count": 61,
     "metadata": {},
     "output_type": "execute_result"
    }
   ],
   "source": [
    "b = randn(10000)"
   ]
  },
  {
   "cell_type": "code",
   "execution_count": 62,
   "metadata": {},
   "outputs": [
    {
     "data": {
      "text/plain": [
       "10000-element Vector{Float64}:\n",
       " -0.46061597769868723\n",
       " -0.9265070327469163\n",
       " -2.013311452629498\n",
       " -0.7506352359068451\n",
       " -0.06983968834709088\n",
       "  1.018277053750206\n",
       " -0.8251580030395005\n",
       "  1.8107551270275635\n",
       " -1.5123515240377137\n",
       " -0.5287396651053948\n",
       " -0.8581073378399161\n",
       " -0.7516150550394638\n",
       " -1.2631999408486454\n",
       "  ⋮\n",
       "  0.1842696379906157\n",
       "  1.5976905287134318\n",
       "  1.0873361557626304\n",
       "  1.33002721957883\n",
       "  1.9513355177555978\n",
       "  2.3502263751233157\n",
       "  0.7054007981349245\n",
       " -0.1342826431395634\n",
       " -1.290661336050847\n",
       " -1.3111973496087521\n",
       "  0.06480040232269113\n",
       " -1.388614621665221"
      ]
     },
     "execution_count": 62,
     "metadata": {},
     "output_type": "execute_result"
    }
   ],
   "source": [
    "A*b  #   Calls optimized matrix*vector routine"
   ]
  },
  {
   "cell_type": "code",
   "execution_count": 63,
   "metadata": {},
   "outputs": [
    {
     "data": {
      "text/plain": [
       "10000×10000 BandedMatrix{Float64} with bandwidths (8, 6):\n",
       " 1.36464  0.471733  0.937361  0.829633  …   ⋅         ⋅         ⋅ \n",
       " 1.40954  0.969943  1.76996   0.789391      ⋅         ⋅         ⋅ \n",
       " 1.58287  1.41727   2.41116   1.11858       ⋅         ⋅         ⋅ \n",
       " 1.98477  1.56936   2.6256    1.52106       ⋅         ⋅         ⋅ \n",
       " 2.24524  1.907     3.07939   1.23695       ⋅         ⋅         ⋅ \n",
       " 1.00182  1.04811   2.15919   1.19748   …   ⋅         ⋅         ⋅ \n",
       " 1.52705  1.3049    2.08748   1.12917       ⋅         ⋅         ⋅ \n",
       " 0.69866  1.18208   1.87358   1.61458       ⋅         ⋅         ⋅ \n",
       " 0.44223  1.29412   2.13079   1.59959       ⋅         ⋅         ⋅ \n",
       "  ⋅       0.175528  0.401125  0.228377      ⋅         ⋅         ⋅ \n",
       "  ⋅        ⋅        0.312613  0.478744  …   ⋅         ⋅         ⋅ \n",
       "  ⋅        ⋅         ⋅        0.267922      ⋅         ⋅         ⋅ \n",
       "  ⋅        ⋅         ⋅         ⋅            ⋅         ⋅         ⋅ \n",
       " ⋮                                      ⋱                      \n",
       "  ⋅        ⋅         ⋅         ⋅            ⋅         ⋅         ⋅ \n",
       "  ⋅        ⋅         ⋅         ⋅            ⋅         ⋅         ⋅ \n",
       "  ⋅        ⋅         ⋅         ⋅        …   ⋅         ⋅         ⋅ \n",
       "  ⋅        ⋅         ⋅         ⋅           0.579612   ⋅         ⋅ \n",
       "  ⋅        ⋅         ⋅         ⋅           1.24427   0.775432   ⋅ \n",
       "  ⋅        ⋅         ⋅         ⋅           1.09257   0.557801  0.27567\n",
       "  ⋅        ⋅         ⋅         ⋅           1.26119   1.1039    0.679625\n",
       "  ⋅        ⋅         ⋅         ⋅        …  1.78903   1.65778   1.57376\n",
       "  ⋅        ⋅         ⋅         ⋅           1.56548   1.86529   1.48994\n",
       "  ⋅        ⋅         ⋅         ⋅           1.88381   1.90089   1.6069\n",
       "  ⋅        ⋅         ⋅         ⋅           1.78658   1.89717   1.11774\n",
       "  ⋅        ⋅         ⋅         ⋅           1.55716   1.85718   1.47509"
      ]
     },
     "execution_count": 63,
     "metadata": {},
     "output_type": "execute_result"
    }
   ],
   "source": [
    "A*A  #   Calls optimized matrix*matrix routine"
   ]
  },
  {
   "cell_type": "code",
   "execution_count": 64,
   "metadata": {},
   "outputs": [
    {
     "name": "stdout",
     "output_type": "stream",
     "text": [
      "  2.290472 seconds (2.51 M allocations: 170.883 MiB, 6.95% gc time, 99.57% compilation time)\n"
     ]
    },
    {
     "data": {
      "text/plain": [
       "10000-element Vector{Float64}:\n",
       "  -9.91674386347239\n",
       " -10.444435524208323\n",
       " -41.59197593049818\n",
       "  32.05223575044192\n",
       "  73.84927967273306\n",
       " -27.812181705093835\n",
       " -88.75981265563105\n",
       "  56.52742402129784\n",
       "  85.06971609320844\n",
       " -79.71545999885285\n",
       " -77.01728811351599\n",
       "   9.002008266490867\n",
       "  59.49522736987263\n",
       "   ⋮\n",
       "   4.779827015270882e10\n",
       "   6.540332502802427e10\n",
       "  -3.116607411863486e10\n",
       "   3.1950751793228928e10\n",
       "  -1.7542419719066235e10\n",
       "   2.534581982521389e10\n",
       "  -5.195472316257162e10\n",
       "  -1.2631042018255177e10\n",
       "   1.4642478006565704e10\n",
       "   5.8643172114918945e10\n",
       "  -3.0952824972707294e10\n",
       "  -1.2727204977828215e10"
      ]
     },
     "execution_count": 64,
     "metadata": {},
     "output_type": "execute_result"
    }
   ],
   "source": [
    "@time A\\b  #   Calls optimized matrix\\vector routine"
   ]
  },
  {
   "cell_type": "markdown",
   "metadata": {},
   "source": [
    "## Optimization models"
   ]
  },
  {
   "cell_type": "code",
   "execution_count": 129,
   "metadata": {
    "scrolled": true
   },
   "outputs": [
    {
     "name": "stdout",
     "output_type": "stream",
     "text": [
      "Min 50 x₁ + 70 x₂\n",
      "Subject to\n",
      " 200 x₁ + 2000 x₂ >= 9000\n",
      " 100 x₁ + 30 x₂ >= 300\n",
      " 9 x₁ + 11 x₂ >= 60\n",
      " x₁ >= 0\n",
      " x₂ >= 0\n",
      "\n"
     ]
    }
   ],
   "source": [
    "using JuMP, HiGHS\n",
    "m = Model(HiGHS.Optimizer)\n",
    "@variable(m,  x₁ >= 0)\n",
    "@variable(m,  x₂ >= 0)\n",
    "@objective(m, Min, 50x₁ + 70x₂)\n",
    "@constraint(m, 200x₁ + 2000*x₂ >= 9000)\n",
    "@constraint(m, 100x₁ +   30x₂ >=  300)\n",
    "@constraint(m, 9x₁   +   11x₂ >=   60)\n",
    "println(m)"
   ]
  },
  {
   "cell_type": "code",
   "execution_count": 66,
   "metadata": {},
   "outputs": [
    {
     "data": {
      "text/plain": [
       "A JuMP Model\n",
       "Minimization problem with:\n",
       "Variables: 2\n",
       "Objective function type: AffExpr\n",
       "`AffExpr`-in-`MathOptInterface.GreaterThan{Float64}`: 3 constraints\n",
       "`VariableRef`-in-`MathOptInterface.GreaterThan{Float64}`: 2 constraints\n",
       "Model mode: AUTOMATIC\n",
       "CachingOptimizer state: EMPTY_OPTIMIZER\n",
       "Solver name: HiGHS\n",
       "Names registered in the model: x₁, x₂"
      ]
     },
     "execution_count": 66,
     "metadata": {},
     "output_type": "execute_result"
    }
   ],
   "source": [
    "m"
   ]
  },
  {
   "cell_type": "code",
   "execution_count": 67,
   "metadata": {
    "scrolled": true
   },
   "outputs": [
    {
     "name": "stdout",
     "output_type": "stream",
     "text": [
      "Running HiGHS 1.5.3 [date: 1970-01-01, git hash: 45a127b78]\n",
      "Copyright (c) 2023 HiGHS under MIT licence terms\n",
      "Presolving model\n",
      "3 rows, 2 cols, 6 nonzeros\n",
      "3 rows, 2 cols, 6 nonzeros\n",
      "Presolve : Reductions: rows 3(-0); columns 2(-0); elements 6(-0) - Not reduced\n",
      "Problem not reduced by presolve: solving the LP\n",
      "Using EKK dual simplex solver - serial\n",
      "  Iteration        Objective     Infeasibilities num(sum)\n",
      "          0     0.0000000000e+00 Pr: 3(2205) 0s\n",
      "          2     3.8814432990e+02 Pr: 0(0) 0s\n",
      "Model   status      : Optimal\n",
      "Simplex   iterations: 2\n",
      "Objective value     :  3.8814432990e+02\n",
      "HiGHS run time      :          0.02\n"
     ]
    }
   ],
   "source": [
    "optimize!(m)"
   ]
  },
  {
   "cell_type": "code",
   "execution_count": 68,
   "metadata": {},
   "outputs": [
    {
     "data": {
      "text/plain": [
       "1.7010309278350515"
      ]
     },
     "execution_count": 68,
     "metadata": {},
     "output_type": "execute_result"
    }
   ],
   "source": [
    "value(x₁)\n"
   ]
  },
  {
   "cell_type": "code",
   "execution_count": 69,
   "metadata": {
    "scrolled": true
   },
   "outputs": [
    {
     "data": {
      "text/plain": [
       "AffExpr\u001b[90m (alias for \u001b[39m\u001b[90mGenericAffExpr{Float64, GenericVariableRef{Float64}}\u001b[39m\u001b[90m)\u001b[39m"
      ]
     },
     "execution_count": 69,
     "metadata": {},
     "output_type": "execute_result"
    }
   ],
   "source": [
    "typeof(x₁ + 4x₂)"
   ]
  },
  {
   "cell_type": "code",
   "execution_count": 70,
   "metadata": {},
   "outputs": [
    {
     "data": {
      "text/latex": [
       "$ 8 x₁ + x₂ $"
      ],
      "text/plain": [
       "8 x₁ + x₂"
      ]
     },
     "execution_count": 70,
     "metadata": {},
     "output_type": "execute_result"
    }
   ],
   "source": [
    "4x₁ + 4x₁ + x₂"
   ]
  },
  {
   "cell_type": "code",
   "execution_count": 71,
   "metadata": {},
   "outputs": [
    {
     "data": {
      "text/plain": [
       "2-element Vector{Float64}:\n",
       " 1.7010309278350515\n",
       " 4.329896907216495"
      ]
     },
     "execution_count": 71,
     "metadata": {},
     "output_type": "execute_result"
    }
   ],
   "source": [
    "value.([x₁,x₂])"
   ]
  },
  {
   "cell_type": "code",
   "execution_count": 136,
   "metadata": {},
   "outputs": [],
   "source": [
    "# Others solvers can be used such as the comercial Gurobi\n",
    "# using Gurobi\n",
    "# m = Model(Gurobi.Optimizer)"
   ]
  },
  {
   "cell_type": "markdown",
   "metadata": {},
   "source": [
    "The same model as above but now the decision variables are expected to be integers"
   ]
  },
  {
   "cell_type": "code",
   "execution_count": 137,
   "metadata": {},
   "outputs": [
    {
     "name": "stdout",
     "output_type": "stream",
     "text": [
      "Min 50 x₁ + 70 x₂\n",
      "Subject to\n",
      " 200 x₁ + 2000 x₂ >= 9000\n",
      " 100 x₁ + 30 x₂ >= 300\n",
      " 9 x₁ + 11 x₂ >= 60\n",
      " x₁ >= 0\n",
      " x₂ >= 0\n",
      " x₁ <= 100\n",
      " x₂ <= 110\n",
      " x₁ integer\n",
      " x₂ integer\n",
      "\n"
     ]
    }
   ],
   "source": [
    "m = Model(HiGHS.Optimizer)\n",
    "@variable(m, 100 >= x₁ >= 0, Int)\n",
    "@variable(m, 110 >= x₂ >= 0, Int)\n",
    "@objective(m, Min, 50x₁ + 70x₂)\n",
    "@constraint(m, 200x₁ + 2000x₂ >= 9000)\n",
    "@constraint(m, 100x₁ +   30x₂ >=  300)\n",
    "@constraint(m, 9x₁   +   11x₂ >=   60)\n",
    "println(m)"
   ]
  },
  {
   "cell_type": "code",
   "execution_count": 138,
   "metadata": {},
   "outputs": [
    {
     "name": "stdout",
     "output_type": "stream",
     "text": [
      "Running HiGHS 1.5.3 [date: 1970-01-01, git hash: 45a127b78]\n",
      "Copyright (c) 2023 HiGHS under MIT licence terms\n",
      "Presolving model\n",
      "3 rows, 2 cols, 6 nonzeros\n",
      "3 rows, 2 cols, 6 nonzeros\n",
      "Objective function is integral with scale 0.1\n",
      "\n",
      "Solving MIP model with:\n",
      "   3 rows\n",
      "   2 cols (0 binary, 2 integer, 0 implied int., 0 continuous)\n",
      "   6 nonzeros\n",
      "\n",
      "        Nodes      |    B&B Tree     |            Objective Bounds              |  Dynamic Constraints |       Work      \n",
      "     Proc. InQueue |  Leaves   Expl. | BestBound       BestSol              Gap |   Cuts   InLp Confl. | LpIters     Time\n",
      "\n",
      "         0       0         0   0.00%   0               inf                  inf        0      0      0         0     0.0s\n",
      "\n",
      "Solving report\n",
      "  Status            Optimal\n",
      "  Primal bound      450\n",
      "  Dual bound        450\n",
      "  Gap               0% (tolerance: 0.01%)\n",
      "  Solution status   feasible\n",
      "                    450 (objective)\n",
      "                    0 (bound viol.)\n",
      "                    0 (int. viol.)\n",
      "                    0 (row viol.)\n",
      "  Timing            0.00 (total)\n",
      "                    0.00 (presolve)\n",
      "                    0.00 (postsolve)\n",
      "  Nodes             1\n",
      "  LP iterations     2 (total)\n",
      "                    0 (strong br.)\n",
      "                    0 (separation)\n",
      "                    0 (heuristics)\n"
     ]
    }
   ],
   "source": [
    "optimize!(m)\n"
   ]
  },
  {
   "cell_type": "code",
   "execution_count": 139,
   "metadata": {},
   "outputs": [
    {
     "data": {
      "text/plain": [
       "2-element Vector{Float64}:\n",
       " 2.0\n",
       " 5.0"
      ]
     },
     "execution_count": 139,
     "metadata": {},
     "output_type": "execute_result"
    }
   ],
   "source": [
    "value.([x₁,x₂])"
   ]
  },
  {
   "cell_type": "code",
   "execution_count": 140,
   "metadata": {},
   "outputs": [
    {
     "data": {
      "text/plain": [
       "2-element Vector{Int64}:\n",
       " 2\n",
       " 5"
      ]
     },
     "execution_count": 140,
     "metadata": {},
     "output_type": "execute_result"
    }
   ],
   "source": [
    "#1.9999999999999\n",
    "round.(Int, value.([x₁,x₂]))"
   ]
  },
  {
   "cell_type": "markdown",
   "metadata": {},
   "source": [
    "What are those `@` macros we are seeing around?"
   ]
  },
  {
   "cell_type": "code",
   "execution_count": 77,
   "metadata": {
    "scrolled": true
   },
   "outputs": [
    {
     "data": {
      "text/plain": [
       ":(x = 5)"
      ]
     },
     "execution_count": 77,
     "metadata": {},
     "output_type": "execute_result"
    }
   ],
   "source": [
    "code = Meta.parse(\"x=5\")"
   ]
  },
  {
   "cell_type": "code",
   "execution_count": 78,
   "metadata": {},
   "outputs": [
    {
     "name": "stdout",
     "output_type": "stream",
     "text": [
      "Expr\n",
      "  head: Symbol =\n",
      "  args: Array{Any}((2,))\n",
      "    1: Symbol x\n",
      "    2: Int64 5\n"
     ]
    }
   ],
   "source": [
    "dump(code)"
   ]
  },
  {
   "cell_type": "code",
   "execution_count": 79,
   "metadata": {},
   "outputs": [
    {
     "data": {
      "text/plain": [
       ":somysymbolname"
      ]
     },
     "execution_count": 79,
     "metadata": {},
     "output_type": "execute_result"
    }
   ],
   "source": [
    ":somysymbolname"
   ]
  },
  {
   "cell_type": "code",
   "execution_count": 80,
   "metadata": {},
   "outputs": [
    {
     "name": "stdout",
     "output_type": "stream",
     "text": [
      "Expr\n",
      "  head: Symbol =\n",
      "  args: Array{Any}((2,))\n",
      "    1: Symbol x\n",
      "    2: Int64 5\n"
     ]
    }
   ],
   "source": [
    "dump(code)"
   ]
  },
  {
   "cell_type": "code",
   "execution_count": 81,
   "metadata": {},
   "outputs": [
    {
     "data": {
      "text/plain": [
       "5"
      ]
     },
     "execution_count": 81,
     "metadata": {},
     "output_type": "execute_result"
    }
   ],
   "source": [
    "eval(code)"
   ]
  },
  {
   "cell_type": "code",
   "execution_count": 82,
   "metadata": {},
   "outputs": [
    {
     "data": {
      "text/plain": [
       "5"
      ]
     },
     "execution_count": 82,
     "metadata": {},
     "output_type": "execute_result"
    }
   ],
   "source": [
    "x"
   ]
  },
  {
   "cell_type": "code",
   "execution_count": 83,
   "metadata": {},
   "outputs": [
    {
     "data": {
      "text/plain": [
       "@sayhello (macro with 1 method)"
      ]
     },
     "execution_count": 83,
     "metadata": {},
     "output_type": "execute_result"
    }
   ],
   "source": [
    "macro sayhello(name)\n",
    "    println(\"Code is being generated\")\n",
    "    return :( println(\"Hello, \", $name) )\n",
    "end"
   ]
  },
  {
   "cell_type": "code",
   "execution_count": 84,
   "metadata": {},
   "outputs": [
    {
     "name": "stdout",
     "output_type": "stream",
     "text": [
      "Code is being generated\n",
      "Hello, John\n"
     ]
    }
   ],
   "source": [
    "@sayhello(\"John\")"
   ]
  },
  {
   "cell_type": "code",
   "execution_count": 85,
   "metadata": {},
   "outputs": [
    {
     "name": "stdout",
     "output_type": "stream",
     "text": [
      "Code is being generated\n",
      "Hello, John\n",
      "  0.000393 seconds (26 allocations: 1024 bytes)\n"
     ]
    }
   ],
   "source": [
    "@time @sayhello(\"John\")"
   ]
  },
  {
   "cell_type": "code",
   "execution_count": 86,
   "metadata": {
    "scrolled": true
   },
   "outputs": [
    {
     "name": "stdout",
     "output_type": "stream",
     "text": [
      "Code is being generated\n"
     ]
    },
    {
     "data": {
      "text/plain": [
       ":(Main.println(\"Hello, \", \"John\"))"
      ]
     },
     "execution_count": 86,
     "metadata": {},
     "output_type": "execute_result"
    }
   ],
   "source": [
    "@macroexpand @sayhello(\"John\")"
   ]
  },
  {
   "cell_type": "code",
   "execution_count": 87,
   "metadata": {},
   "outputs": [
    {
     "name": "stdout",
     "output_type": "stream",
     "text": [
      "Code is being generated\n",
      "Main.println(\"Hello, \", \"John\")\n"
     ]
    }
   ],
   "source": [
    "println(@macroexpand @sayhello(\"John\"))"
   ]
  },
  {
   "cell_type": "code",
   "execution_count": 88,
   "metadata": {},
   "outputs": [
    {
     "name": "stdout",
     "output_type": "stream",
     "text": [
      "Code is being generated\n",
      "Hello, John\n"
     ]
    }
   ],
   "source": [
    "@sayhello(\"John\")"
   ]
  },
  {
   "cell_type": "code",
   "execution_count": 89,
   "metadata": {},
   "outputs": [
    {
     "name": "stdout",
     "output_type": "stream",
     "text": [
      "begin\n",
      "    \u001b[90m#= In[89]:1 =#\u001b[39m\n",
      "    JuMP._valid_model(m, :m)\n",
      "    begin\n",
      "        \u001b[90m#= c:\\JuliaPkg\\Julia-1.9.3\\packages\\JuMP\\OUdu2\\src\\macros.jl:128 =#\u001b[39m\n",
      "        JuMP._error_if_cannot_register(m, :x₁)\n",
      "        \u001b[90m#= c:\\JuliaPkg\\Julia-1.9.3\\packages\\JuMP\\OUdu2\\src\\macros.jl:136 =#\u001b[39m\n",
      "        var\"#117###340\" = begin\n",
      "                \u001b[90m#= c:\\JuliaPkg\\Julia-1.9.3\\packages\\JuMP\\OUdu2\\src\\macros.jl:1210 =#\u001b[39m\n",
      "                let m = m\n",
      "                    \u001b[90m#= c:\\JuliaPkg\\Julia-1.9.3\\packages\\JuMP\\OUdu2\\src\\macros.jl:1211 =#\u001b[39m\n",
      "                    JuMP.add_variable(m, JuMP.model_convert(m, JuMP.build_variable(JuMP.var\"#_error#115\"{LineNumberNode}(:(\u001b[90m#= In[89]:1 =#\u001b[39m), Core.Box((:m, :(x₁ >= 0)))), JuMP.VariableInfo(true, 0, false, NaN, false, NaN, false, NaN, false, false))), if JuMP.set_string_names_on_creation(m)\n",
      "                            \"x₁\"\n",
      "                        else\n",
      "                            \"\"\n",
      "                        end)\n",
      "                end\n",
      "            end\n",
      "        \u001b[90m#= c:\\JuliaPkg\\Julia-1.9.3\\packages\\JuMP\\OUdu2\\src\\macros.jl:137 =#\u001b[39m\n",
      "        m[:x₁] = var\"#117###340\"\n",
      "        \u001b[90m#= c:\\JuliaPkg\\Julia-1.9.3\\packages\\JuMP\\OUdu2\\src\\macros.jl:143 =#\u001b[39m\n",
      "        x₁ = var\"#117###340\"\n",
      "    end\n",
      "end\n"
     ]
    }
   ],
   "source": [
    "println(@macroexpand @variable(m, x₁ >= 0));"
   ]
  },
  {
   "cell_type": "code",
   "execution_count": 90,
   "metadata": {},
   "outputs": [],
   "source": [
    "using Calculus"
   ]
  },
  {
   "cell_type": "code",
   "execution_count": 91,
   "metadata": {},
   "outputs": [
    {
     "data": {
      "text/plain": [
       ":(sin(x) + x * x + 5x)"
      ]
     },
     "execution_count": 91,
     "metadata": {},
     "output_type": "execute_result"
    }
   ],
   "source": [
    "Meta.parse(\"(sin(x) + x*x+5x)\")"
   ]
  },
  {
   "cell_type": "code",
   "execution_count": 92,
   "metadata": {},
   "outputs": [
    {
     "name": "stdout",
     "output_type": "stream",
     "text": [
      ":(sin(x) + x * x + 5x)\n",
      "├─ :+\n",
      "├─ :(sin(x))\n",
      "│  ├─ :sin\n",
      "│  └─ :x\n",
      "├─ :(x * x)\n",
      "│  ├─ :*\n",
      "│  ├─ :x\n",
      "│  └─ :x\n",
      "└─ :(5x)\n",
      "   ├─ :*\n",
      "   ├─ 5\n",
      "   └─ :x\n"
     ]
    }
   ],
   "source": [
    "using AbstractTrees\n",
    "AbstractTrees.print_tree(:(sin(x) + x*x+5x))"
   ]
  },
  {
   "cell_type": "code",
   "execution_count": 93,
   "metadata": {
    "scrolled": true
   },
   "outputs": [
    {
     "data": {
      "text/plain": [
       ":(1 * cos(x) + (1x + x * 1) + (0 * x + 5 * 1))"
      ]
     },
     "execution_count": 93,
     "metadata": {},
     "output_type": "execute_result"
    }
   ],
   "source": [
    "differentiate(:(sin(x) + x*x+5x))"
   ]
  },
  {
   "cell_type": "markdown",
   "metadata": {},
   "source": [
    "### Subway optimization"
   ]
  },
  {
   "cell_type": "code",
   "execution_count": 94,
   "metadata": {},
   "outputs": [],
   "source": [
    "using JuMP, HiGHS\n",
    "using DelimitedFiles"
   ]
  },
  {
   "cell_type": "code",
   "execution_count": 95,
   "metadata": {},
   "outputs": [],
   "source": [
    "S = 18   # number of warehouses\n",
    "D = 100  # number of restaurants\n",
    "supply = fill(100,S)\n",
    "demand = fill(15,D);"
   ]
  },
  {
   "cell_type": "code",
   "execution_count": 96,
   "metadata": {},
   "outputs": [],
   "source": [
    "dat=\"\"\"21328\t7901\t16774\t24413\t14131\t21551\t15742\t21091\t25167\t3266\t19312\t14878\t22914\t18392\t14514\t21072\t11535\t12965\t12952\t12952\t15839\t27836\t16816\t13527\t13769\t4924\t23891\t26532\t10245\t15446\t16834\t11421\t27231\t20285\t25810\t12477\t16499\t26958\t23770\t32327\t23572\t26475\t23894\t2054\t22156\t28491\t2392\t21051\t18793\t14598\t9413\t8004\t14286\t8717\t24919\t27581\t21829\t26135\t33450\t4905\t18558\t23046\t9212\t20923\t6426\t20020\t24644\t10862\t12351\t16446\t7751\t19819\t17406\t16768\t9319\t17584\t8191\t18776\t22432\t20389\t25377\t3129\t22425\t6899\t16830\t12305\t3393\t24579\t16727\t21086\t30660\t26999\t29664\t26436\t26138\t28183\t20874\t30143\t30419\t29718\n",
    "5195\t15055\t4216\t9295\t6050\t4779\t3641\t15102\t8395\t16829\t5224\t3595\t14177\t1684\t2753\t4300\t5469\t4233\t3962\t3962\t3039\t13176\t12595\t4764\t5428\t12767\t7119\t11115\t6960\t1597\t1173\t5848\t26351\t10941\t19927\t7174\t13542\t11015\t6998\t18198\t18270\t9703\t7376\t15867\t21981\t12387\t19029\t6936\t9170\t15206\t7748\t8933\t11906\t12823\t24031\t21698\t8083\t11432\t18205\t18548\t17558\t25919\t10027\t7178\t10521\t19897\t29294\t15136\t13659\t10764\t18656\t7135\t9574\t19550\t13973\t11620\t17524\t10944\t9910\t9940\t26373\t13762\t11058\t16154\t22702\t19728\t14022\t13212\t4280\t7563\t22298\t13152\t15728\t12308\t17068\t19554\t12880\t16313\t18674\t20915\n",
    "24025\t13295\t22003\t22254\t20379\t26418\t22859\t10495\t28761\t12735\t29656\t23437\t36220\t24616\t24042\t28477\t24395\t24758\t25121\t25121\t26548\t22646\t30633\t22842\t26491\t16326\t27452\t24373\t23067\t25325\t26551\t21542\t15677\t33471\t14651\t19634\t30316\t26735\t29375\t24969\t12413\t28023\t29753\t17066\t10602\t28267\t17790\t19925\t31979\t11657\t20017\t21593\t15001\t22657\t12101\t16422\t32830\t33810\t28260\t19918\t7961\t10227\t17414\t32204\t20070\t8789\t9898\t25254\t26654\t15742\t22269\t18946\t30636\t6105\t14423\t31182\t22709\t32007\t34792\t15723\t12559\t17643\t34786\t12754\t2900\t26823\t15171\t36939\t28008\t19237\t19501\t18955\t20687\t20740\t15099\t17024\t13131\t22051\t19380\t18559\n",
    "22508\t22014\t17954\t25593\t16490\t22230\t16922\t24989\t25524\t22994\t19299\t15807\t6155\t19098\t15443\t21468\t12730\t13765\t13698\t13698\t16518\t29016\t5152\t14712\t12407\t19272\t24570\t27712\t12077\t16125\t17442\t13516\t36239\t9317\t29815\t14836\t4483\t28138\t23911\t33506\t28157\t27086\t24005\t18712\t31869\t29670\t18413\t22231\t11140\t22962\t14736\t13031\t19351\t12074\t33919\t31585\t16632\t23191\t34630\t15865\t26772\t35807\t17273\t14708\t14646\t29784\t39182\t9608\t8373\t18948\t12547\t20876\t8411\t28622\t21042\t6315\t12007\t7728\t12270\t22466\t36261\t17719\t9635\t23113\t31385\t8204\t20527\t7661\t15899\t22181\t34494\t28057\t30721\t27616\t29264\t31749\t23716\t31201\t32314\t33111\n",
    "12913\t5006\t10217\t14089\t7574\t15206\t10375\t9595\t18453\t9762\t18403\t10736\t23395\t12829\t11221\t17256\t11328\t11937\t12300\t12300\t13779\t17052\t17405\t10020\t13666\t7932\t17144\t16209\t9839\t13158\t14563\t8314\t17138\t20646\t14521\t6406\t17088\t16684\t19067\t21542\t12283\t17714\t19445\t11789\t12768\t18217\t15071\t10777\t19154\t2717\t6596\t8172\t2025\t9318\t14805\t16292\t20943\t23502\t22666\t14640\t7256\t16706\t3917\t20037\t6821\t10026\t20081\t11915\t13233\t4235\t14855\t9053\t17812\t8378\t3697\t18089\t14029\t19182\t22625\t8169\t17147\t9683\t22619\t6321\t11174\t17884\t9520\t24772\t15841\t10116\t19371\t16003\t18668\t15652\t14502\t16894\t8883\t19148\t18556\t18349\n",
    "6281\t16514\t5753\t10410\t7509\t5795\t5099\t16782\t9308\t18288\t3312\t4999\t12625\t2798\t4158\t5230\t4648\t3949\t3341\t3341\t2010\t14262\t11741\t5686\t4491\t14172\t8135\t12202\t6139\t1903\t833\t7252\t28032\t9390\t21608\t8633\t12688\t12061\t7800\t19313\t19950\t10719\t7894\t15046\t23662\t13403\t18173\t8050\t7618\t16665\t9152\t8112\t13364\t11967\t25712\t23378\t6171\t10135\t19220\t17692\t19239\t27600\t11486\t5266\t9700\t21577\t30975\t14265\t12788\t12222\t17785\t8823\t8548\t21230\t15432\t10622\t16653\t9685\t7998\t11620\t28054\t12940\t9507\t17612\t24382\t18873\t15427\t11660\t3003\t8736\t23737\t14267\t16842\t13422\t18513\t21173\t14561\t17427\t19876\t22534\n",
    "4656\t19128\t9008\t4124\t11894\t5115\t10216\t15084\t4473\t23560\t7924\t11296\t21642\t8036\t12133\t5794\t14532\t13370\t13273\t13273\t12492\t5169\t21810\t12436\t14643\t21431\t3145\t2102\t16062\t11050\t9979\t14704\t26333\t18420\t19909\t13545\t22757\t1361\t5712\t10225\t18252\t3044\t6090\t24906\t21963\t2893\t28161\t5968\t16648\t16074\t16577\t18035\t13324\t21984\t24014\t21680\t11094\t10146\t8657\t27685\t17540\t25902\t17061\t12978\t19586\t19879\t29276\t24306\t22830\t12163\t27827\t7636\t18788\t19532\t17819\t20835\t26694\t20159\t15710\t9922\t26355\t22801\t18447\t20443\t22684\t28942\t22852\t20547\t13660\t6657\t21239\t9808\t12248\t7988\t16401\t19061\t12862\t10557\t16997\t20422\n",
    "16446\t6905\t14412\t14675\t11772\t18839\t14588\t7393\t21182\t11243\t22077\t14949\t27612\t17024\t15434\t20898\t15787\t16151\t16513\t16513\t17993\t16064\t22025\t14234\t17883\t9936\t19873\t16795\t14459\t17371\t18776\t12934\t14600\t24863\t12201\t11026\t21708\t19156\t21796\t20555\t9963\t20444\t22174\t13463\t10230\t20688\t16645\t12347\t23371\t2861\t11340\t12916\t6325\t14030\t12267\t13972\t25156\t26231\t21678\t16314\t4936\t12206\t8733\t24250\t11443\t6518\t15339\t16627\t17978\t7135\t16968\t11368\t22029\t3256\t5796\t22574\t17408\t23399\t26839\t8145\t14538\t11797\t26832\t8220\t6019\t21522\t11470\t28986\t20054\t11658\t17050\t15108\t17399\t14664\t12468\t14574\t6924\t18252\t16749\t16109\n",
    "12070\t11940\t10048\t10299\t8061\t14463\t10878\t2839\t16806\t16286\t17701\t11239\t23901\t12661\t11724\t16522\t12122\t12440\t12803\t12803\t14282\t11080\t18749\t10523\t14172\t14959\t15497\t12419\t11183\t13370\t14597\t9658\t14089\t21152\t7665\t7700\t18432\t14780\t17420\t15539\t6007\t16068\t17798\t18505\t9719\t16312\t21688\t7971\t19661\t5094\t10528\t12139\t5548\t16015\t11769\t9435\t20875\t21855\t16694\t21357\t5295\t13657\t10644\t20249\t13538\t7634\t17032\t18604\t17127\t3353\t21847\t6992\t18318\t7287\t10724\t18909\t20725\t19688\t22837\t3769\t14111\t16676\t22831\t13254\t10342\t24395\t16513\t24984\t16053\t7282\t12491\t9848\t12040\t9648\t7426\t9830\t1565\t12993\t11480\t11273\n",
    "10329\t23462\t13628\t6311\t16247\t10788\t14836\t14910\t7331\t27913\t13481\t15916\t27214\t13710\t16784\t11351\t19112\t17990\t17893\t17893\t18028\t2647\t26430\t16997\t19262\t25789\t8815\t4323\t20625\t16722\t15636\t19217\t26160\t23992\t19703\t17898\t27377\t4669\t9312\t5419\t18078\t5880\t9548\t29264\t21790\t5165\t32546\t9541\t22221\t17837\t20935\t22545\t17686\t26421\t23840\t21156\t16651\t13619\t3334\t32102\t17366\t25728\t21419\t18550\t23944\t19705\t29103\t28886\t27409\t15635\t32264\t11041\t23408\t19358\t22153\t25455\t31131\t24779\t21282\t11857\t26182\t27159\t24019\t24777\t22510\t33562\t27210\t26120\t19317\t9710\t19225\t7343\t9606\t5523\t14848\t17430\t12203\t7915\t14982\t18439\n",
    "9046\t7229\t6350\t10918\t3587\t11339\t6397\t7802\t14626\t11985\t14424\t6758\t19420\t8962\t7243\t13389\t7493\t7959\t8322\t8322\t9801\t14306\t13857\t6042\t9691\t10151\t13317\t13037\t6291\t9180\t10585\t4767\t19051\t16671\t12628\t2808\t13541\t13463\t15240\t18797\t10970\t13888\t15618\t13923\t14681\t14996\t17205\t7556\t15180\t6200\t5636\t7247\t2636\t11123\t16732\t14398\t16964\t19675\t19921\t16774\t9996\t18620\t5807\t16059\t8646\t12597\t21994\t13712\t12236\t1761\t16966\t5969\t13837\t11847\t5920\t14279\t15834\t15208\t18647\t5814\t19073\t11817\t18641\t8544\t14609\t19504\t11740\t20794\t11863\t7254\t17377\t13258\t15923\t12907\t12147\t14632\t6528\t16403\t16201\t15994\n",
    "4657\t14007\t4438\t3771\t6792\t7050\t5646\t9018\t9393\t18458\t10288\t6726\t19802\t5879\t7594\t9109\t9647\t8800\t8703\t8703\t8838\t7010\t17078\t7532\t10073\t16334\t8084\t5890\t11170\t7533\t8037\t9762\t20267\t16877\t13843\t8443\t18024\t7499\t10007\t11501\t12186\t8655\t10385\t19810\t15897\t9032\t23092\t475\t15105\t10063\t11480\t13090\t8130\t16966\t17948\t15614\t13462\t14442\t12625\t22647\t11474\t19836\t11964\t13509\t14489\t13813\t23210\t19421\t17945\t6236\t22809\t1641\t14219\t13466\t12699\t15994\t21677\t15589\t16241\t3856\t20289\t17704\t16993\t15322\t16618\t24210\t17755\t19147\t10215\t239\t15528\t6455\t8962\t5611\t10304\t12964\t6796\t9616\t11742\t14325\n",
    "16168\t26420\t17376\t13468\t19205\t18438\t18584\t14330\t20479\t30871\t21676\t19664\t32739\t18651\t20532\t20497\t22329\t21738\t21641\t21641\t21776\t11708\t29491\t20520\t23011\t28747\t19444\t14693\t23583\t20470\t20809\t22175\t13538\t29815\t9415\t20856\t30437\t17221\t21396\t8872\t12092\t19047\t21773\t32223\t13988\t18752\t35504\t13302\t28043\t20840\t23893\t25503\t20740\t29379\t14349\t9468\t24851\t25830\t16745\t35060\t16582\t17173\t24377\t25029\t26902\t15501\t19174\t31968\t30491\t18559\t35222\t13999\t27156\t18554\t25111\t28487\t34089\t28527\t27761\t14815\t16400\t30117\t29931\t27735\t21545\t36623\t30168\t32085\t23153\t13264\t6197\t7925\t4260\t9841\t9124\t7119\t14589\t5954\t5049\t5752\n",
    "3485\t11419\t1299\t6632\t4185\t5779\t2507\t10988\t9414\t15851\t9008\t3586\t16662\t3402\t4455\t7829\t6823\t5661\t5564\t5564\t5416\t10055\t14101\t4742\t6933\t13733\t8106\t8751\t8353\t4111\t5337\t6995\t22238\t13455\t15814\t5836\t15048\t8923\t10029\t14546\t14156\t8763\t10407\t17212\t17868\t10455\t20452\t3270\t11683\t11254\t8883\t10326\t7960\t14275\t19918\t17585\t11895\t14463\t15669\t19976\t13445\t21806\t9362\t10990\t11892\t15784\t25181\t16597\t15121\t6811\t20117\t2917\t11079\t15437\t10110\t13126\t18985\t12450\t13578\t5827\t22260\t15107\t13572\t12733\t18588\t21233\t15158\t15725\t6794\t3345\t18185\t9500\t12007\t8655\t12955\t15440\t8767\t12661\t14455\t16802\n",
    "20790\t9466\t18768\t19019\t16388\t23183\t19204\t8048\t25526\t11781\t26421\t19566\t32228\t21381\t20050\t25242\t20403\t20767\t21130\t21130\t22609\t19411\t26641\t18850\t22499\t12497\t24217\t21138\t19075\t21988\t23316\t17550\t14121\t29479\t12701\t15643\t26324\t23500\t26140\t22523\t10462\t24788\t26518\t14435\t9046\t25032\t17184\t16690\t27988\t7647\t16008\t17583\t10992\t18647\t11810\t14471\t29595\t30575\t25025\t17287\t5515\t9936\t13405\t28867\t16060\t6910\t13069\t21244\t22645\t11751\t19529\t15711\t26645\t3659\t10414\t27190\t19969\t28015\t31455\t12488\t12268\t14358\t31448\t9386\t3721\t24083\t12443\t33602\t24671\t16002\t17550\t16509\t18607\t17505\t13028\t15073\t9896\t19605\t17309\t16608\n",
    "5209\t18274\t7514\t9447\t9270\t4512\t6860\t18543\t7991\t20049\t1770\t6760\t12619\t4480\t5919\t3913\t6409\t5710\t5102\t5102\t3771\t13094\t13449\t7447\t6252\t15933\t6849\t11034\t7900\t3664\t2533\t9013\t29793\t9396\t23369\t10394\t14396\t10775\t6403\t19042\t21711\t9433\t6497\t16807\t25423\t12117\t19933\t9297\t7625\t18426\t10913\t9872\t15125\t13727\t27473\t25139\t4829\t8593\t17935\t19453\t20999\t29361\t13247\t3955\t11460\t23338\t32736\t15967\t14491\t13983\t19488\t10504\t10133\t22991\t17193\t12207\t18355\t11270\t6687\t13381\t29815\t14701\t9423\t19373\t26143\t20582\t17188\t11524\t4764\t9986\t25177\t14146\t17374\t13177\t20016\t22675\t16322\t17157\t20935\t24036\n",
    "11294\t12965\t9272\t9523\t8056\t13686\t10128\t2354\t16029\t17305\t16925\t10705\t23655\t11884\t11574\t15745\t12558\t12435\t12683\t12683\t13816\t9914\t19729\t10518\t13926\t15996\t14721\t11642\t12295\t12593\t13820\t10771\t13604\t20906\t7180\t8812\t19545\t14003\t16644\t14373\t5522\t15291\t17022\t19525\t9234\t15536\t22708\t7194\t19415\t6113\t11640\t13251\t6661\t17127\t11284\t8951\t20099\t21078\t15528\t22377\t4811\t13172\t11756\t19472\t14650\t7150\t16547\t19716\t18239\t4465\t22960\t6215\t18072\t6803\t11837\t18726\t21838\t19442\t22060\t2992\t13626\t17788\t22054\t14280\t9954\t25508\t17533\t24208\t15276\t6505\t11490\t8682\t10874\t8483\t6260\t8746\t400\t11827\t10314\t10107\n",
    "5303\t9560\t2607\t8328\t2468\t7596\t3463\t9535\t11232\t14134\t10826\t4040\t16990\t5219\t4909\t9646\t5902\t6115\t6018\t6018\t7151\t11553\t13064\t4295\t7261\t12016\t9923\t10447\t6988\t5928\t7155\t5580\t20785\t14241\t14361\t4119\t14011\t10873\t11846\t16044\t12703\t10580\t12224\t15533\t16415\t12406\t18815\t4966\t12750\t9395\t7204\t8813\t6101\t12689\t18465\t16131\t13713\t16281\t17167\t18371\t11992\t20353\t7646\t12807\t10213\t14330\t23728\t15278\t13802\t4953\t18532\t3288\t11407\t13983\t8252\t12061\t17400\t12778\t15396\t4373\t20807\t13428\t15389\t10875\t17135\t20196\t13479\t17543\t8611\t4601\t16731\t10469\t13133\t10153\t11502\t13987\t7314\t13613\t14444\t15348\n",
    "\"\"\";"
   ]
  },
  {
   "cell_type": "code",
   "execution_count": 97,
   "metadata": {},
   "outputs": [
    {
     "data": {
      "text/plain": [
       "18×100 Matrix{Int64}:\n",
       " 21328   7901  16774  24413  14131  …  28183  20874  30143  30419  29718\n",
       "  5195  15055   4216   9295   6050     19554  12880  16313  18674  20915\n",
       " 24025  13295  22003  22254  20379     17024  13131  22051  19380  18559\n",
       " 22508  22014  17954  25593  16490     31749  23716  31201  32314  33111\n",
       " 12913   5006  10217  14089   7574     16894   8883  19148  18556  18349\n",
       "  6281  16514   5753  10410   7509  …  21173  14561  17427  19876  22534\n",
       "  4656  19128   9008   4124  11894     19061  12862  10557  16997  20422\n",
       " 16446   6905  14412  14675  11772     14574   6924  18252  16749  16109\n",
       " 12070  11940  10048  10299   8061      9830   1565  12993  11480  11273\n",
       " 10329  23462  13628   6311  16247     17430  12203   7915  14982  18439\n",
       "  9046   7229   6350  10918   3587  …  14632   6528  16403  16201  15994\n",
       "  4657  14007   4438   3771   6792     12964   6796   9616  11742  14325\n",
       " 16168  26420  17376  13468  19205      7119  14589   5954   5049   5752\n",
       "  3485  11419   1299   6632   4185     15440   8767  12661  14455  16802\n",
       " 20790   9466  18768  19019  16388     15073   9896  19605  17309  16608\n",
       "  5209  18274   7514   9447   9270  …  22675  16322  17157  20935  24036\n",
       " 11294  12965   9272   9523   8056      8746    400  11827  10314  10107\n",
       "  5303   9560   2607   8328   2468     13987   7314  13613  14444  15348"
      ]
     },
     "execution_count": 97,
     "metadata": {},
     "output_type": "execute_result"
    }
   ],
   "source": [
    "c = readdlm(IOBuffer(dat), Int)"
   ]
  },
  {
   "cell_type": "code",
   "execution_count": 98,
   "metadata": {},
   "outputs": [
    {
     "data": {
      "text/plain": [
       "18×100 Matrix{VariableRef}:\n",
       " x[1,1]   x[1,2]   x[1,3]   x[1,4]   …  x[1,98]   x[1,99]   x[1,100]\n",
       " x[2,1]   x[2,2]   x[2,3]   x[2,4]      x[2,98]   x[2,99]   x[2,100]\n",
       " x[3,1]   x[3,2]   x[3,3]   x[3,4]      x[3,98]   x[3,99]   x[3,100]\n",
       " x[4,1]   x[4,2]   x[4,3]   x[4,4]      x[4,98]   x[4,99]   x[4,100]\n",
       " x[5,1]   x[5,2]   x[5,3]   x[5,4]      x[5,98]   x[5,99]   x[5,100]\n",
       " x[6,1]   x[6,2]   x[6,3]   x[6,4]   …  x[6,98]   x[6,99]   x[6,100]\n",
       " x[7,1]   x[7,2]   x[7,3]   x[7,4]      x[7,98]   x[7,99]   x[7,100]\n",
       " x[8,1]   x[8,2]   x[8,3]   x[8,4]      x[8,98]   x[8,99]   x[8,100]\n",
       " x[9,1]   x[9,2]   x[9,3]   x[9,4]      x[9,98]   x[9,99]   x[9,100]\n",
       " x[10,1]  x[10,2]  x[10,3]  x[10,4]     x[10,98]  x[10,99]  x[10,100]\n",
       " x[11,1]  x[11,2]  x[11,3]  x[11,4]  …  x[11,98]  x[11,99]  x[11,100]\n",
       " x[12,1]  x[12,2]  x[12,3]  x[12,4]     x[12,98]  x[12,99]  x[12,100]\n",
       " x[13,1]  x[13,2]  x[13,3]  x[13,4]     x[13,98]  x[13,99]  x[13,100]\n",
       " x[14,1]  x[14,2]  x[14,3]  x[14,4]     x[14,98]  x[14,99]  x[14,100]\n",
       " x[15,1]  x[15,2]  x[15,3]  x[15,4]     x[15,98]  x[15,99]  x[15,100]\n",
       " x[16,1]  x[16,2]  x[16,3]  x[16,4]  …  x[16,98]  x[16,99]  x[16,100]\n",
       " x[17,1]  x[17,2]  x[17,3]  x[17,4]     x[17,98]  x[17,99]  x[17,100]\n",
       " x[18,1]  x[18,2]  x[18,3]  x[18,4]     x[18,98]  x[18,99]  x[18,100]"
      ]
     },
     "execution_count": 98,
     "metadata": {},
     "output_type": "execute_result"
    }
   ],
   "source": [
    "m = Model(HiGHS.Optimizer);\n",
    "@variable(m, 400 >= x[i=1:S, j=1:D] >= 0, Int)"
   ]
  },
  {
   "cell_type": "code",
   "execution_count": 99,
   "metadata": {},
   "outputs": [
    {
     "data": {
      "text/plain": [
       "sum (generic function with 17 methods)"
      ]
     },
     "execution_count": 99,
     "metadata": {},
     "output_type": "execute_result"
    }
   ],
   "source": [
    "∑ = sum"
   ]
  },
  {
   "cell_type": "code",
   "execution_count": 100,
   "metadata": {
    "scrolled": true
   },
   "outputs": [],
   "source": [
    "for j=1:D\n",
    "   @constraint(m, ∑(x[:, j]) >= demand[j]   )\n",
    "end\n",
    "for i=1:S\n",
    "   @constraint(m, ∑(x[i, :]) <= supply[i]   )\n",
    "end\n",
    "#@objective(m, Min, ∑( x[i, j]*c[i, j] for i=1:S, j=1:D))\n",
    "@objective(m, Min, ∑( x .* c ));"
   ]
  },
  {
   "cell_type": "code",
   "execution_count": 101,
   "metadata": {},
   "outputs": [
    {
     "name": "stdout",
     "output_type": "stream",
     "text": [
      "Running HiGHS 1.5.3 [date: 1970-01-01, git hash: 45a127b78]\n",
      "Copyright (c) 2023 HiGHS under MIT licence terms\n",
      "Presolving model\n",
      "118 rows, 1800 cols, 3600 nonzeros\n",
      "118 rows, 1800 cols, 3600 nonzeros\n",
      "Objective function is integral with scale 1\n",
      "\n",
      "Solving MIP model with:\n",
      "   118 rows\n",
      "   1800 cols (0 binary, 1800 integer, 0 implied int., 0 continuous)\n",
      "   3600 nonzeros\n",
      "\n",
      "        Nodes      |    B&B Tree     |            Objective Bounds              |  Dynamic Constraints |       Work      \n",
      "     Proc. InQueue |  Leaves   Expl. | BestBound       BestSol              Gap |   Cuts   InLp Confl. | LpIters     Time\n",
      "\n",
      "         0       0         0   0.00%   0               inf                  inf        0      0      0         0     0.0s\n",
      " T       0       0         0   0.00%   0               7994805          100.00%        0      0      0       144     0.0s\n",
      "\n",
      "Solving report\n",
      "  Status            Optimal\n",
      "  Primal bound      7994805\n",
      "  Dual bound        7994805\n",
      "  Gap               0% (tolerance: 0.01%)\n",
      "  Solution status   feasible\n",
      "                    7994805 (objective)\n",
      "                    0 (bound viol.)\n",
      "                    0 (int. viol.)\n",
      "                    0 (row viol.)\n",
      "  Timing            0.03 (total)\n",
      "                    0.02 (presolve)\n",
      "                    0.00 (postsolve)\n",
      "  Nodes             1\n",
      "  LP iterations     144 (total)\n",
      "                    0 (strong br.)\n",
      "                    0 (separation)\n",
      "                    0 (heuristics)\n"
     ]
    }
   ],
   "source": [
    "optimize!(m)"
   ]
  },
  {
   "cell_type": "code",
   "execution_count": 102,
   "metadata": {},
   "outputs": [
    {
     "name": "stdout",
     "output_type": "stream",
     "text": [
      "termination_status(m) = MathOptInterface.OPTIMAL\n"
     ]
    },
    {
     "data": {
      "text/plain": [
       "OPTIMAL::TerminationStatusCode = 1"
      ]
     },
     "execution_count": 102,
     "metadata": {},
     "output_type": "execute_result"
    }
   ],
   "source": [
    "@show termination_status(m)\n"
   ]
  },
  {
   "cell_type": "code",
   "execution_count": 103,
   "metadata": {},
   "outputs": [
    {
     "data": {
      "text/plain": [
       "Enum MathOptInterface.TerminationStatusCode:\n",
       "OPTIMIZE_NOT_CALLED = 0\n",
       "OPTIMAL = 1\n",
       "INFEASIBLE = 2\n",
       "DUAL_INFEASIBLE = 3\n",
       "LOCALLY_SOLVED = 4\n",
       "LOCALLY_INFEASIBLE = 5\n",
       "INFEASIBLE_OR_UNBOUNDED = 6\n",
       "ALMOST_OPTIMAL = 7\n",
       "ALMOST_INFEASIBLE = 8\n",
       "ALMOST_DUAL_INFEASIBLE = 9\n",
       "ALMOST_LOCALLY_SOLVED = 10\n",
       "ITERATION_LIMIT = 11\n",
       "TIME_LIMIT = 12\n",
       "NODE_LIMIT = 13\n",
       "SOLUTION_LIMIT = 14\n",
       "MEMORY_LIMIT = 15\n",
       "OBJECTIVE_LIMIT = 16\n",
       "NORM_LIMIT = 17\n",
       "OTHER_LIMIT = 18\n",
       "SLOW_PROGRESS = 19\n",
       "NUMERICAL_ERROR = 20\n",
       "INVALID_MODEL = 21\n",
       "INVALID_OPTION = 22\n",
       "INTERRUPTED = 23\n",
       "OTHER_ERROR = 24"
      ]
     },
     "execution_count": 103,
     "metadata": {},
     "output_type": "execute_result"
    }
   ],
   "source": [
    "typeof(termination_status(m))"
   ]
  },
  {
   "cell_type": "code",
   "execution_count": 104,
   "metadata": {
    "scrolled": true
   },
   "outputs": [
    {
     "data": {
      "text/plain": [
       "18×100 Matrix{Float64}:\n",
       "  0.0   0.0   0.0   0.0   0.0   0.0  …   0.0   0.0   0.0   0.0   0.0   0.0\n",
       "  0.0   0.0   0.0   0.0   0.0   0.0      0.0   0.0   0.0   0.0   0.0   0.0\n",
       "  0.0   0.0   0.0   0.0   0.0   0.0      0.0   0.0   0.0   0.0   0.0   0.0\n",
       "  0.0   0.0   0.0   0.0   0.0   0.0      0.0   0.0   0.0   0.0   0.0   0.0\n",
       "  0.0   0.0   0.0   0.0   0.0   0.0      0.0   0.0   0.0   0.0   0.0   0.0\n",
       "  0.0   0.0   0.0   0.0   0.0   0.0  …   0.0   0.0   0.0   0.0   0.0   0.0\n",
       "  0.0   0.0   0.0   0.0   0.0   0.0      0.0   0.0   0.0   0.0   0.0   0.0\n",
       "  0.0  15.0   0.0   0.0   0.0   0.0      0.0   0.0   0.0   0.0   0.0   0.0\n",
       "  0.0   0.0   0.0   0.0   0.0   0.0      0.0   0.0   0.0   0.0   0.0   0.0\n",
       "  0.0   0.0   0.0   0.0   0.0   0.0      0.0   0.0   0.0   0.0   0.0   0.0\n",
       "  0.0   0.0   0.0   0.0   0.0   0.0  …   0.0   0.0   0.0   0.0   0.0   0.0\n",
       "  0.0   0.0   0.0  15.0   0.0   0.0      0.0   0.0   0.0   0.0   0.0   0.0\n",
       "  0.0   0.0   0.0   0.0   0.0   0.0      0.0  15.0   0.0  15.0  15.0  15.0\n",
       " 15.0   0.0  15.0   0.0   0.0  15.0      0.0   0.0   0.0   0.0   0.0   0.0\n",
       "  0.0   0.0   0.0   0.0   0.0   0.0      0.0   0.0   0.0   0.0   0.0   0.0\n",
       "  0.0   0.0   0.0   0.0   0.0   0.0  …   0.0   0.0   0.0   0.0   0.0   0.0\n",
       "  0.0   0.0   0.0   0.0   0.0   0.0     15.0   0.0  15.0   0.0   0.0   0.0\n",
       "  0.0   0.0   0.0   0.0  15.0   0.0      0.0   0.0   0.0   0.0   0.0   0.0"
      ]
     },
     "execution_count": 104,
     "metadata": {},
     "output_type": "execute_result"
    }
   ],
   "source": [
    "\n",
    "value.(x)"
   ]
  },
  {
   "cell_type": "code",
   "execution_count": 105,
   "metadata": {},
   "outputs": [
    {
     "data": {
      "text/plain": [
       "18×100 SparseMatrixCSC{Float64, Int64} with 109 stored entries:\n",
       "⎡⠀⠀⠀⠈⠀⠖⠂⠒⠀⠄⡀⠐⠂⠀⠠⠀⠀⠁⠈⠀⠀⡀⠀⠈⢀⢀⢠⠄⠁⢀⢄⠀⠈⠠⠬⠀⠀⠀⠀⠀⎤\n",
       "⎢⠐⠀⠀⠒⠀⠀⠀⠈⢁⠈⠒⡀⠀⠡⠀⢂⠐⠂⡂⠑⠀⠀⠄⡀⠂⠀⠂⠀⠈⠂⠈⠀⠀⠂⠀⠁⠀⡀⠀⠀⎥\n",
       "⎢⠄⠅⠤⠀⡠⠀⠀⠄⠀⠀⠀⠁⠈⡂⠁⠀⠀⢀⠀⠁⠉⠀⢀⠀⢀⡀⠀⠉⠈⠀⠀⡀⣀⠀⠀⠈⠚⠀⠒⠒⎥\n",
       "⎣⠀⠐⠀⠁⠀⠀⠐⠀⠀⠂⠀⠂⠀⠉⠀⠀⠁⠀⠀⠀⠀⠈⠀⠀⠀⠀⠀⠀⠀⠀⠀⠈⠀⠀⠀⠀⠀⠈⠈⠀⎦"
      ]
     },
     "execution_count": 105,
     "metadata": {},
     "output_type": "execute_result"
    }
   ],
   "source": [
    "using SparseArrays\n",
    "sparse(value.(x))"
   ]
  },
  {
   "cell_type": "code",
   "execution_count": 106,
   "metadata": {
    "scrolled": true
   },
   "outputs": [
    {
     "data": {
      "text/plain": [
       "true"
      ]
     },
     "execution_count": 106,
     "metadata": {},
     "output_type": "execute_result"
    }
   ],
   "source": [
    "round.(Int, value.(x)) ≈ value.(x)"
   ]
  },
  {
   "cell_type": "code",
   "execution_count": 107,
   "metadata": {},
   "outputs": [
    {
     "data": {
      "text/plain": [
       "7.994805e6"
      ]
     },
     "execution_count": 107,
     "metadata": {},
     "output_type": "execute_result"
    }
   ],
   "source": [
    "objective_value(m)"
   ]
  },
  {
   "cell_type": "markdown",
   "metadata": {},
   "source": [
    "### Travelling salesman problem (TSP)"
   ]
  },
  {
   "cell_type": "code",
   "execution_count": 108,
   "metadata": {},
   "outputs": [],
   "source": [
    "dist_mx = [0\t17015\t15303\t20376\t12648\t16060\t25600\t14217\t19545\t30228\t14726\t21078\t33787\t18041\t14937\t17542\t20542\t16535\t21328\t7901\t16774\t24413\t14131\t21551\t15742\t21091\t25167\t3266\t19312\t14878\t22914\t18392\t14514\t21072\t11535\t12965\t12952\t12952\t15839\t27836;\n",
    "16837\t0\t25356\t17812\t13534\t1912\t9654\t17639\t13597\t15441\t9377\t7410\t19851\t4218\t22311\t3454\t12747\t6168\t5195\t15055\t4216\t9295\t6050\t4779\t3641\t15102\t8395\t16829\t5224\t3595\t14177\t1684\t2753\t4300\t5469\t4233\t3962\t3962\t3039\t13176;\n",
    "15660\t25640\t0\t34363\t13497\t27290\t25638\t8902\t13080\t25038\t17262\t19451\t23966\t21412\t6475\t28799\t12799\t19902\t24025\t13295\t22003\t22254\t20379\t26418\t22859\t10495\t28761\t12735\t29656\t23437\t36220\t24616\t24042\t28477\t24395\t24758\t25121\t25121\t26548\t22646;\n",
    "20378\t17694\t34039\t0\t20952\t16668\t26779\t25408\t22341\t31408\t17228\t22258\t34845\t19221\t30215\t17941\t23384\t18694\t22508\t22014\t17954\t25593\t16490\t22230\t16922\t24989\t25524\t22994\t19299\t15807\t6155\t19098\t15443\t21468\t12730\t13765\t13698\t13698\t16518\t29016;\n",
    "12758\t13651\t13828\t21135\t0\t15151\t15588\t5176\t7509\t19444\t4278\t10350\t22791\t9625\t10004\t16632\t8551\t7771\t12913\t5006\t10217\t14089\t7574\t15206\t10375\t9595\t18453\t9762\t18403\t10736\t23395\t12829\t11221\t17256\t11328\t11937\t12300\t12300\t13779\t17052;\n",
    "16015\t1958\t27036\t16957\t14992\t0\t10700\t19097\t15278\t16499\t10835\t8524\t20966\t5921\t23905\t1542\t14428\t7849\t6281\t16514\t5753\t10410\t7509\t5795\t5099\t16782\t9308\t18288\t3312\t4999\t12625\t2798\t4158\t5230\t4648\t3949\t3341\t3341\t2010\t14262;\n",
    "25876\t9612\t25338\t27027\t15004\t10657\t0\t17917\t13580\t5809\t12445\t6443\t16347\t7810\t22293\t9558\t12729\t9769\t4656\t19128\t9008\t4124\t11894\t5115\t10216\t15084\t4473\t23560\t7924\t11296\t21642\t8036\t12133\t5794\t14532\t13370\t13273\t13273\t12492\t5169;\n",
    "14417\t17865\t8673\t25755\t4815\t19364\t18059\t0\t5596\t18456\t8654\t11873\t21416\t13820\t4849\t20846\t6592\t11966\t16446\t6905\t14412\t14675\t11772\t18839\t14588\t7393\t21182\t11243\t22077\t14949\t27612\t17024\t15434\t20898\t15787\t16151\t16513\t16513\t17993\t16064;\n",
    "19460\t13685\t12996\t22480\t7089\t15336\t13683\t5712\t0\t13472\t5106\t7497\t16147\t9457\t9192\t16844\t1234\t7947\t12070\t11940\t10048\t10299\t8061\t14463\t10878\t2839\t16806\t16286\t17701\t11239\t23901\t12661\t11724\t16522\t12122\t12440\t12803\t12803\t14282\t11080;\n",
    "30234\t15269\t25164\t31647\t19366\t16315\t5673\t18651\t13668\t0\t16883\t9759\t13705\t12809\t22119\t15216\t12556\t14103\t10329\t23462\t13628\t6311\t16247\t10788\t14836\t14910\t7331\t27913\t13481\t15916\t27214\t13710\t16784\t11351\t19112\t17990\t17893\t17893\t18028\t2647;\n",
    "14892\t9673\t17263\t17588\t4258\t11172\t12366\t8632\t5154\t16699\t0\t7384\t20046\t5758\t13440\t12654\t6196\t3904\t9046\t7229\t6350\t10918\t3587\t11339\t6397\t7802\t14626\t11985\t14424\t6758\t19420\t8962\t7243\t13389\t7493\t7959\t8322\t8322\t9801\t14306;\n",
    "20779\t7534\t19272\t22294\t9811\t8776\t6402\t11851\t7513\t9403\t7336\t0\t13086\t3620\t16227\t9926\t6663\t4648\t4657\t14007\t4438\t3771\t6792\t7050\t5646\t9018\t9393\t18458\t10288\t6726\t19802\t5879\t7594\t9109\t9647\t8800\t8703\t8703\t8838\t7010;\n",
    "33192\t20306\t24017\t34707\t22295\t21548\t16347\t21600\t16054\t13630\t19961\t13477\t0\t16558\t22049\t21445\t14942\t17061\t16168\t26420\t17376\t13468\t19205\t18438\t18584\t14330\t20479\t30871\t21676\t19664\t32739\t18651\t20532\t20497\t22329\t21738\t21641\t21641\t21776\t11708;\n",
    "18182\t4426\t21242\t19317\t9588\t6076\t7562\t13686\t9484\t12447\t5453\t3297\t16130\t0\t18198\t7585\t8634\t2059\t3485\t11419\t1299\t6632\t4185\t5779\t2507\t10988\t9414\t15851\t9008\t3586\t16662\t3402\t4455\t7829\t6823\t5661\t5564\t5564\t5416\t10055;\n",
    "14987\t22405\t6375\t30372\t9487\t23980\t22403\t4893\t9113\t21803\t13270\t16216\t21976\t18177\t0\t25462\t9564\t16582\t20790\t9466\t18768\t19019\t16388\t23183\t19204\t8048\t25526\t11781\t26421\t19566\t32228\t21381\t20050\t25242\t20403\t20767\t21130\t21130\t22609\t19411;\n",
    "17776\t3658\t28797\t18666\t16753\t1761\t9415\t20858\t17039\t15214\t12596\t9773\t21497\t7682\t25666\t0\t16189\t9610\t5209\t18274\t7514\t9447\t9270\t4512\t6860\t18543\t7991\t20049\t1770\t6760\t12619\t4480\t5919\t3913\t6409\t5710\t5102\t5102\t3771\t13094;\n",
    "20480\t12908\t12608\t23592\t8201\t14559\t12906\t6659\t1112\t12306\t6218\t6720\t14981\t8680\t9564\t16068\t0\t7171\t11294\t12965\t9272\t9523\t8056\t13686\t10128\t2354\t16029\t17305\t16925\t10705\t23655\t11884\t11574\t15745\t12558\t12435\t12683\t12683\t13816\t9914;\n",
    "16503\t6243\t19789\t18281\t7729\t7894\t9574\t11828\t8031\t13945\t3594\t4731\t17257\t2015\t16635\t9403\t7181\t0\t5303\t9560\t2607\t8328\t2468\t7596\t3463\t9535\t11232\t14134\t10826\t4040\t16990\t5219\t4909\t9646\t5902\t6115\t6018\t6018\t7151\t11553;\n",
    "21599\t5356\t23780\t22734\t12944\t6512\t4559\t16359\t12022\t10347\t8870\t4592\t16288\t3518\t20735\t5531\t11172\t5476\t0\t14836\t4716\t4238\t7602\t2790\t5924\t13526\t6105\t19268\t6020\t7003\t17779\t3751\t7819\t4840\t10240\t9078\t8981\t8981\t8209\t8081;\n",
    "7857\t15112\t13704\t22169\t5184\t16611\t19177\t6973\t12160\t23548\t7225\t14334\t26860\t11619\t9791\t18093\t13156\t9764\t14906\t0\t12210\t17931\t9181\t17075\t11836\t14080\t20835\t4820\t19863\t12197\t24516\t14669\t12682\t19125\t12572\t13398\t13761\t13761\t15240\t21156;\n",
    "16895\t4392\t21878\t18019\t10219\t5892\t8860\t14318\t10120\t13488\t6084\t4338\t17171\t1301\t18833\t7374\t9270\t2691\t4588\t12050\t0\t7673\t4076\t5894\t1208\t11624\t9813\t14906\t9124\t2288\t15363\t3488\t3156\t7944\t5524\t4362\t4265\t4265\t5193\t11096;\n",
    "24348\t9392\t22086\t25619\t13415\t10603\t4086\t14665\t10327\t6404\t10856\t3801\t13508\t6782\t19041\t9622\t9477\t8252\t4345\t17612\t7601\t0\t10396\t5506\t8809\t11832\t7814\t22062\t8930\t9888\t21869\t7737\t10757\t7533\t13085\t11963\t11866\t11866\t12000\t4056;\n",
    "14132\t6093\t20346\t16695\t7583\t7592\t12111\t11714\t8191\t16482\t3384\t7267\t19793\t4552\t16522\t9074\t8119\t2537\t7839\t9201\t3822\t10865\t0\t8055\t2817\t10474\t11975\t11763\t10844\t3178\t15840\t5650\t3662\t10106\t4502\t4379\t4742\t4742\t6221\t14090;\n",
    "21436\t4723\t26289\t22411\t15307\t5769\t5072\t18868\t14531\t10881\t11172\t7101\t18750\t5829\t23244\t4673\t13681\t7779\t2740\t17138\t5827\t5517\t8192\t0\t6327\t16035\t3919\t19343\t3552\t7406\t16757\t3376\t7353\t2373\t10069\t8833\t8561\t8561\t7639\t8817;\n",
    "15687\t3789\t22924\t16811\t10402\t5288\t9892\t14507\t10983\t14520\t6245\t5370\t18203\t2333\t19315\t6770\t10316\t3737\t5620\t11923\t1066\t8705\t2918\t6156\t0\t12670\t10075\t13698\t8540\t1080\t14155\t3750\t1948\t7846\t4316\t3154\t3057\t3057\t3985\t12128;\n",
    "21045\t15226\t10254\t25146\t9186\t16877\t15224\t7459\t2666\t14624\t7772\t9038\t14277\t10998\t7984\t18386\t2386\t9488\t13611\t13852\t11589\t11840\t10374\t16004\t12446\t0\t18347\t17870\t19242\t13023\t25973\t14202\t13891\t18063\t14789\t14753\t15000\t15000\t16134\t12232;\n",
    "25093\t8380\t28419\t25988\t17792\t9365\t4449\t20998\t16661\t7422\t14499\t9231\t20447\t9297\t25375\t8231\t15811\t11255\t6033\t20614\t9633\t7647\t11998\t3972\t10133\t18165\t0\t23149\t6373\t11212\t20107\t7182\t11009\t4244\t13725\t12489\t12218\t12218\t11295\t9268;\n",
    "3269\t17087\t12447\t23091\t9425\t18535\t23676\t10994\t16323\t28047\t11778\t18833\t31359\t16118\t11733\t20016\t17319\t14102\t19392\t4764\t14895\t22430\t11699\t19128\t13889\t17868\t23048\t0\t21787\t14225\t25619\t16722\t14491\t21144\t14247\t15207\t15570\t15570\t17049\t25655;\n",
    "19370\t5218\t29555\t19904\t18347\t3354\t7939\t22134\t17796\t13628\t14190\t10366\t22016\t8979\t26510\t2032\t16946\t10929\t5890\t19868\t8977\t8967\t10863\t3548\t8454\t19301\t6286\t21642\t0\t8354\t13849\t6031\t7512\t2230\t8002\t7303\t6695\t6695\t5364\t12267;\n",
    "15123\t3742\t23129\t16247\t10398\t5189\t10973\t14503\t10979\t15601\t6241\t6451\t19284\t3414\t19310\t6671\t10520\t3928\t6701\t11919\t2147\t9786\t2914\t7237\t1115\t12875\t11156\t13694\t8441\t0\t13591\t4046\t1289\t7798\t3752\t2590\t2493\t2493\t3730\t13209;\n",
    "23066\t12913\t36235\t6148\t23328\t11248\t21677\t27604\t24080\t27384\t19342\t18864\t31697\t15567\t32411\t12509\t23813\t17221\t17470\t24390\t15398\t21598\t16015\t16775\t14408\t26168\t20042\t25682\t13816\t13293\t0\t13987\t12929\t15985\t12394\t11789\t11185\t11185\t11655\t25357;\n",
    "18306\t1655\t24425\t19281\t12816\t2898\t8020\t16914\t12666\t13807\t8681\t5726\t18168\t3338\t21380\t4425\t11816\t5288\t3560\t14647\t3336\t7611\t5684\t3220\t3721\t14171\t7140\t16834\t6173\t4291\t15523\t0\t4102\t5029\t6939\t5703\t5431\t5431\t4509\t11541;\n",
    "14792\t2858\t23883\t15916\t11147\t4305\t11899\t15252\t11728\t16527\t6990\t7377\t20210\t4340\t20060\t5787\t11446\t4854\t7592\t12668\t3073\t10712\t3664\t7283\t2041\t13801\t11010\t14409\t7557\t926\t13261\t4086\t0\t6915\t3422\t2259\t2162\t2162\t2847\t14135;\n",
    "20940\t4227\t28327\t21915\t17230\t5179\t5981\t20906\t16569\t11732\t13095\t9139\t20788\t7752\t25283\t4045\t15719\t9701\t4662\t19061\t7750\t7739\t10115\t2321\t7744\t18073\t4390\t20933\t2200\t7698\t15933\t4990\t6857\t0\t9572\t8336\t8065\t8065\t7142\t11040;\n",
    "11410\t5695\t24148\t12807\t11182\t4838\t14370\t15516\t12038\t18999\t7130\t9803\t22682\t6812\t20324\t6320\t12537\t6289\t10099\t12463\t5545\t13184\t4544\t10230\t4538\t14686\t13846\t14019\t8090\t3645\t12463\t7098\t3281\t9751\t0\t1743\t1730\t1730\t4518\t16606;\n",
    "13077\t4452\t24715\t14052\t11979\t4191\t13470\t16084\t12560\t18098\t7822\t8948\t21781\t5911\t20892\t5673\t12489\t6127\t9198\t13500\t4644\t12283\t4496\t8987\t3612\t14843\t12603\t15241\t7443\t2497\t11952\t5855\t2133\t8508\t1710\t0\t880\t880\t3275\t15706;\n",
    "13133\t4063\t25053\t14108\t12317\t3692\t13081\t16422\t12899\t17709\t8160\t8559\t21392\t5523\t21230\t5174\t12629\t6036\t8810\t13799\t4255\t11895\t4834\t8599\t3223\t14983\t12215\t15468\t6944\t2108\t11453\t5467\t1745\t8120\t1765\t608\t0\t0\t2886\t15317;\n",
    "13133\t4063\t25053\t14108\t12317\t3692\t13081\t16422\t12899\t17709\t8160\t8559\t21392\t5523\t21230\t5174\t12629\t6036\t8810\t13799\t4255\t11895\t4834\t8599\t3223\t14983\t12215\t15468\t6944\t2108\t11453\t5467\t1745\t8120\t1765\t608\t0\t0\t2886\t15317;\n",
    "14506\t3112\t26511\t15448\t13883\t2991\t12511\t17988\t14464\t17843\t9726\t8693\t21526\t5396\t22796\t4473\t13902\t7323\t8052\t15364\t5083\t12028\t6400\t7648\t4050\t16257\t11264\t17034\t6243\t3674\t12711\t4516\t2915\t7169\t3139\t2440\t1832\t1832\t0\t15451;\n",
    "27829\t13231\t22760\t29340\t16962\t14388\t4973\t16247\t11264\t2392\t14487\t7453\t11758\t10503\t19715\t13298\t10151\t11698\t8249\t21057\t11322\t4107\t13842\t8754\t12530\t12506\t9105\t25508\t12177\t13609\t25382\t11629\t14478\t10768\t16798\t15683\t15587\t15587\t15721\t0;\n",
    "];"
   ]
  },
  {
   "cell_type": "code",
   "execution_count": 144,
   "metadata": {
    "scrolled": true
   },
   "outputs": [],
   "source": [
    "using JuMP, HiGHS\n",
    "N = 25 #the problem is NP-hard we do not solve it for all cities\n",
    "m = Model(optimizer_with_attributes(HiGHS.Optimizer));\n",
    "JuMP.set_silent(m)\n",
    "@variable(m, x[f=1:N, t=1:N], Bin)\n",
    "@objective(m, Min, sum( x[i, j]*dist_mx[i,j] for i=1:N,j=1:N))\n",
    "@constraint(m, notself[i=1:N], x[i, i] == 0)\n",
    "@constraint(m, oneout[i=1:N], sum(x[i, 1:N]) == 1)\n",
    "@constraint(m, onein[j=1:N], sum(x[1:N, j]) == 1)\n",
    "for f=1:N, t=1:N\n",
    "    @constraint(m, x[f, t]+x[t, f] <= 1)\n",
    "end\n",
    "\n",
    "\n",
    "optimize!(m)\n",
    "\n"
   ]
  },
  {
   "cell_type": "code",
   "execution_count": 145,
   "metadata": {},
   "outputs": [
    {
     "data": {
      "text/plain": [
       "getcycle (generic function with 1 method)"
      ]
     },
     "execution_count": 145,
     "metadata": {},
     "output_type": "execute_result"
    }
   ],
   "source": [
    "function getcycle(x_v, N)\n",
    "    x_val = round.(Int, x_v)\n",
    "    cycle_idx = Vector{Int}()\n",
    "    push!(cycle_idx, 1)\n",
    "    while true\n",
    "        v, idx = findmax(x_val[cycle_idx[end], 1:N])\n",
    "        if idx == cycle_idx[1]\n",
    "            break\n",
    "        else\n",
    "            push!(cycle_idx, idx)\n",
    "        end\n",
    "    end\n",
    "    cycle_idx\n",
    "end\n"
   ]
  },
  {
   "cell_type": "code",
   "execution_count": 146,
   "metadata": {},
   "outputs": [
    {
     "data": {
      "text/plain": [
       "22-element Vector{Int64}:\n",
       "  1\n",
       "  4\n",
       " 23\n",
       " 18\n",
       " 14\n",
       " 21\n",
       " 25\n",
       "  2\n",
       "  6\n",
       " 16\n",
       " 24\n",
       " 19\n",
       " 12\n",
       " 22\n",
       "  7\n",
       " 10\n",
       " 13\n",
       " 17\n",
       "  9\n",
       " 11\n",
       "  5\n",
       " 20"
      ]
     },
     "execution_count": 146,
     "metadata": {},
     "output_type": "execute_result"
    }
   ],
   "source": [
    "getcycle(value.(x), N)"
   ]
  },
  {
   "cell_type": "code",
   "execution_count": 147,
   "metadata": {},
   "outputs": [
    {
     "name": "stdout",
     "output_type": "stream",
     "text": [
      "Added a constraint since the cycle lenght was 22 < 25\n"
     ]
    },
    {
     "data": {
      "text/plain": [
       "false"
      ]
     },
     "execution_count": 147,
     "metadata": {},
     "output_type": "execute_result"
    }
   ],
   "source": [
    "function solved(m, cycle_idx, N)\n",
    "    if length(cycle_idx) < N\n",
    "        cc = @constraint(m, sum(x[cycle_idx,cycle_idx]) <= length(cycle_idx)-1)\n",
    "        println(\"Added a constraint since the cycle lenght was $(length(cycle_idx)) < $N\")\n",
    "        return false\n",
    "    end\n",
    "    return true\n",
    "end\n",
    "\n",
    "solved(m, getcycle(value.(x), N),N)\n",
    "\n"
   ]
  },
  {
   "cell_type": "markdown",
   "metadata": {},
   "source": [
    "Handling cycles inspired by the tutorial available at: https://opensourc.es/blog/mip-tsp/"
   ]
  },
  {
   "cell_type": "code",
   "execution_count": 148,
   "metadata": {},
   "outputs": [
    {
     "name": "stdout",
     "output_type": "stream",
     "text": [
      "Added a constraint since the cycle lenght was 5 < 25\n",
      "Added a constraint since the cycle lenght was 10 < 25\n",
      "Added a constraint since the cycle lenght was 10 < 25\n",
      "Added a constraint since the cycle lenght was 15 < 25\n",
      "Added a constraint since the cycle lenght was 7 < 25\n",
      "Added a constraint since the cycle lenght was 12 < 25\n",
      "Added a constraint since the cycle lenght was 15 < 25\n",
      "Added a constraint since the cycle lenght was 13 < 25\n",
      "Added a constraint since the cycle lenght was 20 < 25\n",
      "Added a constraint since the cycle lenght was 18 < 25\n"
     ]
    }
   ],
   "source": [
    "while true\n",
    "    optimize!(m)\n",
    "    status = termination_status(m)\n",
    "    cycle_idx = getcycle(value.(x), N)\n",
    "    if solved(m, cycle_idx,N)\n",
    "        break;\n",
    "    end\n",
    "end"
   ]
  },
  {
   "cell_type": "code",
   "execution_count": 149,
   "metadata": {},
   "outputs": [
    {
     "name": "stdout",
     "output_type": "stream",
     "text": [
      "Trip length 152803.99999999997\n"
     ]
    }
   ],
   "source": [
    "println(\"Trip length $(objective_value(m))\")"
   ]
  },
  {
   "cell_type": "code",
   "execution_count": 150,
   "metadata": {},
   "outputs": [
    {
     "data": {
      "text/html": [
       "<div><div style = \"float: left;\"><span>118×5 DataFrame</span></div><div style = \"float: right;\"><span style = \"font-style: italic;\">93 rows omitted</span></div><div style = \"clear: both;\"></div></div><div class = \"data-frame\" style = \"overflow-x: scroll;\"><table class = \"data-frame\" style = \"margin-bottom: 6px;\"><thead><tr class = \"header\"><th class = \"rowNumber\" style = \"font-weight: bold; text-align: right;\">Row</th><th style = \"text-align: left;\">long</th><th style = \"text-align: left;\">latt</th><th style = \"text-align: left;\">name</th><th style = \"text-align: left;\">address</th><th style = \"text-align: left;\">node</th></tr><tr class = \"subheader headerLastRow\"><th class = \"rowNumber\" style = \"font-weight: bold; text-align: right;\"></th><th title = \"Float64\" style = \"text-align: left;\">Float64</th><th title = \"Float64\" style = \"text-align: left;\">Float64</th><th title = \"String7\" style = \"text-align: left;\">String7</th><th title = \"String\" style = \"text-align: left;\">String</th><th title = \"Int64\" style = \"text-align: left;\">Int64</th></tr></thead><tbody><tr><td class = \"rowNumber\" style = \"font-weight: bold; text-align: right;\">1</td><td style = \"text-align: right;\">-115.314</td><td style = \"text-align: right;\">36.1003</td><td style = \"text-align: left;\">Subway</td><td style = \"text-align: left;\">10140 W Tropicana Ave, Las Vegas, NV, 89147</td><td style = \"text-align: right;\">5503377919</td></tr><tr><td class = \"rowNumber\" style = \"font-weight: bold; text-align: right;\">2</td><td style = \"text-align: right;\">-115.141</td><td style = \"text-align: right;\">36.1148</td><td style = \"text-align: left;\">Subway</td><td style = \"text-align: left;\">1040 E Flamingo, Las Vegas, NV, 89109</td><td style = \"text-align: right;\">2747920069</td></tr><tr><td class = \"rowNumber\" style = \"font-weight: bold; text-align: right;\">3</td><td style = \"text-align: right;\">-115.325</td><td style = \"text-align: right;\">36.2187</td><td style = \"text-align: left;\">Subway</td><td style = \"text-align: left;\">10470 W Cheyanne, Las Vegas, NV, 89129</td><td style = \"text-align: right;\">2590273363</td></tr><tr><td class = \"rowNumber\" style = \"font-weight: bold; text-align: right;\">4</td><td style = \"text-align: right;\">-115.207</td><td style = \"text-align: right;\">35.9976</td><td style = \"text-align: left;\">Subway</td><td style = \"text-align: left;\">10550 Southern Highlands Pky, Las Vegas, NV, 89141</td><td style = \"text-align: right;\">5514940961</td></tr><tr><td class = \"rowNumber\" style = \"font-weight: bold; text-align: right;\">5</td><td style = \"text-align: right;\">-115.244</td><td style = \"text-align: right;\">36.1588</td><td style = \"text-align: left;\">Subway</td><td style = \"text-align: left;\">1105 S Rainbow, Las Vegas, NV, 89102</td><td style = \"text-align: right;\">5794871693</td></tr><tr><td class = \"rowNumber\" style = \"font-weight: bold; text-align: right;\">6</td><td style = \"text-align: right;\">-115.137</td><td style = \"text-align: right;\">36.1011</td><td style = \"text-align: left;\">Subway</td><td style = \"text-align: left;\">1196 E Tropicana Ave, Las Vegas, NV, 89119</td><td style = \"text-align: right;\">5717536771</td></tr><tr><td class = \"rowNumber\" style = \"font-weight: bold; text-align: right;\">7</td><td style = \"text-align: right;\">-115.08</td><td style = \"text-align: right;\">36.1575</td><td style = \"text-align: left;\">Subway</td><td style = \"text-align: left;\">1300 South Lamb Blvd., Las Vegas, NV, 89104</td><td style = \"text-align: right;\">4807070083</td></tr><tr><td class = \"rowNumber\" style = \"font-weight: bold; text-align: right;\">8</td><td style = \"text-align: right;\">-115.26</td><td style = \"text-align: right;\">36.1901</td><td style = \"text-align: left;\">Subway</td><td style = \"text-align: left;\">1750 N Buffalo, Las Vegas, NV, 89128</td><td style = \"text-align: right;\">5778125595</td></tr><tr><td class = \"rowNumber\" style = \"font-weight: bold; text-align: right;\">9</td><td style = \"text-align: right;\">-115.206</td><td style = \"text-align: right;\">36.1948</td><td style = \"text-align: left;\">Subway</td><td style = \"text-align: left;\">1940 N Decatur Blvd, Las Vegas, NV, 89108</td><td style = \"text-align: right;\">5797720840</td></tr><tr><td class = \"rowNumber\" style = \"font-weight: bold; text-align: right;\">10</td><td style = \"text-align: right;\">-115.062</td><td style = \"text-align: right;\">36.1956</td><td style = \"text-align: left;\">Subway</td><td style = \"text-align: left;\">1961 N Nellis Blvd, Las Vegas, NV, 89115</td><td style = \"text-align: right;\">5521321066</td></tr><tr><td class = \"rowNumber\" style = \"font-weight: bold; text-align: right;\">11</td><td style = \"text-align: right;\">-115.208</td><td style = \"text-align: right;\">36.1498</td><td style = \"text-align: left;\">Subway</td><td style = \"text-align: left;\">2003 S Decatur Blvd, Las Vegas, NV, 89102</td><td style = \"text-align: right;\">5844881906</td></tr><tr><td class = \"rowNumber\" style = \"font-weight: bold; text-align: right;\">12</td><td style = \"text-align: right;\">-115.144</td><td style = \"text-align: right;\">36.1707</td><td style = \"text-align: left;\">Subway</td><td style = \"text-align: left;\">202 Fremont Street, Las Vegas, NV, 89101</td><td style = \"text-align: right;\">3813314952</td></tr><tr><td class = \"rowNumber\" style = \"font-weight: bold; text-align: right;\">13</td><td style = \"text-align: right;\">-115.12</td><td style = \"text-align: right;\">36.2762</td><td style = \"text-align: left;\">Subway</td><td style = \"text-align: left;\">2225 E Centennial Pky, Las Vegas, NV, 89081</td><td style = \"text-align: right;\">5509334872</td></tr><tr><td style = \"text-align: right;\">&vellip;</td><td style = \"text-align: right;\">&vellip;</td><td style = \"text-align: right;\">&vellip;</td><td style = \"text-align: right;\">&vellip;</td><td style = \"text-align: right;\">&vellip;</td><td style = \"text-align: right;\">&vellip;</td></tr><tr><td class = \"rowNumber\" style = \"font-weight: bold; text-align: right;\">107</td><td style = \"text-align: right;\">-115.149</td><td style = \"text-align: right;\">36.0855</td><td style = \"text-align: left;\">Subway</td><td style = \"text-align: left;\">C Gate McCarran Int Airport, Las Vegas, NV, 89111</td><td style = \"text-align: right;\">4538984240</td></tr><tr><td class = \"rowNumber\" style = \"font-weight: bold; text-align: right;\">108</td><td style = \"text-align: right;\">-115.146</td><td style = \"text-align: right;\">36.1715</td><td style = \"text-align: left;\">Subway</td><td style = \"text-align: left;\">One South Main St, Las Vegas, NV, 89125</td><td style = \"text-align: right;\">3813314954</td></tr><tr><td class = \"rowNumber\" style = \"font-weight: bold; text-align: right;\">109</td><td style = \"text-align: right;\">-115.178</td><td style = \"text-align: right;\">36.2857</td><td style = \"text-align: left;\">Subway</td><td style = \"text-align: left;\">6885 Aliante Parkway, N Las Vegas, NV, 89084</td><td style = \"text-align: right;\">4208824392</td></tr><tr><td class = \"rowNumber\" style = \"font-weight: bold; text-align: right;\">110</td><td style = \"text-align: right;\">-115.118</td><td style = \"text-align: right;\">36.2176</td><td style = \"text-align: left;\">Subway</td><td style = \"text-align: left;\">2265 Cheyenne Avenue, North Las Vegas, NV, 89030</td><td style = \"text-align: right;\">5851001667</td></tr><tr><td class = \"rowNumber\" style = \"font-weight: bold; text-align: right;\">111</td><td style = \"text-align: right;\">-115.116</td><td style = \"text-align: right;\">36.24</td><td style = \"text-align: left;\">Subway</td><td style = \"text-align: left;\">2546 E Craig Rd, North Las Vegas, NV, 89030</td><td style = \"text-align: right;\">5534608424</td></tr><tr><td class = \"rowNumber\" style = \"font-weight: bold; text-align: right;\">112</td><td style = \"text-align: right;\">-115.109</td><td style = \"text-align: right;\">36.2081</td><td style = \"text-align: left;\">Subway</td><td style = \"text-align: left;\">2668 North Las Vegas Blvd, North Las Vegas, NV, 89030</td><td style = \"text-align: right;\">5483724476</td></tr><tr><td class = \"rowNumber\" style = \"font-weight: bold; text-align: right;\">113</td><td style = \"text-align: right;\">-115.179</td><td style = \"text-align: right;\">36.2396</td><td style = \"text-align: left;\">Subway</td><td style = \"text-align: left;\">2816 W Craig Rd, North Las Vegas, NV, 89030</td><td style = \"text-align: right;\">5513681535</td></tr><tr><td class = \"rowNumber\" style = \"font-weight: bold; text-align: right;\">114</td><td style = \"text-align: right;\">-115.182</td><td style = \"text-align: right;\">36.2617</td><td style = \"text-align: left;\">Subway</td><td style = \"text-align: left;\">3030 W Ann Rd, North Las Vegas, NV, 89031</td><td style = \"text-align: right;\">5512410055</td></tr><tr><td class = \"rowNumber\" style = \"font-weight: bold; text-align: right;\">115</td><td style = \"text-align: right;\">-115.193</td><td style = \"text-align: right;\">36.1999</td><td style = \"text-align: left;\">Subway</td><td style = \"text-align: left;\">3950 W Lake Mead Blvd, North Las Vegas, NV, 89032</td><td style = \"text-align: right;\">5788688096</td></tr><tr><td class = \"rowNumber\" style = \"font-weight: bold; text-align: right;\">116</td><td style = \"text-align: right;\">-115.097</td><td style = \"text-align: right;\">36.2396</td><td style = \"text-align: left;\">Subway</td><td style = \"text-align: left;\">4375 N Pecos Rd, North Las Vegas, NV, 89030</td><td style = \"text-align: right;\">5534608851</td></tr><tr><td class = \"rowNumber\" style = \"font-weight: bold; text-align: right;\">117</td><td style = \"text-align: right;\">-115.155</td><td style = \"text-align: right;\">36.2603</td><td style = \"text-align: left;\">Subway</td><td style = \"text-align: left;\">5546 Camino Al Norte, North Las Vegas, NV, 89031</td><td style = \"text-align: right;\">5096983700</td></tr><tr><td class = \"rowNumber\" style = \"font-weight: bold; text-align: right;\">118</td><td style = \"text-align: right;\">-115.18</td><td style = \"text-align: right;\">36.2753</td><td style = \"text-align: left;\">Subway</td><td style = \"text-align: left;\">6360 Simmons St., North Las Vegas, NV, 89031</td><td style = \"text-align: right;\">5512410390</td></tr></tbody></table></div>"
      ],
      "text/latex": [
       "\\begin{tabular}{r|ccccc}\n",
       "\t& long & latt & name & address & \\\\\n",
       "\t\\hline\n",
       "\t& Float64 & Float64 & String7 & String & \\\\\n",
       "\t\\hline\n",
       "\t1 & -115.314 & 36.1003 & Subway & 10140 W Tropicana Ave, Las Vegas, NV, 89147 & $\\dots$ \\\\\n",
       "\t2 & -115.141 & 36.1148 & Subway & 1040 E Flamingo, Las Vegas, NV, 89109 & $\\dots$ \\\\\n",
       "\t3 & -115.325 & 36.2187 & Subway & 10470 W Cheyanne, Las Vegas, NV, 89129 & $\\dots$ \\\\\n",
       "\t4 & -115.207 & 35.9976 & Subway & 10550 Southern Highlands Pky, Las Vegas, NV, 89141 & $\\dots$ \\\\\n",
       "\t5 & -115.244 & 36.1588 & Subway & 1105 S Rainbow, Las Vegas, NV, 89102 & $\\dots$ \\\\\n",
       "\t6 & -115.137 & 36.1011 & Subway & 1196 E Tropicana Ave, Las Vegas, NV, 89119 & $\\dots$ \\\\\n",
       "\t7 & -115.08 & 36.1575 & Subway & 1300 South Lamb Blvd., Las Vegas, NV, 89104 & $\\dots$ \\\\\n",
       "\t8 & -115.26 & 36.1901 & Subway & 1750 N Buffalo, Las Vegas, NV, 89128 & $\\dots$ \\\\\n",
       "\t9 & -115.206 & 36.1948 & Subway & 1940 N Decatur Blvd, Las Vegas, NV, 89108 & $\\dots$ \\\\\n",
       "\t10 & -115.062 & 36.1956 & Subway & 1961 N Nellis Blvd, Las Vegas, NV, 89115 & $\\dots$ \\\\\n",
       "\t11 & -115.208 & 36.1498 & Subway & 2003 S Decatur Blvd, Las Vegas, NV, 89102 & $\\dots$ \\\\\n",
       "\t12 & -115.144 & 36.1707 & Subway & 202 Fremont Street, Las Vegas, NV, 89101 & $\\dots$ \\\\\n",
       "\t13 & -115.12 & 36.2762 & Subway & 2225 E Centennial Pky, Las Vegas, NV, 89081 & $\\dots$ \\\\\n",
       "\t14 & -115.155 & 36.1443 & Subway & 2246 Paradise Road, Las Vegas, NV, 89104 & $\\dots$ \\\\\n",
       "\t15 & -115.28 & 36.2032 & Subway & 2255 N Rampart Blvd, Las Vegas, NV, 89128 & $\\dots$ \\\\\n",
       "\t16 & -115.12 & 36.0999 & Subway & 2375 E Tropicana Ave, Las Vegas, NV, 89119 & $\\dots$ \\\\\n",
       "\t17 & -115.197 & 36.2005 & Subway & 2400 N Rancho Dr, Las Vegas, NV, 89130 & $\\dots$ \\\\\n",
       "\t18 & -115.175 & 36.1438 & Subway & 2411 W Sahara Ave, Las Vegas, NV, 89102 & $\\dots$ \\\\\n",
       "\t19 & -115.119 & 36.1438 & Subway & 2520 S Eastern Ave, Las Vegas, NV, 89109 & $\\dots$ \\\\\n",
       "\t20 & -115.279 & 36.143 & Subway & 2551 S Durango Dr, Las Vegas, NV, 89117 & $\\dots$ \\\\\n",
       "\t21 & -115.163 & 36.1362 & Subway & 2890 Las Vegas Blvd S, Las Vegas, NV, 89109 & $\\dots$ \\\\\n",
       "\t22 & -115.107 & 36.1738 & Subway & 3040 E Bonanza Rd, Las Vegas, NV, 89101 & $\\dots$ \\\\\n",
       "\t23 & -115.19 & 36.1329 & Subway & 3140 S Valley View Blvd, Las Vegas, NV, 89102 & $\\dots$ \\\\\n",
       "\t24 & -115.106 & 36.1299 & Subway & 3180 E Desert Inn Rd, Las Vegas, NV, 89121 & $\\dots$ \\\\\n",
       "\t25 & -115.168 & 36.1277 & Subway & 3200 Las Vegas Blvd S, Las Vegas, NV, 89109 & $\\dots$ \\\\\n",
       "\t26 & -115.212 & 36.2172 & Subway & 3201 N Rancho Dr, Las Vegas, NV, 89108 & $\\dots$ \\\\\n",
       "\t27 & -115.065 & 36.1311 & Subway & 3210 S Nellis Blvd, Las Vegas, NV, 89121 & $\\dots$ \\\\\n",
       "\t28 & -115.315 & 36.1284 & Subway & 3370 S Hualapai, Las Vegas, NV, 89117 & $\\dots$ \\\\\n",
       "\t29 & -115.101 & 36.0998 & Subway & 3395 E Tropicana Ave, Las Vegas, NV, 89120 & $\\dots$ \\\\\n",
       "\t30 & -115.172 & 36.1208 & Subway & 3411 Las Vegas Blvd S, Las Vegas, NV, 89109 & $\\dots$ \\\\\n",
       "\t$\\dots$ & $\\dots$ & $\\dots$ & $\\dots$ & $\\dots$ &  \\\\\n",
       "\\end{tabular}\n"
      ],
      "text/plain": [
       "\u001b[1m118×5 DataFrame\u001b[0m\n",
       "\u001b[1m Row \u001b[0m│\u001b[1m long     \u001b[0m\u001b[1m latt    \u001b[0m\u001b[1m name    \u001b[0m\u001b[1m address                           \u001b[0m\u001b[1m node    \u001b[0m ⋯\n",
       "     │\u001b[90m Float64  \u001b[0m\u001b[90m Float64 \u001b[0m\u001b[90m String7 \u001b[0m\u001b[90m String                            \u001b[0m\u001b[90m Int64   \u001b[0m ⋯\n",
       "─────┼──────────────────────────────────────────────────────────────────────────\n",
       "   1 │ -115.314  36.1003  Subway   10140 W Tropicana Ave, Las Vegas…  55033779 ⋯\n",
       "   2 │ -115.141  36.1148  Subway   1040 E Flamingo, Las Vegas, NV, …  27479200\n",
       "   3 │ -115.325  36.2187  Subway   10470 W Cheyanne, Las Vegas, NV,…  25902733\n",
       "   4 │ -115.207  35.9976  Subway   10550 Southern Highlands Pky, La…  55149409\n",
       "   5 │ -115.244  36.1588  Subway   1105 S Rainbow, Las Vegas, NV, 8…  57948716 ⋯\n",
       "   6 │ -115.137  36.1011  Subway   1196 E Tropicana Ave, Las Vegas,…  57175367\n",
       "   7 │ -115.08   36.1575  Subway   1300 South Lamb Blvd., Las Vegas…  48070700\n",
       "   8 │ -115.26   36.1901  Subway   1750 N Buffalo, Las Vegas, NV, 8…  57781255\n",
       "   9 │ -115.206  36.1948  Subway   1940 N Decatur Blvd, Las Vegas, …  57977208 ⋯\n",
       "  10 │ -115.062  36.1956  Subway   1961 N Nellis Blvd, Las Vegas, N…  55213210\n",
       "  11 │ -115.208  36.1498  Subway   2003 S Decatur Blvd, Las Vegas, …  58448819\n",
       "  ⋮  │    ⋮         ⋮        ⋮                     ⋮                      ⋮    ⋱\n",
       " 109 │ -115.178  36.2857  Subway   6885 Aliante Parkway, N Las Vega…  42088243\n",
       " 110 │ -115.118  36.2176  Subway   2265 Cheyenne Avenue, North Las …  58510016 ⋯\n",
       " 111 │ -115.116  36.24    Subway   2546 E Craig Rd, North Las Vegas…  55346084\n",
       " 112 │ -115.109  36.2081  Subway   2668 North Las Vegas Blvd, North…  54837244\n",
       " 113 │ -115.179  36.2396  Subway   2816 W Craig Rd, North Las Vegas…  55136815\n",
       " 114 │ -115.182  36.2617  Subway   3030 W Ann Rd, North Las Vegas, …  55124100 ⋯\n",
       " 115 │ -115.193  36.1999  Subway   3950 W Lake Mead Blvd, North Las…  57886880\n",
       " 116 │ -115.097  36.2396  Subway   4375 N Pecos Rd, North Las Vegas…  55346088\n",
       " 117 │ -115.155  36.2603  Subway   5546 Camino Al Norte, North Las …  50969837\n",
       " 118 │ -115.18   36.2753  Subway   6360 Simmons St., North Las Vega…  55124103 ⋯\n",
       "\u001b[36m                                                    1 column and 97 rows omitted\u001b[0m"
      ]
     },
     "execution_count": 150,
     "metadata": {},
     "output_type": "execute_result"
    }
   ],
   "source": [
    "using CSV, DataFrames, HTTP\n",
    "url = \"https://szufel.pl/tsl/Subway_LV.csv\"\n",
    "sbws_la = DataFrame(CSV.File(HTTP.get(url).body))\n",
    "sbws_la"
   ]
  },
  {
   "cell_type": "code",
   "execution_count": 151,
   "metadata": {},
   "outputs": [
    {
     "data": {
      "image/png": "[encoded data removed]",
      "image/svg+xml": [
       "<?xml version=\"1.0\" encoding=\"utf-8\"?>\n",
       "<svg xmlns=\"http://www.w3.org/2000/svg\" xmlns:xlink=\"http://www.w3.org/1999/xlink\" width=\"600\" height=\"400\" viewBox=\"0 0 2400 1600\">\n",
       "<defs>\n",
       "  <clipPath id=\"clip260\">\n",
       "    <rect x=\"0\" y=\"0\" width=\"2400\" height=\"1600\"/>\n",
       "  </clipPath>\n",
       "</defs>\n",
       "<path clip-path=\"url(#clip260)\" d=\"M0 1600 L2400 1600 L2400 0 L0 0  Z\" fill=\"#ffffff\" fill-rule=\"evenodd\" fill-opacity=\"1\"/>\n",
       "<defs>\n",
       "  <clipPath id=\"clip261\">\n",
       "    <rect x=\"480\" y=\"0\" width=\"1681\" height=\"1600\"/>\n",
       "  </clipPath>\n",
       "</defs>\n",
       "<path clip-path=\"url(#clip260)\" d=\"M215.95 1486.45 L2352.76 1486.45 L2352.76 47.2441 L215.95 47.2441  Z\" fill=\"#ffffff\" fill-rule=\"evenodd\" fill-opacity=\"1\"/>\n",
       "<defs>\n",
       "  <clipPath id=\"clip262\">\n",
       "    <rect x=\"215\" y=\"47\" width=\"2138\" height=\"1440\"/>\n",
       "  </clipPath>\n",
       "</defs>\n",
       "<polyline clip-path=\"url(#clip262)\" style=\"stroke:#000000; stroke-linecap:round; stroke-linejoin:round; stroke-width:2; stroke-opacity:0.1; fill:none\" points=\"470.179,1486.45 470.179,47.2441 \"/>\n",
       "<polyline clip-path=\"url(#clip262)\" style=\"stroke:#000000; stroke-linecap:round; stroke-linejoin:round; stroke-width:2; stroke-opacity:0.1; fill:none\" points=\"853.607,1486.45 853.607,47.2441 \"/>\n",
       "<polyline clip-path=\"url(#clip262)\" style=\"stroke:#000000; stroke-linecap:round; stroke-linejoin:round; stroke-width:2; stroke-opacity:0.1; fill:none\" points=\"1237.03,1486.45 1237.03,47.2441 \"/>\n",
       "<polyline clip-path=\"url(#clip262)\" style=\"stroke:#000000; stroke-linecap:round; stroke-linejoin:round; stroke-width:2; stroke-opacity:0.1; fill:none\" points=\"1620.46,1486.45 1620.46,47.2441 \"/>\n",
       "<polyline clip-path=\"url(#clip262)\" style=\"stroke:#000000; stroke-linecap:round; stroke-linejoin:round; stroke-width:2; stroke-opacity:0.1; fill:none\" points=\"2003.89,1486.45 2003.89,47.2441 \"/>\n",
       "<polyline clip-path=\"url(#clip260)\" style=\"stroke:#000000; stroke-linecap:round; stroke-linejoin:round; stroke-width:4; stroke-opacity:1; fill:none\" points=\"215.95,1486.45 2352.76,1486.45 \"/>\n",
       "<polyline clip-path=\"url(#clip260)\" style=\"stroke:#000000; stroke-linecap:round; stroke-linejoin:round; stroke-width:4; stroke-opacity:1; fill:none\" points=\"470.179,1486.45 470.179,1467.55 \"/>\n",
       "<polyline clip-path=\"url(#clip260)\" style=\"stroke:#000000; stroke-linecap:round; stroke-linejoin:round; stroke-width:4; stroke-opacity:1; fill:none\" points=\"853.607,1486.45 853.607,1467.55 \"/>\n",
       "<polyline clip-path=\"url(#clip260)\" style=\"stroke:#000000; stroke-linecap:round; stroke-linejoin:round; stroke-width:4; stroke-opacity:1; fill:none\" points=\"1237.03,1486.45 1237.03,1467.55 \"/>\n",
       "<polyline clip-path=\"url(#clip260)\" style=\"stroke:#000000; stroke-linecap:round; stroke-linejoin:round; stroke-width:4; stroke-opacity:1; fill:none\" points=\"1620.46,1486.45 1620.46,1467.55 \"/>\n",
       "<polyline clip-path=\"url(#clip260)\" style=\"stroke:#000000; stroke-linecap:round; stroke-linejoin:round; stroke-width:4; stroke-opacity:1; fill:none\" points=\"2003.89,1486.45 2003.89,1467.55 \"/>\n",
       "<path clip-path=\"url(#clip260)\" d=\"M371.464 1532.02 L401.14 1532.02 L401.14 1535.95 L371.464 1535.95 L371.464 1532.02 Z\" fill=\"#000000\" fill-rule=\"nonzero\" fill-opacity=\"1\" /><path clip-path=\"url(#clip260)\" d=\"M412.043 1544.91 L419.682 1544.91 L419.682 1518.55 L411.371 1520.21 L411.371 1515.95 L419.635 1514.29 L424.311 1514.29 L424.311 1544.91 L431.95 1544.91 L431.95 1548.85 L412.043 1548.85 L412.043 1544.91 Z\" fill=\"#000000\" fill-rule=\"nonzero\" fill-opacity=\"1\" /><path clip-path=\"url(#clip260)\" d=\"M442.205 1544.91 L449.843 1544.91 L449.843 1518.55 L441.533 1520.21 L441.533 1515.95 L449.797 1514.29 L454.473 1514.29 L454.473 1544.91 L462.112 1544.91 L462.112 1548.85 L442.205 1548.85 L442.205 1544.91 Z\" fill=\"#000000\" fill-rule=\"nonzero\" fill-opacity=\"1\" /><path clip-path=\"url(#clip260)\" d=\"M471.603 1514.29 L489.959 1514.29 L489.959 1518.22 L475.885 1518.22 L475.885 1526.7 Q476.904 1526.35 477.922 1526.19 Q478.941 1526 479.959 1526 Q485.746 1526 489.126 1529.17 Q492.505 1532.34 492.505 1537.76 Q492.505 1543.34 489.033 1546.44 Q485.561 1549.52 479.241 1549.52 Q477.066 1549.52 474.797 1549.15 Q472.552 1548.78 470.144 1548.04 L470.144 1543.34 Q472.228 1544.47 474.45 1545.03 Q476.672 1545.58 479.149 1545.58 Q483.153 1545.58 485.491 1543.48 Q487.829 1541.37 487.829 1537.76 Q487.829 1534.15 485.491 1532.04 Q483.153 1529.94 479.149 1529.94 Q477.274 1529.94 475.399 1530.35 Q473.547 1530.77 471.603 1531.65 L471.603 1514.29 Z\" fill=\"#000000\" fill-rule=\"nonzero\" fill-opacity=\"1\" /><path clip-path=\"url(#clip260)\" d=\"M501.718 1542.97 L506.602 1542.97 L506.602 1548.85 L501.718 1548.85 L501.718 1542.97 Z\" fill=\"#000000\" fill-rule=\"nonzero\" fill-opacity=\"1\" /><path clip-path=\"url(#clip260)\" d=\"M530.954 1530.21 Q534.311 1530.93 536.186 1533.2 Q538.084 1535.47 538.084 1538.8 Q538.084 1543.92 534.565 1546.72 Q531.047 1549.52 524.565 1549.52 Q522.389 1549.52 520.075 1549.08 Q517.783 1548.66 515.329 1547.81 L515.329 1543.29 Q517.274 1544.43 519.588 1545.01 Q521.903 1545.58 524.426 1545.58 Q528.825 1545.58 531.116 1543.85 Q533.431 1542.11 533.431 1538.8 Q533.431 1535.75 531.278 1534.03 Q529.149 1532.3 525.329 1532.3 L521.301 1532.3 L521.301 1528.45 L525.514 1528.45 Q528.963 1528.45 530.792 1527.09 Q532.621 1525.7 532.621 1523.11 Q532.621 1520.45 530.723 1519.03 Q528.848 1517.6 525.329 1517.6 Q523.408 1517.6 521.209 1518.01 Q519.01 1518.43 516.371 1519.31 L516.371 1515.14 Q519.033 1514.4 521.348 1514.03 Q523.686 1513.66 525.746 1513.66 Q531.07 1513.66 534.172 1516.09 Q537.274 1518.5 537.274 1522.62 Q537.274 1525.49 535.63 1527.48 Q533.987 1529.45 530.954 1530.21 Z\" fill=\"#000000\" fill-rule=\"nonzero\" fill-opacity=\"1\" /><path clip-path=\"url(#clip260)\" d=\"M556.949 1517.37 Q553.338 1517.37 551.51 1520.93 Q549.704 1524.47 549.704 1531.6 Q549.704 1538.71 551.51 1542.27 Q553.338 1545.82 556.949 1545.82 Q560.584 1545.82 562.389 1542.27 Q564.218 1538.71 564.218 1531.6 Q564.218 1524.47 562.389 1520.93 Q560.584 1517.37 556.949 1517.37 M556.949 1513.66 Q562.76 1513.66 565.815 1518.27 Q568.894 1522.85 568.894 1531.6 Q568.894 1540.33 565.815 1544.94 Q562.76 1549.52 556.949 1549.52 Q551.139 1549.52 548.061 1544.94 Q545.005 1540.33 545.005 1531.6 Q545.005 1522.85 548.061 1518.27 Q551.139 1513.66 556.949 1513.66 Z\" fill=\"#000000\" fill-rule=\"nonzero\" fill-opacity=\"1\" /><path clip-path=\"url(#clip260)\" d=\"M755.389 1532.02 L785.065 1532.02 L785.065 1535.95 L755.389 1535.95 L755.389 1532.02 Z\" fill=\"#000000\" fill-rule=\"nonzero\" fill-opacity=\"1\" /><path clip-path=\"url(#clip260)\" d=\"M795.968 1544.91 L803.607 1544.91 L803.607 1518.55 L795.297 1520.21 L795.297 1515.95 L803.56 1514.29 L808.236 1514.29 L808.236 1544.91 L815.875 1544.91 L815.875 1548.85 L795.968 1548.85 L795.968 1544.91 Z\" fill=\"#000000\" fill-rule=\"nonzero\" fill-opacity=\"1\" /><path clip-path=\"url(#clip260)\" d=\"M826.13 1544.91 L833.769 1544.91 L833.769 1518.55 L825.459 1520.21 L825.459 1515.95 L833.722 1514.29 L838.398 1514.29 L838.398 1544.91 L846.037 1544.91 L846.037 1548.85 L826.13 1548.85 L826.13 1544.91 Z\" fill=\"#000000\" fill-rule=\"nonzero\" fill-opacity=\"1\" /><path clip-path=\"url(#clip260)\" d=\"M855.528 1514.29 L873.884 1514.29 L873.884 1518.22 L859.81 1518.22 L859.81 1526.7 Q860.829 1526.35 861.847 1526.19 Q862.866 1526 863.884 1526 Q869.671 1526 873.051 1529.17 Q876.43 1532.34 876.43 1537.76 Q876.43 1543.34 872.958 1546.44 Q869.486 1549.52 863.167 1549.52 Q860.991 1549.52 858.722 1549.15 Q856.477 1548.78 854.069 1548.04 L854.069 1543.34 Q856.153 1544.47 858.375 1545.03 Q860.597 1545.58 863.074 1545.58 Q867.079 1545.58 869.417 1543.48 Q871.755 1541.37 871.755 1537.76 Q871.755 1534.15 869.417 1532.04 Q867.079 1529.94 863.074 1529.94 Q861.199 1529.94 859.324 1530.35 Q857.472 1530.77 855.528 1531.65 L855.528 1514.29 Z\" fill=\"#000000\" fill-rule=\"nonzero\" fill-opacity=\"1\" /><path clip-path=\"url(#clip260)\" d=\"M885.643 1542.97 L890.528 1542.97 L890.528 1548.85 L885.643 1548.85 L885.643 1542.97 Z\" fill=\"#000000\" fill-rule=\"nonzero\" fill-opacity=\"1\" /><path clip-path=\"url(#clip260)\" d=\"M904.741 1544.91 L921.06 1544.91 L921.06 1548.85 L899.116 1548.85 L899.116 1544.91 Q901.778 1542.16 906.361 1537.53 Q910.967 1532.88 912.148 1531.53 Q914.393 1529.01 915.273 1527.27 Q916.176 1525.51 916.176 1523.82 Q916.176 1521.07 914.231 1519.33 Q912.31 1517.6 909.208 1517.6 Q907.009 1517.6 904.555 1518.36 Q902.125 1519.13 899.347 1520.68 L899.347 1515.95 Q902.171 1514.82 904.625 1514.24 Q907.078 1513.66 909.115 1513.66 Q914.486 1513.66 917.68 1516.35 Q920.875 1519.03 920.875 1523.52 Q920.875 1525.65 920.065 1527.57 Q919.277 1529.47 917.171 1532.07 Q916.592 1532.74 913.49 1535.95 Q910.389 1539.15 904.741 1544.91 Z\" fill=\"#000000\" fill-rule=\"nonzero\" fill-opacity=\"1\" /><path clip-path=\"url(#clip260)\" d=\"M930.921 1514.29 L949.277 1514.29 L949.277 1518.22 L935.203 1518.22 L935.203 1526.7 Q936.222 1526.35 937.24 1526.19 Q938.259 1526 939.277 1526 Q945.064 1526 948.444 1529.17 Q951.824 1532.34 951.824 1537.76 Q951.824 1543.34 948.351 1546.44 Q944.879 1549.52 938.56 1549.52 Q936.384 1549.52 934.115 1549.15 Q931.87 1548.78 929.463 1548.04 L929.463 1543.34 Q931.546 1544.47 933.768 1545.03 Q935.99 1545.58 938.467 1545.58 Q942.472 1545.58 944.81 1543.48 Q947.148 1541.37 947.148 1537.76 Q947.148 1534.15 944.81 1532.04 Q942.472 1529.94 938.467 1529.94 Q936.592 1529.94 934.717 1530.35 Q932.865 1530.77 930.921 1531.65 L930.921 1514.29 Z\" fill=\"#000000\" fill-rule=\"nonzero\" fill-opacity=\"1\" /><path clip-path=\"url(#clip260)\" d=\"M1138.32 1532.02 L1168 1532.02 L1168 1535.95 L1138.32 1535.95 L1138.32 1532.02 Z\" fill=\"#000000\" fill-rule=\"nonzero\" fill-opacity=\"1\" /><path clip-path=\"url(#clip260)\" d=\"M1178.9 1544.91 L1186.54 1544.91 L1186.54 1518.55 L1178.23 1520.21 L1178.23 1515.95 L1186.49 1514.29 L1191.17 1514.29 L1191.17 1544.91 L1198.81 1544.91 L1198.81 1548.85 L1178.9 1548.85 L1178.9 1544.91 Z\" fill=\"#000000\" fill-rule=\"nonzero\" fill-opacity=\"1\" /><path clip-path=\"url(#clip260)\" d=\"M1209.06 1544.91 L1216.7 1544.91 L1216.7 1518.55 L1208.39 1520.21 L1208.39 1515.95 L1216.65 1514.29 L1221.33 1514.29 L1221.33 1544.91 L1228.97 1544.91 L1228.97 1548.85 L1209.06 1548.85 L1209.06 1544.91 Z\" fill=\"#000000\" fill-rule=\"nonzero\" fill-opacity=\"1\" /><path clip-path=\"url(#clip260)\" d=\"M1238.46 1514.29 L1256.81 1514.29 L1256.81 1518.22 L1242.74 1518.22 L1242.74 1526.7 Q1243.76 1526.35 1244.78 1526.19 Q1245.8 1526 1246.81 1526 Q1252.6 1526 1255.98 1529.17 Q1259.36 1532.34 1259.36 1537.76 Q1259.36 1543.34 1255.89 1546.44 Q1252.42 1549.52 1246.1 1549.52 Q1243.92 1549.52 1241.65 1549.15 Q1239.41 1548.78 1237 1548.04 L1237 1543.34 Q1239.08 1544.47 1241.3 1545.03 Q1243.53 1545.58 1246 1545.58 Q1250.01 1545.58 1252.35 1543.48 Q1254.68 1541.37 1254.68 1537.76 Q1254.68 1534.15 1252.35 1532.04 Q1250.01 1529.94 1246 1529.94 Q1244.13 1529.94 1242.25 1530.35 Q1240.4 1530.77 1238.46 1531.65 L1238.46 1514.29 Z\" fill=\"#000000\" fill-rule=\"nonzero\" fill-opacity=\"1\" /><path clip-path=\"url(#clip260)\" d=\"M1268.57 1542.97 L1273.46 1542.97 L1273.46 1548.85 L1268.57 1548.85 L1268.57 1542.97 Z\" fill=\"#000000\" fill-rule=\"nonzero\" fill-opacity=\"1\" /><path clip-path=\"url(#clip260)\" d=\"M1287.67 1544.91 L1303.99 1544.91 L1303.99 1548.85 L1282.05 1548.85 L1282.05 1544.91 Q1284.71 1542.16 1289.29 1537.53 Q1293.9 1532.88 1295.08 1531.53 Q1297.32 1529.01 1298.2 1527.27 Q1299.11 1525.51 1299.11 1523.82 Q1299.11 1521.07 1297.16 1519.33 Q1295.24 1517.6 1292.14 1517.6 Q1289.94 1517.6 1287.49 1518.36 Q1285.05 1519.13 1282.28 1520.68 L1282.28 1515.95 Q1285.1 1514.82 1287.55 1514.24 Q1290.01 1513.66 1292.05 1513.66 Q1297.42 1513.66 1300.61 1516.35 Q1303.8 1519.03 1303.8 1523.52 Q1303.8 1525.65 1302.99 1527.57 Q1302.21 1529.47 1300.1 1532.07 Q1299.52 1532.74 1296.42 1535.95 Q1293.32 1539.15 1287.67 1544.91 Z\" fill=\"#000000\" fill-rule=\"nonzero\" fill-opacity=\"1\" /><path clip-path=\"url(#clip260)\" d=\"M1323.8 1517.37 Q1320.19 1517.37 1318.36 1520.93 Q1316.56 1524.47 1316.56 1531.6 Q1316.56 1538.71 1318.36 1542.27 Q1320.19 1545.82 1323.8 1545.82 Q1327.44 1545.82 1329.24 1542.27 Q1331.07 1538.71 1331.07 1531.6 Q1331.07 1524.47 1329.24 1520.93 Q1327.44 1517.37 1323.8 1517.37 M1323.8 1513.66 Q1329.61 1513.66 1332.67 1518.27 Q1335.75 1522.85 1335.75 1531.6 Q1335.75 1540.33 1332.67 1544.94 Q1329.61 1549.52 1323.8 1549.52 Q1317.99 1549.52 1314.92 1544.94 Q1311.86 1540.33 1311.86 1531.6 Q1311.86 1522.85 1314.92 1518.27 Q1317.99 1513.66 1323.8 1513.66 Z\" fill=\"#000000\" fill-rule=\"nonzero\" fill-opacity=\"1\" /><path clip-path=\"url(#clip260)\" d=\"M1522.24 1532.02 L1551.92 1532.02 L1551.92 1535.95 L1522.24 1535.95 L1522.24 1532.02 Z\" fill=\"#000000\" fill-rule=\"nonzero\" fill-opacity=\"1\" /><path clip-path=\"url(#clip260)\" d=\"M1562.82 1544.91 L1570.46 1544.91 L1570.46 1518.55 L1562.15 1520.21 L1562.15 1515.95 L1570.42 1514.29 L1575.09 1514.29 L1575.09 1544.91 L1582.73 1544.91 L1582.73 1548.85 L1562.82 1548.85 L1562.82 1544.91 Z\" fill=\"#000000\" fill-rule=\"nonzero\" fill-opacity=\"1\" /><path clip-path=\"url(#clip260)\" d=\"M1592.98 1544.91 L1600.62 1544.91 L1600.62 1518.55 L1592.31 1520.21 L1592.31 1515.95 L1600.58 1514.29 L1605.25 1514.29 L1605.25 1544.91 L1612.89 1544.91 L1612.89 1548.85 L1592.98 1548.85 L1592.98 1544.91 Z\" fill=\"#000000\" fill-rule=\"nonzero\" fill-opacity=\"1\" /><path clip-path=\"url(#clip260)\" d=\"M1622.38 1514.29 L1640.74 1514.29 L1640.74 1518.22 L1626.67 1518.22 L1626.67 1526.7 Q1627.68 1526.35 1628.7 1526.19 Q1629.72 1526 1630.74 1526 Q1636.53 1526 1639.91 1529.17 Q1643.29 1532.34 1643.29 1537.76 Q1643.29 1543.34 1639.81 1546.44 Q1636.34 1549.52 1630.02 1549.52 Q1627.85 1549.52 1625.58 1549.15 Q1623.33 1548.78 1620.92 1548.04 L1620.92 1543.34 Q1623.01 1544.47 1625.23 1545.03 Q1627.45 1545.58 1629.93 1545.58 Q1633.93 1545.58 1636.27 1543.48 Q1638.61 1541.37 1638.61 1537.76 Q1638.61 1534.15 1636.27 1532.04 Q1633.93 1529.94 1629.93 1529.94 Q1628.05 1529.94 1626.18 1530.35 Q1624.33 1530.77 1622.38 1531.65 L1622.38 1514.29 Z\" fill=\"#000000\" fill-rule=\"nonzero\" fill-opacity=\"1\" /><path clip-path=\"url(#clip260)\" d=\"M1652.5 1542.97 L1657.38 1542.97 L1657.38 1548.85 L1652.5 1548.85 L1652.5 1542.97 Z\" fill=\"#000000\" fill-rule=\"nonzero\" fill-opacity=\"1\" /><path clip-path=\"url(#clip260)\" d=\"M1668.38 1544.91 L1676.02 1544.91 L1676.02 1518.55 L1667.71 1520.21 L1667.71 1515.95 L1675.97 1514.29 L1680.65 1514.29 L1680.65 1544.91 L1688.29 1544.91 L1688.29 1548.85 L1668.38 1548.85 L1668.38 1544.91 Z\" fill=\"#000000\" fill-rule=\"nonzero\" fill-opacity=\"1\" /><path clip-path=\"url(#clip260)\" d=\"M1697.78 1514.29 L1716.13 1514.29 L1716.13 1518.22 L1702.06 1518.22 L1702.06 1526.7 Q1703.08 1526.35 1704.1 1526.19 Q1705.11 1526 1706.13 1526 Q1711.92 1526 1715.3 1529.17 Q1718.68 1532.34 1718.68 1537.76 Q1718.68 1543.34 1715.21 1546.44 Q1711.73 1549.52 1705.41 1549.52 Q1703.24 1549.52 1700.97 1549.15 Q1698.73 1548.78 1696.32 1548.04 L1696.32 1543.34 Q1698.4 1544.47 1700.62 1545.03 Q1702.85 1545.58 1705.32 1545.58 Q1709.33 1545.58 1711.66 1543.48 Q1714 1541.37 1714 1537.76 Q1714 1534.15 1711.66 1532.04 Q1709.33 1529.94 1705.32 1529.94 Q1703.45 1529.94 1701.57 1530.35 Q1699.72 1530.77 1697.78 1531.65 L1697.78 1514.29 Z\" fill=\"#000000\" fill-rule=\"nonzero\" fill-opacity=\"1\" /><path clip-path=\"url(#clip260)\" d=\"M1905.17 1532.02 L1934.85 1532.02 L1934.85 1535.95 L1905.17 1535.95 L1905.17 1532.02 Z\" fill=\"#000000\" fill-rule=\"nonzero\" fill-opacity=\"1\" /><path clip-path=\"url(#clip260)\" d=\"M1945.75 1544.91 L1953.39 1544.91 L1953.39 1518.55 L1945.08 1520.21 L1945.08 1515.95 L1953.35 1514.29 L1958.02 1514.29 L1958.02 1544.91 L1965.66 1544.91 L1965.66 1548.85 L1945.75 1548.85 L1945.75 1544.91 Z\" fill=\"#000000\" fill-rule=\"nonzero\" fill-opacity=\"1\" /><path clip-path=\"url(#clip260)\" d=\"M1975.91 1544.91 L1983.55 1544.91 L1983.55 1518.55 L1975.24 1520.21 L1975.24 1515.95 L1983.51 1514.29 L1988.18 1514.29 L1988.18 1544.91 L1995.82 1544.91 L1995.82 1548.85 L1975.91 1548.85 L1975.91 1544.91 Z\" fill=\"#000000\" fill-rule=\"nonzero\" fill-opacity=\"1\" /><path clip-path=\"url(#clip260)\" d=\"M2005.31 1514.29 L2023.67 1514.29 L2023.67 1518.22 L2009.6 1518.22 L2009.6 1526.7 Q2010.61 1526.35 2011.63 1526.19 Q2012.65 1526 2013.67 1526 Q2019.46 1526 2022.84 1529.17 Q2026.22 1532.34 2026.22 1537.76 Q2026.22 1543.34 2022.74 1546.44 Q2019.27 1549.52 2012.95 1549.52 Q2010.78 1549.52 2008.51 1549.15 Q2006.26 1548.78 2003.85 1548.04 L2003.85 1543.34 Q2005.94 1544.47 2008.16 1545.03 Q2010.38 1545.58 2012.86 1545.58 Q2016.86 1545.58 2019.2 1543.48 Q2021.54 1541.37 2021.54 1537.76 Q2021.54 1534.15 2019.2 1532.04 Q2016.86 1529.94 2012.86 1529.94 Q2010.98 1529.94 2009.11 1530.35 Q2007.26 1530.77 2005.31 1531.65 L2005.31 1514.29 Z\" fill=\"#000000\" fill-rule=\"nonzero\" fill-opacity=\"1\" /><path clip-path=\"url(#clip260)\" d=\"M2035.43 1542.97 L2040.31 1542.97 L2040.31 1548.85 L2035.43 1548.85 L2035.43 1542.97 Z\" fill=\"#000000\" fill-rule=\"nonzero\" fill-opacity=\"1\" /><path clip-path=\"url(#clip260)\" d=\"M2051.31 1544.91 L2058.95 1544.91 L2058.95 1518.55 L2050.64 1520.21 L2050.64 1515.95 L2058.9 1514.29 L2063.58 1514.29 L2063.58 1544.91 L2071.22 1544.91 L2071.22 1548.85 L2051.31 1548.85 L2051.31 1544.91 Z\" fill=\"#000000\" fill-rule=\"nonzero\" fill-opacity=\"1\" /><path clip-path=\"url(#clip260)\" d=\"M2090.66 1517.37 Q2087.05 1517.37 2085.22 1520.93 Q2083.41 1524.47 2083.41 1531.6 Q2083.41 1538.71 2085.22 1542.27 Q2087.05 1545.82 2090.66 1545.82 Q2094.29 1545.82 2096.1 1542.27 Q2097.93 1538.71 2097.93 1531.6 Q2097.93 1524.47 2096.1 1520.93 Q2094.29 1517.37 2090.66 1517.37 M2090.66 1513.66 Q2096.47 1513.66 2099.53 1518.27 Q2102.6 1522.85 2102.6 1531.6 Q2102.6 1540.33 2099.53 1544.94 Q2096.47 1549.52 2090.66 1549.52 Q2084.85 1549.52 2081.77 1544.94 Q2078.72 1540.33 2078.72 1531.6 Q2078.72 1522.85 2081.77 1518.27 Q2084.85 1513.66 2090.66 1513.66 Z\" fill=\"#000000\" fill-rule=\"nonzero\" fill-opacity=\"1\" /><polyline clip-path=\"url(#clip262)\" style=\"stroke:#000000; stroke-linecap:round; stroke-linejoin:round; stroke-width:2; stroke-opacity:0.1; fill:none\" points=\"215.95,1434.2 2352.76,1434.2 \"/>\n",
       "<polyline clip-path=\"url(#clip262)\" style=\"stroke:#000000; stroke-linecap:round; stroke-linejoin:round; stroke-width:2; stroke-opacity:0.1; fill:none\" points=\"215.95,1190.48 2352.76,1190.48 \"/>\n",
       "<polyline clip-path=\"url(#clip262)\" style=\"stroke:#000000; stroke-linecap:round; stroke-linejoin:round; stroke-width:2; stroke-opacity:0.1; fill:none\" points=\"215.95,946.759 2352.76,946.759 \"/>\n",
       "<polyline clip-path=\"url(#clip262)\" style=\"stroke:#000000; stroke-linecap:round; stroke-linejoin:round; stroke-width:2; stroke-opacity:0.1; fill:none\" points=\"215.95,703.04 2352.76,703.04 \"/>\n",
       "<polyline clip-path=\"url(#clip262)\" style=\"stroke:#000000; stroke-linecap:round; stroke-linejoin:round; stroke-width:2; stroke-opacity:0.1; fill:none\" points=\"215.95,459.321 2352.76,459.321 \"/>\n",
       "<polyline clip-path=\"url(#clip262)\" style=\"stroke:#000000; stroke-linecap:round; stroke-linejoin:round; stroke-width:2; stroke-opacity:0.1; fill:none\" points=\"215.95,215.602 2352.76,215.602 \"/>\n",
       "<polyline clip-path=\"url(#clip260)\" style=\"stroke:#000000; stroke-linecap:round; stroke-linejoin:round; stroke-width:4; stroke-opacity:1; fill:none\" points=\"215.95,1486.45 215.95,47.2441 \"/>\n",
       "<polyline clip-path=\"url(#clip260)\" style=\"stroke:#000000; stroke-linecap:round; stroke-linejoin:round; stroke-width:4; stroke-opacity:1; fill:none\" points=\"215.95,1434.2 234.847,1434.2 \"/>\n",
       "<polyline clip-path=\"url(#clip260)\" style=\"stroke:#000000; stroke-linecap:round; stroke-linejoin:round; stroke-width:4; stroke-opacity:1; fill:none\" points=\"215.95,1190.48 234.847,1190.48 \"/>\n",
       "<polyline clip-path=\"url(#clip260)\" style=\"stroke:#000000; stroke-linecap:round; stroke-linejoin:round; stroke-width:4; stroke-opacity:1; fill:none\" points=\"215.95,946.759 234.847,946.759 \"/>\n",
       "<polyline clip-path=\"url(#clip260)\" style=\"stroke:#000000; stroke-linecap:round; stroke-linejoin:round; stroke-width:4; stroke-opacity:1; fill:none\" points=\"215.95,703.04 234.847,703.04 \"/>\n",
       "<polyline clip-path=\"url(#clip260)\" style=\"stroke:#000000; stroke-linecap:round; stroke-linejoin:round; stroke-width:4; stroke-opacity:1; fill:none\" points=\"215.95,459.321 234.847,459.321 \"/>\n",
       "<polyline clip-path=\"url(#clip260)\" style=\"stroke:#000000; stroke-linecap:round; stroke-linejoin:round; stroke-width:4; stroke-opacity:1; fill:none\" points=\"215.95,215.602 234.847,215.602 \"/>\n",
       "<path clip-path=\"url(#clip260)\" d=\"M66.617 1432.84 Q69.9735 1433.56 71.8485 1435.83 Q73.7466 1438.1 73.7466 1441.43 Q73.7466 1446.55 70.2281 1449.35 Q66.7096 1452.15 60.2282 1452.15 Q58.0523 1452.15 55.7375 1451.71 Q53.4458 1451.29 50.9921 1450.44 L50.9921 1445.92 Q52.9366 1447.06 55.2514 1447.63 Q57.5662 1448.21 60.0893 1448.21 Q64.4874 1448.21 66.7791 1446.48 Q69.0939 1444.74 69.0939 1441.43 Q69.0939 1438.38 66.9411 1436.66 Q64.8115 1434.93 60.9921 1434.93 L56.9643 1434.93 L56.9643 1431.08 L61.1773 1431.08 Q64.6263 1431.08 66.455 1429.72 Q68.2837 1428.33 68.2837 1425.74 Q68.2837 1423.07 66.3856 1421.66 Q64.5106 1420.23 60.9921 1420.23 Q59.0708 1420.23 56.8717 1420.64 Q54.6727 1421.06 52.0338 1421.94 L52.0338 1417.77 Q54.6958 1417.03 57.0106 1416.66 Q59.3486 1416.29 61.4087 1416.29 Q66.7328 1416.29 69.8346 1418.72 Q72.9365 1421.13 72.9365 1425.25 Q72.9365 1428.12 71.2929 1430.11 Q69.6494 1432.08 66.617 1432.84 Z\" fill=\"#000000\" fill-rule=\"nonzero\" fill-opacity=\"1\" /><path clip-path=\"url(#clip260)\" d=\"M93.191 1432.33 Q90.0428 1432.33 88.191 1434.49 Q86.3623 1436.64 86.3623 1440.39 Q86.3623 1444.12 88.191 1446.29 Q90.0428 1448.45 93.191 1448.45 Q96.3391 1448.45 98.1678 1446.29 Q100.02 1444.12 100.02 1440.39 Q100.02 1436.64 98.1678 1434.49 Q96.3391 1432.33 93.191 1432.33 M102.473 1417.68 L102.473 1421.94 Q100.714 1421.11 98.9085 1420.67 Q97.1261 1420.23 95.3669 1420.23 Q90.7373 1420.23 88.2836 1423.35 Q85.8531 1426.48 85.5058 1432.8 Q86.8716 1430.78 88.9317 1429.72 Q90.9919 1428.63 93.4688 1428.63 Q98.6771 1428.63 101.686 1431.8 Q104.719 1434.95 104.719 1440.39 Q104.719 1445.71 101.571 1448.93 Q98.4224 1452.15 93.191 1452.15 Q87.1956 1452.15 84.0244 1447.57 Q80.8531 1442.96 80.8531 1434.23 Q80.8531 1426.04 84.7419 1421.18 Q88.6308 1416.29 95.1817 1416.29 Q96.941 1416.29 98.7234 1416.64 Q100.529 1416.99 102.473 1417.68 Z\" fill=\"#000000\" fill-rule=\"nonzero\" fill-opacity=\"1\" /><path clip-path=\"url(#clip260)\" d=\"M112.774 1445.6 L117.658 1445.6 L117.658 1451.48 L112.774 1451.48 L112.774 1445.6 Z\" fill=\"#000000\" fill-rule=\"nonzero\" fill-opacity=\"1\" /><path clip-path=\"url(#clip260)\" d=\"M137.844 1420 Q134.232 1420 132.404 1423.56 Q130.598 1427.1 130.598 1434.23 Q130.598 1441.34 132.404 1444.9 Q134.232 1448.45 137.844 1448.45 Q141.478 1448.45 143.283 1444.9 Q145.112 1441.34 145.112 1434.23 Q145.112 1427.1 143.283 1423.56 Q141.478 1420 137.844 1420 M137.844 1416.29 Q143.654 1416.29 146.709 1420.9 Q149.788 1425.48 149.788 1434.23 Q149.788 1442.96 146.709 1447.57 Q143.654 1452.15 137.844 1452.15 Q132.033 1452.15 128.955 1447.57 Q125.899 1442.96 125.899 1434.23 Q125.899 1425.48 128.955 1420.9 Q132.033 1416.29 137.844 1416.29 Z\" fill=\"#000000\" fill-rule=\"nonzero\" fill-opacity=\"1\" /><path clip-path=\"url(#clip260)\" d=\"M168.005 1420 Q164.394 1420 162.566 1423.56 Q160.76 1427.1 160.76 1434.23 Q160.76 1441.34 162.566 1444.9 Q164.394 1448.45 168.005 1448.45 Q171.64 1448.45 173.445 1444.9 Q175.274 1441.34 175.274 1434.23 Q175.274 1427.1 173.445 1423.56 Q171.64 1420 168.005 1420 M168.005 1416.29 Q173.816 1416.29 176.871 1420.9 Q179.95 1425.48 179.95 1434.23 Q179.95 1442.96 176.871 1447.57 Q173.816 1452.15 168.005 1452.15 Q162.195 1452.15 159.117 1447.57 Q156.061 1442.96 156.061 1434.23 Q156.061 1425.48 159.117 1420.9 Q162.195 1416.29 168.005 1416.29 Z\" fill=\"#000000\" fill-rule=\"nonzero\" fill-opacity=\"1\" /><path clip-path=\"url(#clip260)\" d=\"M67.6124 1189.12 Q70.9689 1189.84 72.8439 1192.11 Q74.742 1194.38 74.742 1197.71 Q74.742 1202.83 71.2235 1205.63 Q67.705 1208.43 61.2236 1208.43 Q59.0476 1208.43 56.7328 1207.99 Q54.4412 1207.57 51.9875 1206.72 L51.9875 1202.2 Q53.9319 1203.34 56.2467 1203.92 Q58.5615 1204.49 61.0847 1204.49 Q65.4828 1204.49 67.7744 1202.76 Q70.0892 1201.02 70.0892 1197.71 Q70.0892 1194.66 67.9365 1192.94 Q65.8069 1191.21 61.9874 1191.21 L57.9597 1191.21 L57.9597 1187.37 L62.1726 1187.37 Q65.6217 1187.37 67.4504 1186 Q69.2791 1184.61 69.2791 1182.02 Q69.2791 1179.36 67.3809 1177.94 Q65.5059 1176.51 61.9874 1176.51 Q60.0662 1176.51 57.8671 1176.93 Q55.668 1177.34 53.0292 1178.22 L53.0292 1174.05 Q55.6912 1173.31 58.006 1172.94 Q60.3439 1172.57 62.4041 1172.57 Q67.7281 1172.57 70.83 1175 Q73.9318 1177.41 73.9318 1181.53 Q73.9318 1184.4 72.2883 1186.39 Q70.6448 1188.36 67.6124 1189.12 Z\" fill=\"#000000\" fill-rule=\"nonzero\" fill-opacity=\"1\" /><path clip-path=\"url(#clip260)\" d=\"M94.1863 1188.62 Q91.0382 1188.62 89.1864 1190.77 Q87.3577 1192.92 87.3577 1196.67 Q87.3577 1200.4 89.1864 1202.57 Q91.0382 1204.73 94.1863 1204.73 Q97.3345 1204.73 99.1632 1202.57 Q101.015 1200.4 101.015 1196.67 Q101.015 1192.92 99.1632 1190.77 Q97.3345 1188.62 94.1863 1188.62 M103.469 1173.96 L103.469 1178.22 Q101.709 1177.39 99.9039 1176.95 Q98.1215 1176.51 96.3623 1176.51 Q91.7326 1176.51 89.279 1179.63 Q86.8484 1182.76 86.5012 1189.08 Q87.8669 1187.06 89.9271 1186 Q91.9873 1184.91 94.4641 1184.91 Q99.6724 1184.91 102.682 1188.08 Q105.714 1191.23 105.714 1196.67 Q105.714 1201.99 102.566 1205.21 Q99.4178 1208.43 94.1863 1208.43 Q88.191 1208.43 85.0197 1203.85 Q81.8484 1199.24 81.8484 1190.51 Q81.8484 1182.32 85.7373 1177.46 Q89.6262 1172.57 96.1771 1172.57 Q97.9363 1172.57 99.7187 1172.92 Q101.524 1173.27 103.469 1173.96 Z\" fill=\"#000000\" fill-rule=\"nonzero\" fill-opacity=\"1\" /><path clip-path=\"url(#clip260)\" d=\"M113.77 1201.88 L118.654 1201.88 L118.654 1207.76 L113.77 1207.76 L113.77 1201.88 Z\" fill=\"#000000\" fill-rule=\"nonzero\" fill-opacity=\"1\" /><path clip-path=\"url(#clip260)\" d=\"M138.839 1176.28 Q135.228 1176.28 133.399 1179.84 Q131.594 1183.38 131.594 1190.51 Q131.594 1197.62 133.399 1201.18 Q135.228 1204.73 138.839 1204.73 Q142.473 1204.73 144.279 1201.18 Q146.107 1197.62 146.107 1190.51 Q146.107 1183.38 144.279 1179.84 Q142.473 1176.28 138.839 1176.28 M138.839 1172.57 Q144.649 1172.57 147.705 1177.18 Q150.783 1181.76 150.783 1190.51 Q150.783 1199.24 147.705 1203.85 Q144.649 1208.43 138.839 1208.43 Q133.029 1208.43 129.95 1203.85 Q126.894 1199.24 126.894 1190.51 Q126.894 1181.76 129.95 1177.18 Q133.029 1172.57 138.839 1172.57 Z\" fill=\"#000000\" fill-rule=\"nonzero\" fill-opacity=\"1\" /><path clip-path=\"url(#clip260)\" d=\"M159.047 1173.2 L177.403 1173.2 L177.403 1177.13 L163.329 1177.13 L163.329 1185.61 Q164.348 1185.26 165.367 1185.1 Q166.385 1184.91 167.404 1184.91 Q173.191 1184.91 176.57 1188.08 Q179.95 1191.25 179.95 1196.67 Q179.95 1202.25 176.478 1205.35 Q173.005 1208.43 166.686 1208.43 Q164.51 1208.43 162.242 1208.06 Q159.996 1207.69 157.589 1206.95 L157.589 1202.25 Q159.672 1203.38 161.894 1203.94 Q164.117 1204.49 166.593 1204.49 Q170.598 1204.49 172.936 1202.39 Q175.274 1200.28 175.274 1196.67 Q175.274 1193.06 172.936 1190.95 Q170.598 1188.85 166.593 1188.85 Q164.718 1188.85 162.843 1189.26 Q160.992 1189.68 159.047 1190.56 L159.047 1173.2 Z\" fill=\"#000000\" fill-rule=\"nonzero\" fill-opacity=\"1\" /><path clip-path=\"url(#clip260)\" d=\"M66.617 945.405 Q69.9735 946.123 71.8485 948.391 Q73.7466 950.66 73.7466 953.993 Q73.7466 959.109 70.2281 961.91 Q66.7096 964.711 60.2282 964.711 Q58.0523 964.711 55.7375 964.271 Q53.4458 963.854 50.9921 962.998 L50.9921 958.484 Q52.9366 959.618 55.2514 960.197 Q57.5662 960.776 60.0893 960.776 Q64.4874 960.776 66.7791 959.039 Q69.0939 957.303 69.0939 953.993 Q69.0939 950.938 66.9411 949.225 Q64.8115 947.489 60.9921 947.489 L56.9643 947.489 L56.9643 943.646 L61.1773 943.646 Q64.6263 943.646 66.455 942.28 Q68.2837 940.891 68.2837 938.299 Q68.2837 935.637 66.3856 934.225 Q64.5106 932.79 60.9921 932.79 Q59.0708 932.79 56.8717 933.206 Q54.6727 933.623 52.0338 934.503 L52.0338 930.336 Q54.6958 929.595 57.0106 929.225 Q59.3486 928.854 61.4087 928.854 Q66.7328 928.854 69.8346 931.285 Q72.9365 933.692 72.9365 937.813 Q72.9365 940.683 71.2929 942.674 Q69.6494 944.641 66.617 945.405 Z\" fill=\"#000000\" fill-rule=\"nonzero\" fill-opacity=\"1\" /><path clip-path=\"url(#clip260)\" d=\"M93.191 944.896 Q90.0428 944.896 88.191 947.049 Q86.3623 949.202 86.3623 952.951 Q86.3623 956.678 88.191 958.854 Q90.0428 961.007 93.191 961.007 Q96.3391 961.007 98.1678 958.854 Q100.02 956.678 100.02 952.951 Q100.02 949.202 98.1678 947.049 Q96.3391 944.896 93.191 944.896 M102.473 930.243 L102.473 934.503 Q100.714 933.669 98.9085 933.229 Q97.1261 932.79 95.3669 932.79 Q90.7373 932.79 88.2836 935.915 Q85.8531 939.04 85.5058 945.359 Q86.8716 943.345 88.9317 942.28 Q90.9919 941.192 93.4688 941.192 Q98.6771 941.192 101.686 944.364 Q104.719 947.512 104.719 952.951 Q104.719 958.276 101.571 961.493 Q98.4224 964.711 93.191 964.711 Q87.1956 964.711 84.0244 960.127 Q80.8531 955.521 80.8531 946.794 Q80.8531 938.6 84.7419 933.739 Q88.6308 928.854 95.1817 928.854 Q96.941 928.854 98.7234 929.202 Q100.529 929.549 102.473 930.243 Z\" fill=\"#000000\" fill-rule=\"nonzero\" fill-opacity=\"1\" /><path clip-path=\"url(#clip260)\" d=\"M112.774 958.16 L117.658 958.16 L117.658 964.039 L112.774 964.039 L112.774 958.16 Z\" fill=\"#000000\" fill-rule=\"nonzero\" fill-opacity=\"1\" /><path clip-path=\"url(#clip260)\" d=\"M128.654 960.104 L136.293 960.104 L136.293 933.739 L127.982 935.405 L127.982 931.146 L136.246 929.479 L140.922 929.479 L140.922 960.104 L148.561 960.104 L148.561 964.039 L128.654 964.039 L128.654 960.104 Z\" fill=\"#000000\" fill-rule=\"nonzero\" fill-opacity=\"1\" /><path clip-path=\"url(#clip260)\" d=\"M168.005 932.558 Q164.394 932.558 162.566 936.123 Q160.76 939.665 160.76 946.794 Q160.76 953.901 162.566 957.465 Q164.394 961.007 168.005 961.007 Q171.64 961.007 173.445 957.465 Q175.274 953.901 175.274 946.794 Q175.274 939.665 173.445 936.123 Q171.64 932.558 168.005 932.558 M168.005 928.854 Q173.816 928.854 176.871 933.461 Q179.95 938.044 179.95 946.794 Q179.95 955.521 176.871 960.127 Q173.816 964.711 168.005 964.711 Q162.195 964.711 159.117 960.127 Q156.061 955.521 156.061 946.794 Q156.061 938.044 159.117 933.461 Q162.195 928.854 168.005 928.854 Z\" fill=\"#000000\" fill-rule=\"nonzero\" fill-opacity=\"1\" /><path clip-path=\"url(#clip260)\" d=\"M67.6124 701.686 Q70.9689 702.404 72.8439 704.672 Q74.742 706.941 74.742 710.274 Q74.742 715.39 71.2235 718.191 Q67.705 720.992 61.2236 720.992 Q59.0476 720.992 56.7328 720.552 Q54.4412 720.135 51.9875 719.279 L51.9875 714.765 Q53.9319 715.899 56.2467 716.478 Q58.5615 717.056 61.0847 717.056 Q65.4828 717.056 67.7744 715.32 Q70.0892 713.584 70.0892 710.274 Q70.0892 707.219 67.9365 705.506 Q65.8069 703.769 61.9874 703.769 L57.9597 703.769 L57.9597 699.927 L62.1726 699.927 Q65.6217 699.927 67.4504 698.561 Q69.2791 697.172 69.2791 694.58 Q69.2791 691.918 67.3809 690.506 Q65.5059 689.071 61.9874 689.071 Q60.0662 689.071 57.8671 689.487 Q55.668 689.904 53.0292 690.783 L53.0292 686.617 Q55.6912 685.876 58.006 685.506 Q60.3439 685.135 62.4041 685.135 Q67.7281 685.135 70.83 687.566 Q73.9318 689.973 73.9318 694.094 Q73.9318 696.964 72.2883 698.955 Q70.6448 700.922 67.6124 701.686 Z\" fill=\"#000000\" fill-rule=\"nonzero\" fill-opacity=\"1\" /><path clip-path=\"url(#clip260)\" d=\"M94.1863 701.177 Q91.0382 701.177 89.1864 703.33 Q87.3577 705.482 87.3577 709.232 Q87.3577 712.959 89.1864 715.135 Q91.0382 717.288 94.1863 717.288 Q97.3345 717.288 99.1632 715.135 Q101.015 712.959 101.015 709.232 Q101.015 705.482 99.1632 703.33 Q97.3345 701.177 94.1863 701.177 M103.469 686.524 L103.469 690.783 Q101.709 689.95 99.9039 689.51 Q98.1215 689.071 96.3623 689.071 Q91.7326 689.071 89.279 692.195 Q86.8484 695.32 86.5012 701.64 Q87.8669 699.626 89.9271 698.561 Q91.9873 697.473 94.4641 697.473 Q99.6724 697.473 102.682 700.645 Q105.714 703.793 105.714 709.232 Q105.714 714.556 102.566 717.774 Q99.4178 720.992 94.1863 720.992 Q88.191 720.992 85.0197 716.408 Q81.8484 711.802 81.8484 703.075 Q81.8484 694.881 85.7373 690.02 Q89.6262 685.135 96.1771 685.135 Q97.9363 685.135 99.7187 685.483 Q101.524 685.83 103.469 686.524 Z\" fill=\"#000000\" fill-rule=\"nonzero\" fill-opacity=\"1\" /><path clip-path=\"url(#clip260)\" d=\"M113.77 714.441 L118.654 714.441 L118.654 720.32 L113.77 720.32 L113.77 714.441 Z\" fill=\"#000000\" fill-rule=\"nonzero\" fill-opacity=\"1\" /><path clip-path=\"url(#clip260)\" d=\"M129.649 716.385 L137.288 716.385 L137.288 690.02 L128.978 691.686 L128.978 687.427 L137.242 685.76 L141.918 685.76 L141.918 716.385 L149.556 716.385 L149.556 720.32 L129.649 720.32 L129.649 716.385 Z\" fill=\"#000000\" fill-rule=\"nonzero\" fill-opacity=\"1\" /><path clip-path=\"url(#clip260)\" d=\"M159.047 685.76 L177.403 685.76 L177.403 689.695 L163.329 689.695 L163.329 698.168 Q164.348 697.82 165.367 697.658 Q166.385 697.473 167.404 697.473 Q173.191 697.473 176.57 700.645 Q179.95 703.816 179.95 709.232 Q179.95 714.811 176.478 717.913 Q173.005 720.992 166.686 720.992 Q164.51 720.992 162.242 720.621 Q159.996 720.251 157.589 719.51 L157.589 714.811 Q159.672 715.945 161.894 716.501 Q164.117 717.056 166.593 717.056 Q170.598 717.056 172.936 714.95 Q175.274 712.844 175.274 709.232 Q175.274 705.621 172.936 703.515 Q170.598 701.408 166.593 701.408 Q164.718 701.408 162.843 701.825 Q160.992 702.242 159.047 703.121 L159.047 685.76 Z\" fill=\"#000000\" fill-rule=\"nonzero\" fill-opacity=\"1\" /><path clip-path=\"url(#clip260)\" d=\"M66.617 457.967 Q69.9735 458.685 71.8485 460.953 Q73.7466 463.222 73.7466 466.555 Q73.7466 471.671 70.2281 474.472 Q66.7096 477.273 60.2282 477.273 Q58.0523 477.273 55.7375 476.833 Q53.4458 476.416 50.9921 475.56 L50.9921 471.046 Q52.9366 472.18 55.2514 472.759 Q57.5662 473.337 60.0893 473.337 Q64.4874 473.337 66.7791 471.601 Q69.0939 469.865 69.0939 466.555 Q69.0939 463.499 66.9411 461.787 Q64.8115 460.05 60.9921 460.05 L56.9643 460.05 L56.9643 456.208 L61.1773 456.208 Q64.6263 456.208 66.455 454.842 Q68.2837 453.453 68.2837 450.861 Q68.2837 448.199 66.3856 446.787 Q64.5106 445.351 60.9921 445.351 Q59.0708 445.351 56.8717 445.768 Q54.6727 446.185 52.0338 447.064 L52.0338 442.898 Q54.6958 442.157 57.0106 441.787 Q59.3486 441.416 61.4087 441.416 Q66.7328 441.416 69.8346 443.847 Q72.9365 446.254 72.9365 450.375 Q72.9365 453.245 71.2929 455.236 Q69.6494 457.203 66.617 457.967 Z\" fill=\"#000000\" fill-rule=\"nonzero\" fill-opacity=\"1\" /><path clip-path=\"url(#clip260)\" d=\"M93.191 457.458 Q90.0428 457.458 88.191 459.611 Q86.3623 461.763 86.3623 465.513 Q86.3623 469.24 88.191 471.416 Q90.0428 473.569 93.191 473.569 Q96.3391 473.569 98.1678 471.416 Q100.02 469.24 100.02 465.513 Q100.02 461.763 98.1678 459.611 Q96.3391 457.458 93.191 457.458 M102.473 442.805 L102.473 447.064 Q100.714 446.231 98.9085 445.791 Q97.1261 445.351 95.3669 445.351 Q90.7373 445.351 88.2836 448.476 Q85.8531 451.601 85.5058 457.921 Q86.8716 455.907 88.9317 454.842 Q90.9919 453.754 93.4688 453.754 Q98.6771 453.754 101.686 456.925 Q104.719 460.074 104.719 465.513 Q104.719 470.837 101.571 474.055 Q98.4224 477.273 93.191 477.273 Q87.1956 477.273 84.0244 472.689 Q80.8531 468.083 80.8531 459.356 Q80.8531 451.162 84.7419 446.301 Q88.6308 441.416 95.1817 441.416 Q96.941 441.416 98.7234 441.763 Q100.529 442.111 102.473 442.805 Z\" fill=\"#000000\" fill-rule=\"nonzero\" fill-opacity=\"1\" /><path clip-path=\"url(#clip260)\" d=\"M112.774 470.722 L117.658 470.722 L117.658 476.601 L112.774 476.601 L112.774 470.722 Z\" fill=\"#000000\" fill-rule=\"nonzero\" fill-opacity=\"1\" /><path clip-path=\"url(#clip260)\" d=\"M131.871 472.666 L148.191 472.666 L148.191 476.601 L126.246 476.601 L126.246 472.666 Q128.908 469.911 133.492 465.282 Q138.098 460.629 139.279 459.287 Q141.524 456.763 142.404 455.027 Q143.306 453.268 143.306 451.578 Q143.306 448.824 141.362 447.088 Q139.441 445.351 136.339 445.351 Q134.14 445.351 131.686 446.115 Q129.256 446.879 126.478 448.43 L126.478 443.708 Q129.302 442.574 131.756 441.995 Q134.209 441.416 136.246 441.416 Q141.617 441.416 144.811 444.101 Q148.005 446.787 148.005 451.277 Q148.005 453.407 147.195 455.328 Q146.408 457.226 144.302 459.819 Q143.723 460.49 140.621 463.708 Q137.519 466.902 131.871 472.666 Z\" fill=\"#000000\" fill-rule=\"nonzero\" fill-opacity=\"1\" /><path clip-path=\"url(#clip260)\" d=\"M168.005 445.12 Q164.394 445.12 162.566 448.685 Q160.76 452.226 160.76 459.356 Q160.76 466.462 162.566 470.027 Q164.394 473.569 168.005 473.569 Q171.64 473.569 173.445 470.027 Q175.274 466.462 175.274 459.356 Q175.274 452.226 173.445 448.685 Q171.64 445.12 168.005 445.12 M168.005 441.416 Q173.816 441.416 176.871 446.023 Q179.95 450.606 179.95 459.356 Q179.95 468.083 176.871 472.689 Q173.816 477.273 168.005 477.273 Q162.195 477.273 159.117 472.689 Q156.061 468.083 156.061 459.356 Q156.061 450.606 159.117 446.023 Q162.195 441.416 168.005 441.416 Z\" fill=\"#000000\" fill-rule=\"nonzero\" fill-opacity=\"1\" /><path clip-path=\"url(#clip260)\" d=\"M67.6124 214.248 Q70.9689 214.966 72.8439 217.234 Q74.742 219.503 74.742 222.836 Q74.742 227.952 71.2235 230.753 Q67.705 233.553 61.2236 233.553 Q59.0476 233.553 56.7328 233.114 Q54.4412 232.697 51.9875 231.841 L51.9875 227.327 Q53.9319 228.461 56.2467 229.04 Q58.5615 229.618 61.0847 229.618 Q65.4828 229.618 67.7744 227.882 Q70.0892 226.146 70.0892 222.836 Q70.0892 219.78 67.9365 218.067 Q65.8069 216.331 61.9874 216.331 L57.9597 216.331 L57.9597 212.489 L62.1726 212.489 Q65.6217 212.489 67.4504 211.123 Q69.2791 209.734 69.2791 207.142 Q69.2791 204.48 67.3809 203.068 Q65.5059 201.632 61.9874 201.632 Q60.0662 201.632 57.8671 202.049 Q55.668 202.466 53.0292 203.345 L53.0292 199.179 Q55.6912 198.438 58.006 198.068 Q60.3439 197.697 62.4041 197.697 Q67.7281 197.697 70.83 200.128 Q73.9318 202.535 73.9318 206.655 Q73.9318 209.526 72.2883 211.517 Q70.6448 213.484 67.6124 214.248 Z\" fill=\"#000000\" fill-rule=\"nonzero\" fill-opacity=\"1\" /><path clip-path=\"url(#clip260)\" d=\"M94.1863 213.739 Q91.0382 213.739 89.1864 215.892 Q87.3577 218.044 87.3577 221.794 Q87.3577 225.521 89.1864 227.697 Q91.0382 229.85 94.1863 229.85 Q97.3345 229.85 99.1632 227.697 Q101.015 225.521 101.015 221.794 Q101.015 218.044 99.1632 215.892 Q97.3345 213.739 94.1863 213.739 M103.469 199.086 L103.469 203.345 Q101.709 202.512 99.9039 202.072 Q98.1215 201.632 96.3623 201.632 Q91.7326 201.632 89.279 204.757 Q86.8484 207.882 86.5012 214.202 Q87.8669 212.188 89.9271 211.123 Q91.9873 210.035 94.4641 210.035 Q99.6724 210.035 102.682 213.206 Q105.714 216.355 105.714 221.794 Q105.714 227.118 102.566 230.336 Q99.4178 233.553 94.1863 233.553 Q88.191 233.553 85.0197 228.97 Q81.8484 224.364 81.8484 215.637 Q81.8484 207.443 85.7373 202.581 Q89.6262 197.697 96.1771 197.697 Q97.9363 197.697 99.7187 198.044 Q101.524 198.392 103.469 199.086 Z\" fill=\"#000000\" fill-rule=\"nonzero\" fill-opacity=\"1\" /><path clip-path=\"url(#clip260)\" d=\"M113.77 227.003 L118.654 227.003 L118.654 232.882 L113.77 232.882 L113.77 227.003 Z\" fill=\"#000000\" fill-rule=\"nonzero\" fill-opacity=\"1\" /><path clip-path=\"url(#clip260)\" d=\"M132.867 228.947 L149.186 228.947 L149.186 232.882 L127.242 232.882 L127.242 228.947 Q129.904 226.192 134.487 221.563 Q139.094 216.91 140.274 215.567 Q142.519 213.044 143.399 211.308 Q144.302 209.549 144.302 207.859 Q144.302 205.105 142.357 203.368 Q140.436 201.632 137.334 201.632 Q135.135 201.632 132.682 202.396 Q130.251 203.16 127.473 204.711 L127.473 199.989 Q130.297 198.855 132.751 198.276 Q135.205 197.697 137.242 197.697 Q142.612 197.697 145.806 200.382 Q149.001 203.068 149.001 207.558 Q149.001 209.688 148.191 211.609 Q147.404 213.507 145.297 216.1 Q144.718 216.771 141.617 219.989 Q138.515 223.183 132.867 228.947 Z\" fill=\"#000000\" fill-rule=\"nonzero\" fill-opacity=\"1\" /><path clip-path=\"url(#clip260)\" d=\"M159.047 198.322 L177.403 198.322 L177.403 202.257 L163.329 202.257 L163.329 210.73 Q164.348 210.382 165.367 210.22 Q166.385 210.035 167.404 210.035 Q173.191 210.035 176.57 213.206 Q179.95 216.378 179.95 221.794 Q179.95 227.373 176.478 230.475 Q173.005 233.553 166.686 233.553 Q164.51 233.553 162.242 233.183 Q159.996 232.813 157.589 232.072 L157.589 227.373 Q159.672 228.507 161.894 229.063 Q164.117 229.618 166.593 229.618 Q170.598 229.618 172.936 227.512 Q175.274 225.405 175.274 221.794 Q175.274 218.183 172.936 216.077 Q170.598 213.97 166.593 213.97 Q164.718 213.97 162.843 214.387 Q160.992 214.804 159.047 215.683 L159.047 198.322 Z\" fill=\"#000000\" fill-rule=\"nonzero\" fill-opacity=\"1\" /><polyline clip-path=\"url(#clip262)\" style=\"stroke:#009af9; stroke-linecap:round; stroke-linejoin:round; stroke-width:4; stroke-opacity:1; fill:none\" points=\"363.049,945.2 1180.59,1445.72 1176.19,704.21 1311.33,786.568 1425.19,733.164 1584.26,731.034 1523.89,770.531 1481.29,811.939 1689.59,874.541 1719.39,941.558 1849.08,947.076 1959.14,801.074 1861.05,733.33 1667.57,601.955 1952.58,587.249 2155.37,666.663 2292.28,480.617 1852.63,87.9763 1262.61,456.64 1192.35,484.824 276.425,368.336 625.659,443.679 777.995,507.773 899.917,660.292 630.344,736.986 363.049,945.2 \"/>\n",
       "<path clip-path=\"url(#clip260)\" d=\"M2015.42 1438.47 L2281.53 1438.47 L2281.53 1334.79 L2015.42 1334.79  Z\" fill=\"#ffffff\" fill-rule=\"evenodd\" fill-opacity=\"1\"/>\n",
       "<polyline clip-path=\"url(#clip260)\" style=\"stroke:#000000; stroke-linecap:round; stroke-linejoin:round; stroke-width:4; stroke-opacity:1; fill:none\" points=\"2015.42,1438.47 2281.53,1438.47 2281.53,1334.79 2015.42,1334.79 2015.42,1438.47 \"/>\n",
       "<polyline clip-path=\"url(#clip260)\" style=\"stroke:#009af9; stroke-linecap:round; stroke-linejoin:round; stroke-width:4; stroke-opacity:1; fill:none\" points=\"2039.16,1386.63 2181.61,1386.63 \"/>\n",
       "<path clip-path=\"url(#clip260)\" d=\"M2219.2 1406.32 Q2217.39 1410.95 2215.68 1412.36 Q2213.97 1413.78 2211.1 1413.78 L2207.69 1413.78 L2207.69 1410.21 L2210.19 1410.21 Q2211.95 1410.21 2212.93 1409.38 Q2213.9 1408.54 2215.08 1405.44 L2215.84 1403.5 L2205.36 1377.99 L2209.87 1377.99 L2217.97 1398.27 L2226.07 1377.99 L2230.59 1377.99 L2219.2 1406.32 Z\" fill=\"#000000\" fill-rule=\"nonzero\" fill-opacity=\"1\" /><path clip-path=\"url(#clip260)\" d=\"M2237.88 1399.98 L2245.52 1399.98 L2245.52 1373.61 L2237.21 1375.28 L2237.21 1371.02 L2245.47 1369.35 L2250.15 1369.35 L2250.15 1399.98 L2257.79 1399.98 L2257.79 1403.91 L2237.88 1403.91 L2237.88 1399.98 Z\" fill=\"#000000\" fill-rule=\"nonzero\" fill-opacity=\"1\" /></svg>\n"
      ],
      "text/html": [
       "<?xml version=\"1.0\" encoding=\"utf-8\"?>\n",
       "<svg xmlns=\"http://www.w3.org/2000/svg\" xmlns:xlink=\"http://www.w3.org/1999/xlink\" width=\"600\" height=\"400\" viewBox=\"0 0 2400 1600\">\n",
       "<defs>\n",
       "  <clipPath id=\"clip310\">\n",
       "    <rect x=\"0\" y=\"0\" width=\"2400\" height=\"1600\"/>\n",
       "  </clipPath>\n",
       "</defs>\n",
       "<path clip-path=\"url(#clip310)\" d=\"M0 1600 L2400 1600 L2400 0 L0 0  Z\" fill=\"#ffffff\" fill-rule=\"evenodd\" fill-opacity=\"1\"/>\n",
       "<defs>\n",
       "  <clipPath id=\"clip311\">\n",
       "    <rect x=\"480\" y=\"0\" width=\"1681\" height=\"1600\"/>\n",
       "  </clipPath>\n",
       "</defs>\n",
       "<path clip-path=\"url(#clip310)\" d=\"M215.95 1486.45 L2352.76 1486.45 L2352.76 47.2441 L215.95 47.2441  Z\" fill=\"#ffffff\" fill-rule=\"evenodd\" fill-opacity=\"1\"/>\n",
       "<defs>\n",
       "  <clipPath id=\"clip312\">\n",
       "    <rect x=\"215\" y=\"47\" width=\"2138\" height=\"1440\"/>\n",
       "  </clipPath>\n",
       "</defs>\n",
       "<polyline clip-path=\"url(#clip312)\" style=\"stroke:#000000; stroke-linecap:round; stroke-linejoin:round; stroke-width:2; stroke-opacity:0.1; fill:none\" points=\"470.179,1486.45 470.179,47.2441 \"/>\n",
       "<polyline clip-path=\"url(#clip312)\" style=\"stroke:#000000; stroke-linecap:round; stroke-linejoin:round; stroke-width:2; stroke-opacity:0.1; fill:none\" points=\"853.607,1486.45 853.607,47.2441 \"/>\n",
       "<polyline clip-path=\"url(#clip312)\" style=\"stroke:#000000; stroke-linecap:round; stroke-linejoin:round; stroke-width:2; stroke-opacity:0.1; fill:none\" points=\"1237.03,1486.45 1237.03,47.2441 \"/>\n",
       "<polyline clip-path=\"url(#clip312)\" style=\"stroke:#000000; stroke-linecap:round; stroke-linejoin:round; stroke-width:2; stroke-opacity:0.1; fill:none\" points=\"1620.46,1486.45 1620.46,47.2441 \"/>\n",
       "<polyline clip-path=\"url(#clip312)\" style=\"stroke:#000000; stroke-linecap:round; stroke-linejoin:round; stroke-width:2; stroke-opacity:0.1; fill:none\" points=\"2003.89,1486.45 2003.89,47.2441 \"/>\n",
       "<polyline clip-path=\"url(#clip310)\" style=\"stroke:#000000; stroke-linecap:round; stroke-linejoin:round; stroke-width:4; stroke-opacity:1; fill:none\" points=\"215.95,1486.45 2352.76,1486.45 \"/>\n",
       "<polyline clip-path=\"url(#clip310)\" style=\"stroke:#000000; stroke-linecap:round; stroke-linejoin:round; stroke-width:4; stroke-opacity:1; fill:none\" points=\"470.179,1486.45 470.179,1467.55 \"/>\n",
       "<polyline clip-path=\"url(#clip310)\" style=\"stroke:#000000; stroke-linecap:round; stroke-linejoin:round; stroke-width:4; stroke-opacity:1; fill:none\" points=\"853.607,1486.45 853.607,1467.55 \"/>\n",
       "<polyline clip-path=\"url(#clip310)\" style=\"stroke:#000000; stroke-linecap:round; stroke-linejoin:round; stroke-width:4; stroke-opacity:1; fill:none\" points=\"1237.03,1486.45 1237.03,1467.55 \"/>\n",
       "<polyline clip-path=\"url(#clip310)\" style=\"stroke:#000000; stroke-linecap:round; stroke-linejoin:round; stroke-width:4; stroke-opacity:1; fill:none\" points=\"1620.46,1486.45 1620.46,1467.55 \"/>\n",
       "<polyline clip-path=\"url(#clip310)\" style=\"stroke:#000000; stroke-linecap:round; stroke-linejoin:round; stroke-width:4; stroke-opacity:1; fill:none\" points=\"2003.89,1486.45 2003.89,1467.55 \"/>\n",
       "<path clip-path=\"url(#clip310)\" d=\"M371.464 1532.02 L401.14 1532.02 L401.14 1535.95 L371.464 1535.95 L371.464 1532.02 Z\" fill=\"#000000\" fill-rule=\"nonzero\" fill-opacity=\"1\" /><path clip-path=\"url(#clip310)\" d=\"M412.043 1544.91 L419.682 1544.91 L419.682 1518.55 L411.371 1520.21 L411.371 1515.95 L419.635 1514.29 L424.311 1514.29 L424.311 1544.91 L431.95 1544.91 L431.95 1548.85 L412.043 1548.85 L412.043 1544.91 Z\" fill=\"#000000\" fill-rule=\"nonzero\" fill-opacity=\"1\" /><path clip-path=\"url(#clip310)\" d=\"M442.205 1544.91 L449.843 1544.91 L449.843 1518.55 L441.533 1520.21 L441.533 1515.95 L449.797 1514.29 L454.473 1514.29 L454.473 1544.91 L462.112 1544.91 L462.112 1548.85 L442.205 1548.85 L442.205 1544.91 Z\" fill=\"#000000\" fill-rule=\"nonzero\" fill-opacity=\"1\" /><path clip-path=\"url(#clip310)\" d=\"M471.603 1514.29 L489.959 1514.29 L489.959 1518.22 L475.885 1518.22 L475.885 1526.7 Q476.904 1526.35 477.922 1526.19 Q478.941 1526 479.959 1526 Q485.746 1526 489.126 1529.17 Q492.505 1532.34 492.505 1537.76 Q492.505 1543.34 489.033 1546.44 Q485.561 1549.52 479.241 1549.52 Q477.066 1549.52 474.797 1549.15 Q472.552 1548.78 470.144 1548.04 L470.144 1543.34 Q472.228 1544.47 474.45 1545.03 Q476.672 1545.58 479.149 1545.58 Q483.153 1545.58 485.491 1543.48 Q487.829 1541.37 487.829 1537.76 Q487.829 1534.15 485.491 1532.04 Q483.153 1529.94 479.149 1529.94 Q477.274 1529.94 475.399 1530.35 Q473.547 1530.77 471.603 1531.65 L471.603 1514.29 Z\" fill=\"#000000\" fill-rule=\"nonzero\" fill-opacity=\"1\" /><path clip-path=\"url(#clip310)\" d=\"M501.718 1542.97 L506.602 1542.97 L506.602 1548.85 L501.718 1548.85 L501.718 1542.97 Z\" fill=\"#000000\" fill-rule=\"nonzero\" fill-opacity=\"1\" /><path clip-path=\"url(#clip310)\" d=\"M530.954 1530.21 Q534.311 1530.93 536.186 1533.2 Q538.084 1535.47 538.084 1538.8 Q538.084 1543.92 534.565 1546.72 Q531.047 1549.52 524.565 1549.52 Q522.389 1549.52 520.075 1549.08 Q517.783 1548.66 515.329 1547.81 L515.329 1543.29 Q517.274 1544.43 519.588 1545.01 Q521.903 1545.58 524.426 1545.58 Q528.825 1545.58 531.116 1543.85 Q533.431 1542.11 533.431 1538.8 Q533.431 1535.75 531.278 1534.03 Q529.149 1532.3 525.329 1532.3 L521.301 1532.3 L521.301 1528.45 L525.514 1528.45 Q528.963 1528.45 530.792 1527.09 Q532.621 1525.7 532.621 1523.11 Q532.621 1520.45 530.723 1519.03 Q528.848 1517.6 525.329 1517.6 Q523.408 1517.6 521.209 1518.01 Q519.01 1518.43 516.371 1519.31 L516.371 1515.14 Q519.033 1514.4 521.348 1514.03 Q523.686 1513.66 525.746 1513.66 Q531.07 1513.66 534.172 1516.09 Q537.274 1518.5 537.274 1522.62 Q537.274 1525.49 535.63 1527.48 Q533.987 1529.45 530.954 1530.21 Z\" fill=\"#000000\" fill-rule=\"nonzero\" fill-opacity=\"1\" /><path clip-path=\"url(#clip310)\" d=\"M556.949 1517.37 Q553.338 1517.37 551.51 1520.93 Q549.704 1524.47 549.704 1531.6 Q549.704 1538.71 551.51 1542.27 Q553.338 1545.82 556.949 1545.82 Q560.584 1545.82 562.389 1542.27 Q564.218 1538.71 564.218 1531.6 Q564.218 1524.47 562.389 1520.93 Q560.584 1517.37 556.949 1517.37 M556.949 1513.66 Q562.76 1513.66 565.815 1518.27 Q568.894 1522.85 568.894 1531.6 Q568.894 1540.33 565.815 1544.94 Q562.76 1549.52 556.949 1549.52 Q551.139 1549.52 548.061 1544.94 Q545.005 1540.33 545.005 1531.6 Q545.005 1522.85 548.061 1518.27 Q551.139 1513.66 556.949 1513.66 Z\" fill=\"#000000\" fill-rule=\"nonzero\" fill-opacity=\"1\" /><path clip-path=\"url(#clip310)\" d=\"M755.389 1532.02 L785.065 1532.02 L785.065 1535.95 L755.389 1535.95 L755.389 1532.02 Z\" fill=\"#000000\" fill-rule=\"nonzero\" fill-opacity=\"1\" /><path clip-path=\"url(#clip310)\" d=\"M795.968 1544.91 L803.607 1544.91 L803.607 1518.55 L795.297 1520.21 L795.297 1515.95 L803.56 1514.29 L808.236 1514.29 L808.236 1544.91 L815.875 1544.91 L815.875 1548.85 L795.968 1548.85 L795.968 1544.91 Z\" fill=\"#000000\" fill-rule=\"nonzero\" fill-opacity=\"1\" /><path clip-path=\"url(#clip310)\" d=\"M826.13 1544.91 L833.769 1544.91 L833.769 1518.55 L825.459 1520.21 L825.459 1515.95 L833.722 1514.29 L838.398 1514.29 L838.398 1544.91 L846.037 1544.91 L846.037 1548.85 L826.13 1548.85 L826.13 1544.91 Z\" fill=\"#000000\" fill-rule=\"nonzero\" fill-opacity=\"1\" /><path clip-path=\"url(#clip310)\" d=\"M855.528 1514.29 L873.884 1514.29 L873.884 1518.22 L859.81 1518.22 L859.81 1526.7 Q860.829 1526.35 861.847 1526.19 Q862.866 1526 863.884 1526 Q869.671 1526 873.051 1529.17 Q876.43 1532.34 876.43 1537.76 Q876.43 1543.34 872.958 1546.44 Q869.486 1549.52 863.167 1549.52 Q860.991 1549.52 858.722 1549.15 Q856.477 1548.78 854.069 1548.04 L854.069 1543.34 Q856.153 1544.47 858.375 1545.03 Q860.597 1545.58 863.074 1545.58 Q867.079 1545.58 869.417 1543.48 Q871.755 1541.37 871.755 1537.76 Q871.755 1534.15 869.417 1532.04 Q867.079 1529.94 863.074 1529.94 Q861.199 1529.94 859.324 1530.35 Q857.472 1530.77 855.528 1531.65 L855.528 1514.29 Z\" fill=\"#000000\" fill-rule=\"nonzero\" fill-opacity=\"1\" /><path clip-path=\"url(#clip310)\" d=\"M885.643 1542.97 L890.528 1542.97 L890.528 1548.85 L885.643 1548.85 L885.643 1542.97 Z\" fill=\"#000000\" fill-rule=\"nonzero\" fill-opacity=\"1\" /><path clip-path=\"url(#clip310)\" d=\"M904.741 1544.91 L921.06 1544.91 L921.06 1548.85 L899.116 1548.85 L899.116 1544.91 Q901.778 1542.16 906.361 1537.53 Q910.967 1532.88 912.148 1531.53 Q914.393 1529.01 915.273 1527.27 Q916.176 1525.51 916.176 1523.82 Q916.176 1521.07 914.231 1519.33 Q912.31 1517.6 909.208 1517.6 Q907.009 1517.6 904.555 1518.36 Q902.125 1519.13 899.347 1520.68 L899.347 1515.95 Q902.171 1514.82 904.625 1514.24 Q907.078 1513.66 909.115 1513.66 Q914.486 1513.66 917.68 1516.35 Q920.875 1519.03 920.875 1523.52 Q920.875 1525.65 920.065 1527.57 Q919.277 1529.47 917.171 1532.07 Q916.592 1532.74 913.49 1535.95 Q910.389 1539.15 904.741 1544.91 Z\" fill=\"#000000\" fill-rule=\"nonzero\" fill-opacity=\"1\" /><path clip-path=\"url(#clip310)\" d=\"M930.921 1514.29 L949.277 1514.29 L949.277 1518.22 L935.203 1518.22 L935.203 1526.7 Q936.222 1526.35 937.24 1526.19 Q938.259 1526 939.277 1526 Q945.064 1526 948.444 1529.17 Q951.824 1532.34 951.824 1537.76 Q951.824 1543.34 948.351 1546.44 Q944.879 1549.52 938.56 1549.52 Q936.384 1549.52 934.115 1549.15 Q931.87 1548.78 929.463 1548.04 L929.463 1543.34 Q931.546 1544.47 933.768 1545.03 Q935.99 1545.58 938.467 1545.58 Q942.472 1545.58 944.81 1543.48 Q947.148 1541.37 947.148 1537.76 Q947.148 1534.15 944.81 1532.04 Q942.472 1529.94 938.467 1529.94 Q936.592 1529.94 934.717 1530.35 Q932.865 1530.77 930.921 1531.65 L930.921 1514.29 Z\" fill=\"#000000\" fill-rule=\"nonzero\" fill-opacity=\"1\" /><path clip-path=\"url(#clip310)\" d=\"M1138.32 1532.02 L1168 1532.02 L1168 1535.95 L1138.32 1535.95 L1138.32 1532.02 Z\" fill=\"#000000\" fill-rule=\"nonzero\" fill-opacity=\"1\" /><path clip-path=\"url(#clip310)\" d=\"M1178.9 1544.91 L1186.54 1544.91 L1186.54 1518.55 L1178.23 1520.21 L1178.23 1515.95 L1186.49 1514.29 L1191.17 1514.29 L1191.17 1544.91 L1198.81 1544.91 L1198.81 1548.85 L1178.9 1548.85 L1178.9 1544.91 Z\" fill=\"#000000\" fill-rule=\"nonzero\" fill-opacity=\"1\" /><path clip-path=\"url(#clip310)\" d=\"M1209.06 1544.91 L1216.7 1544.91 L1216.7 1518.55 L1208.39 1520.21 L1208.39 1515.95 L1216.65 1514.29 L1221.33 1514.29 L1221.33 1544.91 L1228.97 1544.91 L1228.97 1548.85 L1209.06 1548.85 L1209.06 1544.91 Z\" fill=\"#000000\" fill-rule=\"nonzero\" fill-opacity=\"1\" /><path clip-path=\"url(#clip310)\" d=\"M1238.46 1514.29 L1256.81 1514.29 L1256.81 1518.22 L1242.74 1518.22 L1242.74 1526.7 Q1243.76 1526.35 1244.78 1526.19 Q1245.8 1526 1246.81 1526 Q1252.6 1526 1255.98 1529.17 Q1259.36 1532.34 1259.36 1537.76 Q1259.36 1543.34 1255.89 1546.44 Q1252.42 1549.52 1246.1 1549.52 Q1243.92 1549.52 1241.65 1549.15 Q1239.41 1548.78 1237 1548.04 L1237 1543.34 Q1239.08 1544.47 1241.3 1545.03 Q1243.53 1545.58 1246 1545.58 Q1250.01 1545.58 1252.35 1543.48 Q1254.68 1541.37 1254.68 1537.76 Q1254.68 1534.15 1252.35 1532.04 Q1250.01 1529.94 1246 1529.94 Q1244.13 1529.94 1242.25 1530.35 Q1240.4 1530.77 1238.46 1531.65 L1238.46 1514.29 Z\" fill=\"#000000\" fill-rule=\"nonzero\" fill-opacity=\"1\" /><path clip-path=\"url(#clip310)\" d=\"M1268.57 1542.97 L1273.46 1542.97 L1273.46 1548.85 L1268.57 1548.85 L1268.57 1542.97 Z\" fill=\"#000000\" fill-rule=\"nonzero\" fill-opacity=\"1\" /><path clip-path=\"url(#clip310)\" d=\"M1287.67 1544.91 L1303.99 1544.91 L1303.99 1548.85 L1282.05 1548.85 L1282.05 1544.91 Q1284.71 1542.16 1289.29 1537.53 Q1293.9 1532.88 1295.08 1531.53 Q1297.32 1529.01 1298.2 1527.27 Q1299.11 1525.51 1299.11 1523.82 Q1299.11 1521.07 1297.16 1519.33 Q1295.24 1517.6 1292.14 1517.6 Q1289.94 1517.6 1287.49 1518.36 Q1285.05 1519.13 1282.28 1520.68 L1282.28 1515.95 Q1285.1 1514.82 1287.55 1514.24 Q1290.01 1513.66 1292.05 1513.66 Q1297.42 1513.66 1300.61 1516.35 Q1303.8 1519.03 1303.8 1523.52 Q1303.8 1525.65 1302.99 1527.57 Q1302.21 1529.47 1300.1 1532.07 Q1299.52 1532.74 1296.42 1535.95 Q1293.32 1539.15 1287.67 1544.91 Z\" fill=\"#000000\" fill-rule=\"nonzero\" fill-opacity=\"1\" /><path clip-path=\"url(#clip310)\" d=\"M1323.8 1517.37 Q1320.19 1517.37 1318.36 1520.93 Q1316.56 1524.47 1316.56 1531.6 Q1316.56 1538.71 1318.36 1542.27 Q1320.19 1545.82 1323.8 1545.82 Q1327.44 1545.82 1329.24 1542.27 Q1331.07 1538.71 1331.07 1531.6 Q1331.07 1524.47 1329.24 1520.93 Q1327.44 1517.37 1323.8 1517.37 M1323.8 1513.66 Q1329.61 1513.66 1332.67 1518.27 Q1335.75 1522.85 1335.75 1531.6 Q1335.75 1540.33 1332.67 1544.94 Q1329.61 1549.52 1323.8 1549.52 Q1317.99 1549.52 1314.92 1544.94 Q1311.86 1540.33 1311.86 1531.6 Q1311.86 1522.85 1314.92 1518.27 Q1317.99 1513.66 1323.8 1513.66 Z\" fill=\"#000000\" fill-rule=\"nonzero\" fill-opacity=\"1\" /><path clip-path=\"url(#clip310)\" d=\"M1522.24 1532.02 L1551.92 1532.02 L1551.92 1535.95 L1522.24 1535.95 L1522.24 1532.02 Z\" fill=\"#000000\" fill-rule=\"nonzero\" fill-opacity=\"1\" /><path clip-path=\"url(#clip310)\" d=\"M1562.82 1544.91 L1570.46 1544.91 L1570.46 1518.55 L1562.15 1520.21 L1562.15 1515.95 L1570.42 1514.29 L1575.09 1514.29 L1575.09 1544.91 L1582.73 1544.91 L1582.73 1548.85 L1562.82 1548.85 L1562.82 1544.91 Z\" fill=\"#000000\" fill-rule=\"nonzero\" fill-opacity=\"1\" /><path clip-path=\"url(#clip310)\" d=\"M1592.98 1544.91 L1600.62 1544.91 L1600.62 1518.55 L1592.31 1520.21 L1592.31 1515.95 L1600.58 1514.29 L1605.25 1514.29 L1605.25 1544.91 L1612.89 1544.91 L1612.89 1548.85 L1592.98 1548.85 L1592.98 1544.91 Z\" fill=\"#000000\" fill-rule=\"nonzero\" fill-opacity=\"1\" /><path clip-path=\"url(#clip310)\" d=\"M1622.38 1514.29 L1640.74 1514.29 L1640.74 1518.22 L1626.67 1518.22 L1626.67 1526.7 Q1627.68 1526.35 1628.7 1526.19 Q1629.72 1526 1630.74 1526 Q1636.53 1526 1639.91 1529.17 Q1643.29 1532.34 1643.29 1537.76 Q1643.29 1543.34 1639.81 1546.44 Q1636.34 1549.52 1630.02 1549.52 Q1627.85 1549.52 1625.58 1549.15 Q1623.33 1548.78 1620.92 1548.04 L1620.92 1543.34 Q1623.01 1544.47 1625.23 1545.03 Q1627.45 1545.58 1629.93 1545.58 Q1633.93 1545.58 1636.27 1543.48 Q1638.61 1541.37 1638.61 1537.76 Q1638.61 1534.15 1636.27 1532.04 Q1633.93 1529.94 1629.93 1529.94 Q1628.05 1529.94 1626.18 1530.35 Q1624.33 1530.77 1622.38 1531.65 L1622.38 1514.29 Z\" fill=\"#000000\" fill-rule=\"nonzero\" fill-opacity=\"1\" /><path clip-path=\"url(#clip310)\" d=\"M1652.5 1542.97 L1657.38 1542.97 L1657.38 1548.85 L1652.5 1548.85 L1652.5 1542.97 Z\" fill=\"#000000\" fill-rule=\"nonzero\" fill-opacity=\"1\" /><path clip-path=\"url(#clip310)\" d=\"M1668.38 1544.91 L1676.02 1544.91 L1676.02 1518.55 L1667.71 1520.21 L1667.71 1515.95 L1675.97 1514.29 L1680.65 1514.29 L1680.65 1544.91 L1688.29 1544.91 L1688.29 1548.85 L1668.38 1548.85 L1668.38 1544.91 Z\" fill=\"#000000\" fill-rule=\"nonzero\" fill-opacity=\"1\" /><path clip-path=\"url(#clip310)\" d=\"M1697.78 1514.29 L1716.13 1514.29 L1716.13 1518.22 L1702.06 1518.22 L1702.06 1526.7 Q1703.08 1526.35 1704.1 1526.19 Q1705.11 1526 1706.13 1526 Q1711.92 1526 1715.3 1529.17 Q1718.68 1532.34 1718.68 1537.76 Q1718.68 1543.34 1715.21 1546.44 Q1711.73 1549.52 1705.41 1549.52 Q1703.24 1549.52 1700.97 1549.15 Q1698.73 1548.78 1696.32 1548.04 L1696.32 1543.34 Q1698.4 1544.47 1700.62 1545.03 Q1702.85 1545.58 1705.32 1545.58 Q1709.33 1545.58 1711.66 1543.48 Q1714 1541.37 1714 1537.76 Q1714 1534.15 1711.66 1532.04 Q1709.33 1529.94 1705.32 1529.94 Q1703.45 1529.94 1701.57 1530.35 Q1699.72 1530.77 1697.78 1531.65 L1697.78 1514.29 Z\" fill=\"#000000\" fill-rule=\"nonzero\" fill-opacity=\"1\" /><path clip-path=\"url(#clip310)\" d=\"M1905.17 1532.02 L1934.85 1532.02 L1934.85 1535.95 L1905.17 1535.95 L1905.17 1532.02 Z\" fill=\"#000000\" fill-rule=\"nonzero\" fill-opacity=\"1\" /><path clip-path=\"url(#clip310)\" d=\"M1945.75 1544.91 L1953.39 1544.91 L1953.39 1518.55 L1945.08 1520.21 L1945.08 1515.95 L1953.35 1514.29 L1958.02 1514.29 L1958.02 1544.91 L1965.66 1544.91 L1965.66 1548.85 L1945.75 1548.85 L1945.75 1544.91 Z\" fill=\"#000000\" fill-rule=\"nonzero\" fill-opacity=\"1\" /><path clip-path=\"url(#clip310)\" d=\"M1975.91 1544.91 L1983.55 1544.91 L1983.55 1518.55 L1975.24 1520.21 L1975.24 1515.95 L1983.51 1514.29 L1988.18 1514.29 L1988.18 1544.91 L1995.82 1544.91 L1995.82 1548.85 L1975.91 1548.85 L1975.91 1544.91 Z\" fill=\"#000000\" fill-rule=\"nonzero\" fill-opacity=\"1\" /><path clip-path=\"url(#clip310)\" d=\"M2005.31 1514.29 L2023.67 1514.29 L2023.67 1518.22 L2009.6 1518.22 L2009.6 1526.7 Q2010.61 1526.35 2011.63 1526.19 Q2012.65 1526 2013.67 1526 Q2019.46 1526 2022.84 1529.17 Q2026.22 1532.34 2026.22 1537.76 Q2026.22 1543.34 2022.74 1546.44 Q2019.27 1549.52 2012.95 1549.52 Q2010.78 1549.52 2008.51 1549.15 Q2006.26 1548.78 2003.85 1548.04 L2003.85 1543.34 Q2005.94 1544.47 2008.16 1545.03 Q2010.38 1545.58 2012.86 1545.58 Q2016.86 1545.58 2019.2 1543.48 Q2021.54 1541.37 2021.54 1537.76 Q2021.54 1534.15 2019.2 1532.04 Q2016.86 1529.94 2012.86 1529.94 Q2010.98 1529.94 2009.11 1530.35 Q2007.26 1530.77 2005.31 1531.65 L2005.31 1514.29 Z\" fill=\"#000000\" fill-rule=\"nonzero\" fill-opacity=\"1\" /><path clip-path=\"url(#clip310)\" d=\"M2035.43 1542.97 L2040.31 1542.97 L2040.31 1548.85 L2035.43 1548.85 L2035.43 1542.97 Z\" fill=\"#000000\" fill-rule=\"nonzero\" fill-opacity=\"1\" /><path clip-path=\"url(#clip310)\" d=\"M2051.31 1544.91 L2058.95 1544.91 L2058.95 1518.55 L2050.64 1520.21 L2050.64 1515.95 L2058.9 1514.29 L2063.58 1514.29 L2063.58 1544.91 L2071.22 1544.91 L2071.22 1548.85 L2051.31 1548.85 L2051.31 1544.91 Z\" fill=\"#000000\" fill-rule=\"nonzero\" fill-opacity=\"1\" /><path clip-path=\"url(#clip310)\" d=\"M2090.66 1517.37 Q2087.05 1517.37 2085.22 1520.93 Q2083.41 1524.47 2083.41 1531.6 Q2083.41 1538.71 2085.22 1542.27 Q2087.05 1545.82 2090.66 1545.82 Q2094.29 1545.82 2096.1 1542.27 Q2097.93 1538.71 2097.93 1531.6 Q2097.93 1524.47 2096.1 1520.93 Q2094.29 1517.37 2090.66 1517.37 M2090.66 1513.66 Q2096.47 1513.66 2099.53 1518.27 Q2102.6 1522.85 2102.6 1531.6 Q2102.6 1540.33 2099.53 1544.94 Q2096.47 1549.52 2090.66 1549.52 Q2084.85 1549.52 2081.77 1544.94 Q2078.72 1540.33 2078.72 1531.6 Q2078.72 1522.85 2081.77 1518.27 Q2084.85 1513.66 2090.66 1513.66 Z\" fill=\"#000000\" fill-rule=\"nonzero\" fill-opacity=\"1\" /><polyline clip-path=\"url(#clip312)\" style=\"stroke:#000000; stroke-linecap:round; stroke-linejoin:round; stroke-width:2; stroke-opacity:0.1; fill:none\" points=\"215.95,1434.2 2352.76,1434.2 \"/>\n",
       "<polyline clip-path=\"url(#clip312)\" style=\"stroke:#000000; stroke-linecap:round; stroke-linejoin:round; stroke-width:2; stroke-opacity:0.1; fill:none\" points=\"215.95,1190.48 2352.76,1190.48 \"/>\n",
       "<polyline clip-path=\"url(#clip312)\" style=\"stroke:#000000; stroke-linecap:round; stroke-linejoin:round; stroke-width:2; stroke-opacity:0.1; fill:none\" points=\"215.95,946.759 2352.76,946.759 \"/>\n",
       "<polyline clip-path=\"url(#clip312)\" style=\"stroke:#000000; stroke-linecap:round; stroke-linejoin:round; stroke-width:2; stroke-opacity:0.1; fill:none\" points=\"215.95,703.04 2352.76,703.04 \"/>\n",
       "<polyline clip-path=\"url(#clip312)\" style=\"stroke:#000000; stroke-linecap:round; stroke-linejoin:round; stroke-width:2; stroke-opacity:0.1; fill:none\" points=\"215.95,459.321 2352.76,459.321 \"/>\n",
       "<polyline clip-path=\"url(#clip312)\" style=\"stroke:#000000; stroke-linecap:round; stroke-linejoin:round; stroke-width:2; stroke-opacity:0.1; fill:none\" points=\"215.95,215.602 2352.76,215.602 \"/>\n",
       "<polyline clip-path=\"url(#clip310)\" style=\"stroke:#000000; stroke-linecap:round; stroke-linejoin:round; stroke-width:4; stroke-opacity:1; fill:none\" points=\"215.95,1486.45 215.95,47.2441 \"/>\n",
       "<polyline clip-path=\"url(#clip310)\" style=\"stroke:#000000; stroke-linecap:round; stroke-linejoin:round; stroke-width:4; stroke-opacity:1; fill:none\" points=\"215.95,1434.2 234.847,1434.2 \"/>\n",
       "<polyline clip-path=\"url(#clip310)\" style=\"stroke:#000000; stroke-linecap:round; stroke-linejoin:round; stroke-width:4; stroke-opacity:1; fill:none\" points=\"215.95,1190.48 234.847,1190.48 \"/>\n",
       "<polyline clip-path=\"url(#clip310)\" style=\"stroke:#000000; stroke-linecap:round; stroke-linejoin:round; stroke-width:4; stroke-opacity:1; fill:none\" points=\"215.95,946.759 234.847,946.759 \"/>\n",
       "<polyline clip-path=\"url(#clip310)\" style=\"stroke:#000000; stroke-linecap:round; stroke-linejoin:round; stroke-width:4; stroke-opacity:1; fill:none\" points=\"215.95,703.04 234.847,703.04 \"/>\n",
       "<polyline clip-path=\"url(#clip310)\" style=\"stroke:#000000; stroke-linecap:round; stroke-linejoin:round; stroke-width:4; stroke-opacity:1; fill:none\" points=\"215.95,459.321 234.847,459.321 \"/>\n",
       "<polyline clip-path=\"url(#clip310)\" style=\"stroke:#000000; stroke-linecap:round; stroke-linejoin:round; stroke-width:4; stroke-opacity:1; fill:none\" points=\"215.95,215.602 234.847,215.602 \"/>\n",
       "<path clip-path=\"url(#clip310)\" d=\"M66.617 1432.84 Q69.9735 1433.56 71.8485 1435.83 Q73.7466 1438.1 73.7466 1441.43 Q73.7466 1446.55 70.2281 1449.35 Q66.7096 1452.15 60.2282 1452.15 Q58.0523 1452.15 55.7375 1451.71 Q53.4458 1451.29 50.9921 1450.44 L50.9921 1445.92 Q52.9366 1447.06 55.2514 1447.63 Q57.5662 1448.21 60.0893 1448.21 Q64.4874 1448.21 66.7791 1446.48 Q69.0939 1444.74 69.0939 1441.43 Q69.0939 1438.38 66.9411 1436.66 Q64.8115 1434.93 60.9921 1434.93 L56.9643 1434.93 L56.9643 1431.08 L61.1773 1431.08 Q64.6263 1431.08 66.455 1429.72 Q68.2837 1428.33 68.2837 1425.74 Q68.2837 1423.07 66.3856 1421.66 Q64.5106 1420.23 60.9921 1420.23 Q59.0708 1420.23 56.8717 1420.64 Q54.6727 1421.06 52.0338 1421.94 L52.0338 1417.77 Q54.6958 1417.03 57.0106 1416.66 Q59.3486 1416.29 61.4087 1416.29 Q66.7328 1416.29 69.8346 1418.72 Q72.9365 1421.13 72.9365 1425.25 Q72.9365 1428.12 71.2929 1430.11 Q69.6494 1432.08 66.617 1432.84 Z\" fill=\"#000000\" fill-rule=\"nonzero\" fill-opacity=\"1\" /><path clip-path=\"url(#clip310)\" d=\"M93.191 1432.33 Q90.0428 1432.33 88.191 1434.49 Q86.3623 1436.64 86.3623 1440.39 Q86.3623 1444.12 88.191 1446.29 Q90.0428 1448.45 93.191 1448.45 Q96.3391 1448.45 98.1678 1446.29 Q100.02 1444.12 100.02 1440.39 Q100.02 1436.64 98.1678 1434.49 Q96.3391 1432.33 93.191 1432.33 M102.473 1417.68 L102.473 1421.94 Q100.714 1421.11 98.9085 1420.67 Q97.1261 1420.23 95.3669 1420.23 Q90.7373 1420.23 88.2836 1423.35 Q85.8531 1426.48 85.5058 1432.8 Q86.8716 1430.78 88.9317 1429.72 Q90.9919 1428.63 93.4688 1428.63 Q98.6771 1428.63 101.686 1431.8 Q104.719 1434.95 104.719 1440.39 Q104.719 1445.71 101.571 1448.93 Q98.4224 1452.15 93.191 1452.15 Q87.1956 1452.15 84.0244 1447.57 Q80.8531 1442.96 80.8531 1434.23 Q80.8531 1426.04 84.7419 1421.18 Q88.6308 1416.29 95.1817 1416.29 Q96.941 1416.29 98.7234 1416.64 Q100.529 1416.99 102.473 1417.68 Z\" fill=\"#000000\" fill-rule=\"nonzero\" fill-opacity=\"1\" /><path clip-path=\"url(#clip310)\" d=\"M112.774 1445.6 L117.658 1445.6 L117.658 1451.48 L112.774 1451.48 L112.774 1445.6 Z\" fill=\"#000000\" fill-rule=\"nonzero\" fill-opacity=\"1\" /><path clip-path=\"url(#clip310)\" d=\"M137.844 1420 Q134.232 1420 132.404 1423.56 Q130.598 1427.1 130.598 1434.23 Q130.598 1441.34 132.404 1444.9 Q134.232 1448.45 137.844 1448.45 Q141.478 1448.45 143.283 1444.9 Q145.112 1441.34 145.112 1434.23 Q145.112 1427.1 143.283 1423.56 Q141.478 1420 137.844 1420 M137.844 1416.29 Q143.654 1416.29 146.709 1420.9 Q149.788 1425.48 149.788 1434.23 Q149.788 1442.96 146.709 1447.57 Q143.654 1452.15 137.844 1452.15 Q132.033 1452.15 128.955 1447.57 Q125.899 1442.96 125.899 1434.23 Q125.899 1425.48 128.955 1420.9 Q132.033 1416.29 137.844 1416.29 Z\" fill=\"#000000\" fill-rule=\"nonzero\" fill-opacity=\"1\" /><path clip-path=\"url(#clip310)\" d=\"M168.005 1420 Q164.394 1420 162.566 1423.56 Q160.76 1427.1 160.76 1434.23 Q160.76 1441.34 162.566 1444.9 Q164.394 1448.45 168.005 1448.45 Q171.64 1448.45 173.445 1444.9 Q175.274 1441.34 175.274 1434.23 Q175.274 1427.1 173.445 1423.56 Q171.64 1420 168.005 1420 M168.005 1416.29 Q173.816 1416.29 176.871 1420.9 Q179.95 1425.48 179.95 1434.23 Q179.95 1442.96 176.871 1447.57 Q173.816 1452.15 168.005 1452.15 Q162.195 1452.15 159.117 1447.57 Q156.061 1442.96 156.061 1434.23 Q156.061 1425.48 159.117 1420.9 Q162.195 1416.29 168.005 1416.29 Z\" fill=\"#000000\" fill-rule=\"nonzero\" fill-opacity=\"1\" /><path clip-path=\"url(#clip310)\" d=\"M67.6124 1189.12 Q70.9689 1189.84 72.8439 1192.11 Q74.742 1194.38 74.742 1197.71 Q74.742 1202.83 71.2235 1205.63 Q67.705 1208.43 61.2236 1208.43 Q59.0476 1208.43 56.7328 1207.99 Q54.4412 1207.57 51.9875 1206.72 L51.9875 1202.2 Q53.9319 1203.34 56.2467 1203.92 Q58.5615 1204.49 61.0847 1204.49 Q65.4828 1204.49 67.7744 1202.76 Q70.0892 1201.02 70.0892 1197.71 Q70.0892 1194.66 67.9365 1192.94 Q65.8069 1191.21 61.9874 1191.21 L57.9597 1191.21 L57.9597 1187.37 L62.1726 1187.37 Q65.6217 1187.37 67.4504 1186 Q69.2791 1184.61 69.2791 1182.02 Q69.2791 1179.36 67.3809 1177.94 Q65.5059 1176.51 61.9874 1176.51 Q60.0662 1176.51 57.8671 1176.93 Q55.668 1177.34 53.0292 1178.22 L53.0292 1174.05 Q55.6912 1173.31 58.006 1172.94 Q60.3439 1172.57 62.4041 1172.57 Q67.7281 1172.57 70.83 1175 Q73.9318 1177.41 73.9318 1181.53 Q73.9318 1184.4 72.2883 1186.39 Q70.6448 1188.36 67.6124 1189.12 Z\" fill=\"#000000\" fill-rule=\"nonzero\" fill-opacity=\"1\" /><path clip-path=\"url(#clip310)\" d=\"M94.1863 1188.62 Q91.0382 1188.62 89.1864 1190.77 Q87.3577 1192.92 87.3577 1196.67 Q87.3577 1200.4 89.1864 1202.57 Q91.0382 1204.73 94.1863 1204.73 Q97.3345 1204.73 99.1632 1202.57 Q101.015 1200.4 101.015 1196.67 Q101.015 1192.92 99.1632 1190.77 Q97.3345 1188.62 94.1863 1188.62 M103.469 1173.96 L103.469 1178.22 Q101.709 1177.39 99.9039 1176.95 Q98.1215 1176.51 96.3623 1176.51 Q91.7326 1176.51 89.279 1179.63 Q86.8484 1182.76 86.5012 1189.08 Q87.8669 1187.06 89.9271 1186 Q91.9873 1184.91 94.4641 1184.91 Q99.6724 1184.91 102.682 1188.08 Q105.714 1191.23 105.714 1196.67 Q105.714 1201.99 102.566 1205.21 Q99.4178 1208.43 94.1863 1208.43 Q88.191 1208.43 85.0197 1203.85 Q81.8484 1199.24 81.8484 1190.51 Q81.8484 1182.32 85.7373 1177.46 Q89.6262 1172.57 96.1771 1172.57 Q97.9363 1172.57 99.7187 1172.92 Q101.524 1173.27 103.469 1173.96 Z\" fill=\"#000000\" fill-rule=\"nonzero\" fill-opacity=\"1\" /><path clip-path=\"url(#clip310)\" d=\"M113.77 1201.88 L118.654 1201.88 L118.654 1207.76 L113.77 1207.76 L113.77 1201.88 Z\" fill=\"#000000\" fill-rule=\"nonzero\" fill-opacity=\"1\" /><path clip-path=\"url(#clip310)\" d=\"M138.839 1176.28 Q135.228 1176.28 133.399 1179.84 Q131.594 1183.38 131.594 1190.51 Q131.594 1197.62 133.399 1201.18 Q135.228 1204.73 138.839 1204.73 Q142.473 1204.73 144.279 1201.18 Q146.107 1197.62 146.107 1190.51 Q146.107 1183.38 144.279 1179.84 Q142.473 1176.28 138.839 1176.28 M138.839 1172.57 Q144.649 1172.57 147.705 1177.18 Q150.783 1181.76 150.783 1190.51 Q150.783 1199.24 147.705 1203.85 Q144.649 1208.43 138.839 1208.43 Q133.029 1208.43 129.95 1203.85 Q126.894 1199.24 126.894 1190.51 Q126.894 1181.76 129.95 1177.18 Q133.029 1172.57 138.839 1172.57 Z\" fill=\"#000000\" fill-rule=\"nonzero\" fill-opacity=\"1\" /><path clip-path=\"url(#clip310)\" d=\"M159.047 1173.2 L177.403 1173.2 L177.403 1177.13 L163.329 1177.13 L163.329 1185.61 Q164.348 1185.26 165.367 1185.1 Q166.385 1184.91 167.404 1184.91 Q173.191 1184.91 176.57 1188.08 Q179.95 1191.25 179.95 1196.67 Q179.95 1202.25 176.478 1205.35 Q173.005 1208.43 166.686 1208.43 Q164.51 1208.43 162.242 1208.06 Q159.996 1207.69 157.589 1206.95 L157.589 1202.25 Q159.672 1203.38 161.894 1203.94 Q164.117 1204.49 166.593 1204.49 Q170.598 1204.49 172.936 1202.39 Q175.274 1200.28 175.274 1196.67 Q175.274 1193.06 172.936 1190.95 Q170.598 1188.85 166.593 1188.85 Q164.718 1188.85 162.843 1189.26 Q160.992 1189.68 159.047 1190.56 L159.047 1173.2 Z\" fill=\"#000000\" fill-rule=\"nonzero\" fill-opacity=\"1\" /><path clip-path=\"url(#clip310)\" d=\"M66.617 945.405 Q69.9735 946.123 71.8485 948.391 Q73.7466 950.66 73.7466 953.993 Q73.7466 959.109 70.2281 961.91 Q66.7096 964.711 60.2282 964.711 Q58.0523 964.711 55.7375 964.271 Q53.4458 963.854 50.9921 962.998 L50.9921 958.484 Q52.9366 959.618 55.2514 960.197 Q57.5662 960.776 60.0893 960.776 Q64.4874 960.776 66.7791 959.039 Q69.0939 957.303 69.0939 953.993 Q69.0939 950.938 66.9411 949.225 Q64.8115 947.489 60.9921 947.489 L56.9643 947.489 L56.9643 943.646 L61.1773 943.646 Q64.6263 943.646 66.455 942.28 Q68.2837 940.891 68.2837 938.299 Q68.2837 935.637 66.3856 934.225 Q64.5106 932.79 60.9921 932.79 Q59.0708 932.79 56.8717 933.206 Q54.6727 933.623 52.0338 934.503 L52.0338 930.336 Q54.6958 929.595 57.0106 929.225 Q59.3486 928.854 61.4087 928.854 Q66.7328 928.854 69.8346 931.285 Q72.9365 933.692 72.9365 937.813 Q72.9365 940.683 71.2929 942.674 Q69.6494 944.641 66.617 945.405 Z\" fill=\"#000000\" fill-rule=\"nonzero\" fill-opacity=\"1\" /><path clip-path=\"url(#clip310)\" d=\"M93.191 944.896 Q90.0428 944.896 88.191 947.049 Q86.3623 949.202 86.3623 952.951 Q86.3623 956.678 88.191 958.854 Q90.0428 961.007 93.191 961.007 Q96.3391 961.007 98.1678 958.854 Q100.02 956.678 100.02 952.951 Q100.02 949.202 98.1678 947.049 Q96.3391 944.896 93.191 944.896 M102.473 930.243 L102.473 934.503 Q100.714 933.669 98.9085 933.229 Q97.1261 932.79 95.3669 932.79 Q90.7373 932.79 88.2836 935.915 Q85.8531 939.04 85.5058 945.359 Q86.8716 943.345 88.9317 942.28 Q90.9919 941.192 93.4688 941.192 Q98.6771 941.192 101.686 944.364 Q104.719 947.512 104.719 952.951 Q104.719 958.276 101.571 961.493 Q98.4224 964.711 93.191 964.711 Q87.1956 964.711 84.0244 960.127 Q80.8531 955.521 80.8531 946.794 Q80.8531 938.6 84.7419 933.739 Q88.6308 928.854 95.1817 928.854 Q96.941 928.854 98.7234 929.202 Q100.529 929.549 102.473 930.243 Z\" fill=\"#000000\" fill-rule=\"nonzero\" fill-opacity=\"1\" /><path clip-path=\"url(#clip310)\" d=\"M112.774 958.16 L117.658 958.16 L117.658 964.039 L112.774 964.039 L112.774 958.16 Z\" fill=\"#000000\" fill-rule=\"nonzero\" fill-opacity=\"1\" /><path clip-path=\"url(#clip310)\" d=\"M128.654 960.104 L136.293 960.104 L136.293 933.739 L127.982 935.405 L127.982 931.146 L136.246 929.479 L140.922 929.479 L140.922 960.104 L148.561 960.104 L148.561 964.039 L128.654 964.039 L128.654 960.104 Z\" fill=\"#000000\" fill-rule=\"nonzero\" fill-opacity=\"1\" /><path clip-path=\"url(#clip310)\" d=\"M168.005 932.558 Q164.394 932.558 162.566 936.123 Q160.76 939.665 160.76 946.794 Q160.76 953.901 162.566 957.465 Q164.394 961.007 168.005 961.007 Q171.64 961.007 173.445 957.465 Q175.274 953.901 175.274 946.794 Q175.274 939.665 173.445 936.123 Q171.64 932.558 168.005 932.558 M168.005 928.854 Q173.816 928.854 176.871 933.461 Q179.95 938.044 179.95 946.794 Q179.95 955.521 176.871 960.127 Q173.816 964.711 168.005 964.711 Q162.195 964.711 159.117 960.127 Q156.061 955.521 156.061 946.794 Q156.061 938.044 159.117 933.461 Q162.195 928.854 168.005 928.854 Z\" fill=\"#000000\" fill-rule=\"nonzero\" fill-opacity=\"1\" /><path clip-path=\"url(#clip310)\" d=\"M67.6124 701.686 Q70.9689 702.404 72.8439 704.672 Q74.742 706.941 74.742 710.274 Q74.742 715.39 71.2235 718.191 Q67.705 720.992 61.2236 720.992 Q59.0476 720.992 56.7328 720.552 Q54.4412 720.135 51.9875 719.279 L51.9875 714.765 Q53.9319 715.899 56.2467 716.478 Q58.5615 717.056 61.0847 717.056 Q65.4828 717.056 67.7744 715.32 Q70.0892 713.584 70.0892 710.274 Q70.0892 707.219 67.9365 705.506 Q65.8069 703.769 61.9874 703.769 L57.9597 703.769 L57.9597 699.927 L62.1726 699.927 Q65.6217 699.927 67.4504 698.561 Q69.2791 697.172 69.2791 694.58 Q69.2791 691.918 67.3809 690.506 Q65.5059 689.071 61.9874 689.071 Q60.0662 689.071 57.8671 689.487 Q55.668 689.904 53.0292 690.783 L53.0292 686.617 Q55.6912 685.876 58.006 685.506 Q60.3439 685.135 62.4041 685.135 Q67.7281 685.135 70.83 687.566 Q73.9318 689.973 73.9318 694.094 Q73.9318 696.964 72.2883 698.955 Q70.6448 700.922 67.6124 701.686 Z\" fill=\"#000000\" fill-rule=\"nonzero\" fill-opacity=\"1\" /><path clip-path=\"url(#clip310)\" d=\"M94.1863 701.177 Q91.0382 701.177 89.1864 703.33 Q87.3577 705.482 87.3577 709.232 Q87.3577 712.959 89.1864 715.135 Q91.0382 717.288 94.1863 717.288 Q97.3345 717.288 99.1632 715.135 Q101.015 712.959 101.015 709.232 Q101.015 705.482 99.1632 703.33 Q97.3345 701.177 94.1863 701.177 M103.469 686.524 L103.469 690.783 Q101.709 689.95 99.9039 689.51 Q98.1215 689.071 96.3623 689.071 Q91.7326 689.071 89.279 692.195 Q86.8484 695.32 86.5012 701.64 Q87.8669 699.626 89.9271 698.561 Q91.9873 697.473 94.4641 697.473 Q99.6724 697.473 102.682 700.645 Q105.714 703.793 105.714 709.232 Q105.714 714.556 102.566 717.774 Q99.4178 720.992 94.1863 720.992 Q88.191 720.992 85.0197 716.408 Q81.8484 711.802 81.8484 703.075 Q81.8484 694.881 85.7373 690.02 Q89.6262 685.135 96.1771 685.135 Q97.9363 685.135 99.7187 685.483 Q101.524 685.83 103.469 686.524 Z\" fill=\"#000000\" fill-rule=\"nonzero\" fill-opacity=\"1\" /><path clip-path=\"url(#clip310)\" d=\"M113.77 714.441 L118.654 714.441 L118.654 720.32 L113.77 720.32 L113.77 714.441 Z\" fill=\"#000000\" fill-rule=\"nonzero\" fill-opacity=\"1\" /><path clip-path=\"url(#clip310)\" d=\"M129.649 716.385 L137.288 716.385 L137.288 690.02 L128.978 691.686 L128.978 687.427 L137.242 685.76 L141.918 685.76 L141.918 716.385 L149.556 716.385 L149.556 720.32 L129.649 720.32 L129.649 716.385 Z\" fill=\"#000000\" fill-rule=\"nonzero\" fill-opacity=\"1\" /><path clip-path=\"url(#clip310)\" d=\"M159.047 685.76 L177.403 685.76 L177.403 689.695 L163.329 689.695 L163.329 698.168 Q164.348 697.82 165.367 697.658 Q166.385 697.473 167.404 697.473 Q173.191 697.473 176.57 700.645 Q179.95 703.816 179.95 709.232 Q179.95 714.811 176.478 717.913 Q173.005 720.992 166.686 720.992 Q164.51 720.992 162.242 720.621 Q159.996 720.251 157.589 719.51 L157.589 714.811 Q159.672 715.945 161.894 716.501 Q164.117 717.056 166.593 717.056 Q170.598 717.056 172.936 714.95 Q175.274 712.844 175.274 709.232 Q175.274 705.621 172.936 703.515 Q170.598 701.408 166.593 701.408 Q164.718 701.408 162.843 701.825 Q160.992 702.242 159.047 703.121 L159.047 685.76 Z\" fill=\"#000000\" fill-rule=\"nonzero\" fill-opacity=\"1\" /><path clip-path=\"url(#clip310)\" d=\"M66.617 457.967 Q69.9735 458.685 71.8485 460.953 Q73.7466 463.222 73.7466 466.555 Q73.7466 471.671 70.2281 474.472 Q66.7096 477.273 60.2282 477.273 Q58.0523 477.273 55.7375 476.833 Q53.4458 476.416 50.9921 475.56 L50.9921 471.046 Q52.9366 472.18 55.2514 472.759 Q57.5662 473.337 60.0893 473.337 Q64.4874 473.337 66.7791 471.601 Q69.0939 469.865 69.0939 466.555 Q69.0939 463.499 66.9411 461.787 Q64.8115 460.05 60.9921 460.05 L56.9643 460.05 L56.9643 456.208 L61.1773 456.208 Q64.6263 456.208 66.455 454.842 Q68.2837 453.453 68.2837 450.861 Q68.2837 448.199 66.3856 446.787 Q64.5106 445.351 60.9921 445.351 Q59.0708 445.351 56.8717 445.768 Q54.6727 446.185 52.0338 447.064 L52.0338 442.898 Q54.6958 442.157 57.0106 441.787 Q59.3486 441.416 61.4087 441.416 Q66.7328 441.416 69.8346 443.847 Q72.9365 446.254 72.9365 450.375 Q72.9365 453.245 71.2929 455.236 Q69.6494 457.203 66.617 457.967 Z\" fill=\"#000000\" fill-rule=\"nonzero\" fill-opacity=\"1\" /><path clip-path=\"url(#clip310)\" d=\"M93.191 457.458 Q90.0428 457.458 88.191 459.611 Q86.3623 461.763 86.3623 465.513 Q86.3623 469.24 88.191 471.416 Q90.0428 473.569 93.191 473.569 Q96.3391 473.569 98.1678 471.416 Q100.02 469.24 100.02 465.513 Q100.02 461.763 98.1678 459.611 Q96.3391 457.458 93.191 457.458 M102.473 442.805 L102.473 447.064 Q100.714 446.231 98.9085 445.791 Q97.1261 445.351 95.3669 445.351 Q90.7373 445.351 88.2836 448.476 Q85.8531 451.601 85.5058 457.921 Q86.8716 455.907 88.9317 454.842 Q90.9919 453.754 93.4688 453.754 Q98.6771 453.754 101.686 456.925 Q104.719 460.074 104.719 465.513 Q104.719 470.837 101.571 474.055 Q98.4224 477.273 93.191 477.273 Q87.1956 477.273 84.0244 472.689 Q80.8531 468.083 80.8531 459.356 Q80.8531 451.162 84.7419 446.301 Q88.6308 441.416 95.1817 441.416 Q96.941 441.416 98.7234 441.763 Q100.529 442.111 102.473 442.805 Z\" fill=\"#000000\" fill-rule=\"nonzero\" fill-opacity=\"1\" /><path clip-path=\"url(#clip310)\" d=\"M112.774 470.722 L117.658 470.722 L117.658 476.601 L112.774 476.601 L112.774 470.722 Z\" fill=\"#000000\" fill-rule=\"nonzero\" fill-opacity=\"1\" /><path clip-path=\"url(#clip310)\" d=\"M131.871 472.666 L148.191 472.666 L148.191 476.601 L126.246 476.601 L126.246 472.666 Q128.908 469.911 133.492 465.282 Q138.098 460.629 139.279 459.287 Q141.524 456.763 142.404 455.027 Q143.306 453.268 143.306 451.578 Q143.306 448.824 141.362 447.088 Q139.441 445.351 136.339 445.351 Q134.14 445.351 131.686 446.115 Q129.256 446.879 126.478 448.43 L126.478 443.708 Q129.302 442.574 131.756 441.995 Q134.209 441.416 136.246 441.416 Q141.617 441.416 144.811 444.101 Q148.005 446.787 148.005 451.277 Q148.005 453.407 147.195 455.328 Q146.408 457.226 144.302 459.819 Q143.723 460.49 140.621 463.708 Q137.519 466.902 131.871 472.666 Z\" fill=\"#000000\" fill-rule=\"nonzero\" fill-opacity=\"1\" /><path clip-path=\"url(#clip310)\" d=\"M168.005 445.12 Q164.394 445.12 162.566 448.685 Q160.76 452.226 160.76 459.356 Q160.76 466.462 162.566 470.027 Q164.394 473.569 168.005 473.569 Q171.64 473.569 173.445 470.027 Q175.274 466.462 175.274 459.356 Q175.274 452.226 173.445 448.685 Q171.64 445.12 168.005 445.12 M168.005 441.416 Q173.816 441.416 176.871 446.023 Q179.95 450.606 179.95 459.356 Q179.95 468.083 176.871 472.689 Q173.816 477.273 168.005 477.273 Q162.195 477.273 159.117 472.689 Q156.061 468.083 156.061 459.356 Q156.061 450.606 159.117 446.023 Q162.195 441.416 168.005 441.416 Z\" fill=\"#000000\" fill-rule=\"nonzero\" fill-opacity=\"1\" /><path clip-path=\"url(#clip310)\" d=\"M67.6124 214.248 Q70.9689 214.966 72.8439 217.234 Q74.742 219.503 74.742 222.836 Q74.742 227.952 71.2235 230.753 Q67.705 233.553 61.2236 233.553 Q59.0476 233.553 56.7328 233.114 Q54.4412 232.697 51.9875 231.841 L51.9875 227.327 Q53.9319 228.461 56.2467 229.04 Q58.5615 229.618 61.0847 229.618 Q65.4828 229.618 67.7744 227.882 Q70.0892 226.146 70.0892 222.836 Q70.0892 219.78 67.9365 218.067 Q65.8069 216.331 61.9874 216.331 L57.9597 216.331 L57.9597 212.489 L62.1726 212.489 Q65.6217 212.489 67.4504 211.123 Q69.2791 209.734 69.2791 207.142 Q69.2791 204.48 67.3809 203.068 Q65.5059 201.632 61.9874 201.632 Q60.0662 201.632 57.8671 202.049 Q55.668 202.466 53.0292 203.345 L53.0292 199.179 Q55.6912 198.438 58.006 198.068 Q60.3439 197.697 62.4041 197.697 Q67.7281 197.697 70.83 200.128 Q73.9318 202.535 73.9318 206.655 Q73.9318 209.526 72.2883 211.517 Q70.6448 213.484 67.6124 214.248 Z\" fill=\"#000000\" fill-rule=\"nonzero\" fill-opacity=\"1\" /><path clip-path=\"url(#clip310)\" d=\"M94.1863 213.739 Q91.0382 213.739 89.1864 215.892 Q87.3577 218.044 87.3577 221.794 Q87.3577 225.521 89.1864 227.697 Q91.0382 229.85 94.1863 229.85 Q97.3345 229.85 99.1632 227.697 Q101.015 225.521 101.015 221.794 Q101.015 218.044 99.1632 215.892 Q97.3345 213.739 94.1863 213.739 M103.469 199.086 L103.469 203.345 Q101.709 202.512 99.9039 202.072 Q98.1215 201.632 96.3623 201.632 Q91.7326 201.632 89.279 204.757 Q86.8484 207.882 86.5012 214.202 Q87.8669 212.188 89.9271 211.123 Q91.9873 210.035 94.4641 210.035 Q99.6724 210.035 102.682 213.206 Q105.714 216.355 105.714 221.794 Q105.714 227.118 102.566 230.336 Q99.4178 233.553 94.1863 233.553 Q88.191 233.553 85.0197 228.97 Q81.8484 224.364 81.8484 215.637 Q81.8484 207.443 85.7373 202.581 Q89.6262 197.697 96.1771 197.697 Q97.9363 197.697 99.7187 198.044 Q101.524 198.392 103.469 199.086 Z\" fill=\"#000000\" fill-rule=\"nonzero\" fill-opacity=\"1\" /><path clip-path=\"url(#clip310)\" d=\"M113.77 227.003 L118.654 227.003 L118.654 232.882 L113.77 232.882 L113.77 227.003 Z\" fill=\"#000000\" fill-rule=\"nonzero\" fill-opacity=\"1\" /><path clip-path=\"url(#clip310)\" d=\"M132.867 228.947 L149.186 228.947 L149.186 232.882 L127.242 232.882 L127.242 228.947 Q129.904 226.192 134.487 221.563 Q139.094 216.91 140.274 215.567 Q142.519 213.044 143.399 211.308 Q144.302 209.549 144.302 207.859 Q144.302 205.105 142.357 203.368 Q140.436 201.632 137.334 201.632 Q135.135 201.632 132.682 202.396 Q130.251 203.16 127.473 204.711 L127.473 199.989 Q130.297 198.855 132.751 198.276 Q135.205 197.697 137.242 197.697 Q142.612 197.697 145.806 200.382 Q149.001 203.068 149.001 207.558 Q149.001 209.688 148.191 211.609 Q147.404 213.507 145.297 216.1 Q144.718 216.771 141.617 219.989 Q138.515 223.183 132.867 228.947 Z\" fill=\"#000000\" fill-rule=\"nonzero\" fill-opacity=\"1\" /><path clip-path=\"url(#clip310)\" d=\"M159.047 198.322 L177.403 198.322 L177.403 202.257 L163.329 202.257 L163.329 210.73 Q164.348 210.382 165.367 210.22 Q166.385 210.035 167.404 210.035 Q173.191 210.035 176.57 213.206 Q179.95 216.378 179.95 221.794 Q179.95 227.373 176.478 230.475 Q173.005 233.553 166.686 233.553 Q164.51 233.553 162.242 233.183 Q159.996 232.813 157.589 232.072 L157.589 227.373 Q159.672 228.507 161.894 229.063 Q164.117 229.618 166.593 229.618 Q170.598 229.618 172.936 227.512 Q175.274 225.405 175.274 221.794 Q175.274 218.183 172.936 216.077 Q170.598 213.97 166.593 213.97 Q164.718 213.97 162.843 214.387 Q160.992 214.804 159.047 215.683 L159.047 198.322 Z\" fill=\"#000000\" fill-rule=\"nonzero\" fill-opacity=\"1\" /><polyline clip-path=\"url(#clip312)\" style=\"stroke:#009af9; stroke-linecap:round; stroke-linejoin:round; stroke-width:4; stroke-opacity:1; fill:none\" points=\"363.049,945.2 1180.59,1445.72 1176.19,704.21 1311.33,786.568 1425.19,733.164 1584.26,731.034 1523.89,770.531 1481.29,811.939 1689.59,874.541 1719.39,941.558 1849.08,947.076 1959.14,801.074 1861.05,733.33 1667.57,601.955 1952.58,587.249 2155.37,666.663 2292.28,480.617 1852.63,87.9763 1262.61,456.64 1192.35,484.824 276.425,368.336 625.659,443.679 777.995,507.773 899.917,660.292 630.344,736.986 363.049,945.2 \"/>\n",
       "<path clip-path=\"url(#clip310)\" d=\"M2015.42 1438.47 L2281.53 1438.47 L2281.53 1334.79 L2015.42 1334.79  Z\" fill=\"#ffffff\" fill-rule=\"evenodd\" fill-opacity=\"1\"/>\n",
       "<polyline clip-path=\"url(#clip310)\" style=\"stroke:#000000; stroke-linecap:round; stroke-linejoin:round; stroke-width:4; stroke-opacity:1; fill:none\" points=\"2015.42,1438.47 2281.53,1438.47 2281.53,1334.79 2015.42,1334.79 2015.42,1438.47 \"/>\n",
       "<polyline clip-path=\"url(#clip310)\" style=\"stroke:#009af9; stroke-linecap:round; stroke-linejoin:round; stroke-width:4; stroke-opacity:1; fill:none\" points=\"2039.16,1386.63 2181.61,1386.63 \"/>\n",
       "<path clip-path=\"url(#clip310)\" d=\"M2219.2 1406.32 Q2217.39 1410.95 2215.68 1412.36 Q2213.97 1413.78 2211.1 1413.78 L2207.69 1413.78 L2207.69 1410.21 L2210.19 1410.21 Q2211.95 1410.21 2212.93 1409.38 Q2213.9 1408.54 2215.08 1405.44 L2215.84 1403.5 L2205.36 1377.99 L2209.87 1377.99 L2217.97 1398.27 L2226.07 1377.99 L2230.59 1377.99 L2219.2 1406.32 Z\" fill=\"#000000\" fill-rule=\"nonzero\" fill-opacity=\"1\" /><path clip-path=\"url(#clip310)\" d=\"M2237.88 1399.98 L2245.52 1399.98 L2245.52 1373.61 L2237.21 1375.28 L2237.21 1371.02 L2245.47 1369.35 L2250.15 1369.35 L2250.15 1399.98 L2257.79 1399.98 L2257.79 1403.91 L2237.88 1403.91 L2237.88 1399.98 Z\" fill=\"#000000\" fill-rule=\"nonzero\" fill-opacity=\"1\" /></svg>\n"
      ]
     },
     "execution_count": 151,
     "metadata": {},
     "output_type": "execute_result"
    }
   ],
   "source": [
    "using Plots\n",
    "\n",
    "cycle_idx = getcycle(value.(x), N)\n",
    "ids = vcat(cycle_idx, cycle_idx[1])\n",
    "\n",
    "p = plot(sbws_la.long[ids], sbws_la.latt[ids])\n"
   ]
  },
  {
   "cell_type": "markdown",
   "metadata": {},
   "source": [
    "Optional Gurobi example"
   ]
  },
  {
   "cell_type": "markdown",
   "metadata": {
    "scrolled": true
   },
   "source": [
    "```\n",
    "using JuMP, Gurobi\n",
    "N = 25 #the problem is NP-hard we do not solve it for all cities\n",
    "m2 = Model(optimizer_with_attributes(Gurobi.Optimizer));\n",
    "set_attribute(m2, \"TimeLimit\", 60)\n",
    "JuMP.set_silent(m2)\n",
    "@variable(m2, x[f=1:N, t=1:N], Bin)\n",
    "@objective(m2, Min, sum( x[i, j]*dist_mx[i,j] for i=1:N,j=1:N))\n",
    "@constraint(m2, notself[i=1:N], x[i, i] == 0)\n",
    "@constraint(m2, oneout[i=1:N], sum(x[i, 1:N]) == 1)\n",
    "@constraint(m2, onein[j=1:N], sum(x[1:N, j]) == 1)\n",
    "for f=1:N, t=1:N\n",
    "    @constraint(m2, x[f, t]+x[t, f] <= 1)\n",
    "end\n",
    "#optimize!(m2)\n",
    "\n",
    "function callbackhandle(cb)\n",
    "    cycle_idx =  getcycle(callback_value.(Ref(cb), x), N)\n",
    "    println(\"Callback! N= $N cycle_idx: $cycle_idx of length: $(length(cycle_idx))\")\n",
    "    if length(cycle_idx) < N\n",
    "        con = @build_constraint(sum(x[cycle_idx,cycle_idx]) <= length(cycle_idx)-1)\n",
    "        MOI.submit(m2, MOI.LazyConstraint(cb), con)\n",
    "        print(\"added a lazy constraint: \")\n",
    "        println(con)\n",
    "    end\n",
    "end\n",
    "MOI.set(m2, MOI.LazyConstraintCallback(), callbackhandle)\n",
    "optimize!(m2)\n",
    "println(\"Trip length $(objective_value(m2))\")\n",
    "```\n"
   ]
  },
  {
   "cell_type": "markdown",
   "metadata": {},
   "source": [
    "### Sample quadratic model - minimizing sum of squares"
   ]
  },
  {
   "cell_type": "code",
   "execution_count": 118,
   "metadata": {},
   "outputs": [
    {
     "data": {
      "text/plain": [
       "1×1000 adjoint(::Vector{Float64}) with eltype Float64:\n",
       " -27.7648  84.2602  7.41514  10.4189  …  46.4475  202.429  28.5886  1.53657"
      ]
     },
     "execution_count": 118,
     "metadata": {},
     "output_type": "execute_result"
    }
   ],
   "source": [
    "using LinearAlgebra\n",
    "# here we generate a sample problem structure\n",
    "x = rand(Float64,(1000,2))*Diagonal([6,10]) .- [4 3]\n",
    "ϵ = randn(1000).*2 #errors\n",
    "\n",
    "a, b, c = 1, 10, 7 # values we are trying to estimate\n",
    "A = [a b/2;b/2 c]\n",
    "\n",
    "# y = a * x₁² + b*x₁x₂ + c x₂²\n",
    "y = (x * A ) .* x * [1;1] .+ ϵ # explained variable\n",
    ";\n",
    "y'"
   ]
  },
  {
   "cell_type": "code",
   "execution_count": 119,
   "metadata": {
    "scrolled": true
   },
   "outputs": [
    {
     "name": "stdout",
     "output_type": "stream",
     "text": [
      "\n",
      "******************************************************************************\n",
      "This program contains Ipopt, a library for large-scale nonlinear optimization.\n",
      " Ipopt is released as open source code under the Eclipse Public License (EPL).\n",
      "         For more information visit https://github.com/coin-or/Ipopt\n",
      "******************************************************************************\n",
      "\n",
      "This is Ipopt version 3.14.13, running with linear solver MUMPS 5.6.1.\n",
      "\n",
      "Number of nonzeros in equality constraint Jacobian...:        0\n",
      "Number of nonzeros in inequality constraint Jacobian.:        0\n",
      "Number of nonzeros in Lagrangian Hessian.............:       10\n",
      "\n",
      "Total number of variables............................:        4\n",
      "                     variables with only lower bounds:        0\n",
      "                variables with lower and upper bounds:        0\n",
      "                     variables with only upper bounds:        0\n",
      "Total number of equality constraints.................:        0\n",
      "Total number of inequality constraints...............:        0\n",
      "        inequality constraints with only lower bounds:        0\n",
      "   inequality constraints with lower and upper bounds:        0\n",
      "        inequality constraints with only upper bounds:        0\n",
      "\n",
      "iter    objective    inf_pr   inf_du lg(mu)  ||d||  lg(rg) alpha_du alpha_pr  ls\n",
      "   0  1.4434260e+07 0.00e+00 1.00e+02  -1.0 0.00e+00    -  0.00e+00 0.00e+00   0\n",
      "   1  4.0406556e+03 0.00e+00 7.00e-04  -1.0 7.00e+00  -4.0 1.00e+00 1.00e+00f  1\n",
      "   2  4.0406514e+03 0.00e+00 5.20e-09  -5.7 1.56e-04  -4.5 1.00e+00 1.00e+00f  1\n",
      "\n",
      "Number of Iterations....: 2\n",
      "\n",
      "                                   (scaled)                 (unscaled)\n",
      "Objective...............:   1.0587604556415567e-01    4.0406514404900372e+03\n",
      "Dual infeasibility......:   5.2033165641907263e-09    1.9857927691191438e-04\n",
      "Constraint violation....:   0.0000000000000000e+00    0.0000000000000000e+00\n",
      "Variable bound violation:   0.0000000000000000e+00    0.0000000000000000e+00\n",
      "Complementarity.........:   0.0000000000000000e+00    0.0000000000000000e+00\n",
      "Overall NLP error.......:   5.2033165641907263e-09    1.9857927691191438e-04\n",
      "\n",
      "\n",
      "Number of objective function evaluations             = 3\n",
      "Number of objective gradient evaluations             = 3\n",
      "Number of equality constraint evaluations            = 0\n",
      "Number of inequality constraint evaluations          = 0\n",
      "Number of equality constraint Jacobian evaluations   = 0\n",
      "Number of inequality constraint Jacobian evaluations = 0\n",
      "Number of Lagrangian Hessian evaluations             = 1\n",
      "Total seconds in IPOPT                               = 0.017\n",
      "\n",
      "EXIT: Optimal Solution Found.\n"
     ]
    }
   ],
   "source": [
    "using Ipopt\n",
    "m = Model(optimizer_with_attributes(Ipopt.Optimizer)); \n",
    "\n",
    "@variable(m, aa[1:2,1:2])\n",
    "\n",
    "function errs(aa)\n",
    "   sum((y .- (x * aa ) .* x * [1;1]) .^ 2)\n",
    "end\n",
    "\n",
    "@objective(m, Min, errs(aa))\n",
    "\n",
    "optimize!(m)\n"
   ]
  },
  {
   "cell_type": "code",
   "execution_count": 120,
   "metadata": {},
   "outputs": [
    {
     "data": {
      "text/plain": [
       "2×2 Matrix{Float64}:\n",
       " 1.0  5.0\n",
       " 5.0  7.0"
      ]
     },
     "execution_count": 120,
     "metadata": {},
     "output_type": "execute_result"
    }
   ],
   "source": [
    "A"
   ]
  },
  {
   "cell_type": "code",
   "execution_count": 121,
   "metadata": {},
   "outputs": [
    {
     "data": {
      "text/plain": [
       "2×2 Matrix{Float64}:\n",
       " 1.00837  5.00195\n",
       " 5.00195  6.99828"
      ]
     },
     "execution_count": 121,
     "metadata": {},
     "output_type": "execute_result"
    }
   ],
   "source": [
    "value.(aa)"
   ]
  },
  {
   "cell_type": "code",
   "execution_count": 122,
   "metadata": {},
   "outputs": [
    {
     "name": "stdout",
     "output_type": "stream",
     "text": [
      "Set parameter Username\n",
      "Academic license - for non-commercial use only - expires 2024-09-01\n",
      "Gurobi Optimizer version 10.0.2 build v10.0.2rc0 (win64)\n",
      "\n",
      "CPU model: 13th Gen Intel(R) Core(TM) i7-1355U, instruction set [SSE2|AVX|AVX2]\n",
      "Thread count: 10 physical cores, 12 logical processors, using up to 12 threads\n",
      "\n",
      "Optimize a model with 0 rows, 4 columns and 0 nonzeros\n",
      "Model fingerprint: 0x3c39708a\n",
      "Model has 10 quadratic objective terms\n",
      "Coefficient statistics:\n",
      "  Matrix range     [0e+00, 0e+00]\n",
      "  Objective range  [2e+05, 4e+06]\n",
      "  QObjective range [8e+04, 7e+05]\n",
      "  Bounds range     [0e+00, 0e+00]\n",
      "  RHS range        [0e+00, 0e+00]\n",
      "Presolve time: 0.01s\n",
      "Presolved: 0 rows, 4 columns, 0 nonzeros\n",
      "Presolved model has 10 quadratic objective terms\n",
      "Ordering time: 0.00s\n",
      "\n",
      "Barrier statistics:\n",
      " Free vars  : 7\n",
      " AA' NZ     : 3.000e+00\n",
      " Factor NZ  : 6.000e+00\n",
      " Factor Ops : 1.400e+01 (less than 1 second per iteration)\n",
      " Threads    : 1\n",
      "\n",
      "                  Objective                Residual\n",
      "Iter       Primal          Dual         Primal    Dual     Compl     Time\n",
      "   0   1.44342596e+07  1.44342596e+07  0.00e+00 3.82e+06  0.00e+00     0s\n",
      "   1   1.44339482e+07  1.44342596e+07  1.58e-08 3.82e+06  0.00e+00     0s\n",
      "   2   1.44325405e+07  1.44342596e+07  3.72e-09 3.82e+06  0.00e+00     0s\n",
      "   3   1.44311135e+07  1.44342594e+07  1.96e-08 3.82e+06  0.00e+00     0s\n",
      "   4   1.44298081e+07  1.44342593e+07  2.68e-08 3.82e+06  0.00e+00     0s\n",
      "   5   1.44285376e+07  1.44342590e+07  3.29e-08 3.82e+06  0.00e+00     0s\n",
      "   6   1.44273214e+07  1.44342588e+07  9.04e-08 3.82e+06  0.00e+00     0s\n",
      "   7   1.44229613e+07  1.44342574e+07  2.09e-07 3.81e+06  0.00e+00     0s\n",
      "   8   1.44105260e+07  1.44342498e+07  2.78e-07 3.81e+06  0.00e+00     0s\n",
      "   9   1.43732750e+07  1.44341950e+07  6.31e-07 3.81e+06  0.00e+00     0s\n",
      "  10   1.43216429e+07  1.44340390e+07  1.41e-06 3.80e+06  0.00e+00     0s\n",
      "  11   1.42552714e+07  1.44337011e+07  1.30e-06 3.79e+06  0.00e+00     0s\n",
      "  12   1.42233001e+07  1.44334829e+07  1.56e-06 3.79e+06  0.00e+00     0s\n",
      "  13   1.40577195e+07  1.44317708e+07  2.07e-06 3.77e+06  0.00e+00     0s\n",
      "  14   1.37865496e+07  1.44268240e+07  5.11e-06 3.73e+06  0.00e+00     0s\n",
      "  15   1.35572961e+07  1.44205155e+07  6.70e-06 3.70e+06  0.00e+00     0s\n",
      "  16   1.32773447e+07  1.44100932e+07  1.72e-05 3.66e+06  0.00e+00     0s\n",
      "  17   1.23107168e+07  1.43498046e+07  2.97e-05 3.52e+06  0.00e+00     0s\n",
      "  18   1.15289591e+07  1.42711491e+07  4.99e-05 3.41e+06  0.00e+00     0s\n",
      "  19   1.00599881e+07  1.40404258e+07  7.92e-05 3.19e+06  0.00e+00     0s\n",
      "  20   1.87907187e+06  8.53298174e+06  1.10e-04 1.38e+06  0.00e+00     0s\n",
      "  21   6.84438572e+05  5.59182113e+06  1.19e-04 8.29e+05  0.00e+00     0s\n",
      "  22   3.71409807e+03  4.04692001e+03  1.43e-04 8.29e-01  0.00e+00     0s\n",
      "  23   4.04065140e+03  4.04065145e+03  6.81e-11 8.29e-07  0.00e+00     0s\n",
      "\n",
      "Barrier solved model in 23 iterations and 0.01 seconds (0.00 work units)\n",
      "Optimal objective 4.04065140e+03\n",
      "\n",
      "\n",
      "User-callback calls 85, time in user-callback 0.00 sec\n",
      "Cost: 4040.6514033079147\n",
      "aa=[1.008368985622381 5.001945560597719; 5.001945560597719 6.998278968876772]\n",
      "a, b, c = 1.008368985622381, 10.003891121195439, 6.998278968876772\n"
     ]
    }
   ],
   "source": [
    "using Gurobi, JuMP\n",
    "\n",
    "\n",
    "m = Model(optimizer_with_attributes(Gurobi.Optimizer)); \n",
    "@variable(m, aa[1:2,1:2])\n",
    "\n",
    "function errs(aa)\n",
    "   sum((y .- (x * aa ) .* x * [1;1]) .^ 2)\n",
    "end\n",
    "\n",
    "@objective(m, Min, errs(aa))\n",
    "\n",
    "optimize!(m)\n",
    "status = termination_status(m)\n",
    "\n",
    "println(\"Cost: $(objective_value(m))\")\n",
    "res = value.(aa)\n",
    "println(\"aa=$res\")\n",
    "println(\"a, b, c = $(res[1,1]), $(res[1,2]+res[2,1]), $(res[2,2])\")"
   ]
  },
  {
   "cell_type": "markdown",
   "metadata": {},
   "source": [
    "### Modelling pandemic dynamics in a small community"
   ]
  },
  {
   "cell_type": "code",
   "execution_count": 123,
   "metadata": {},
   "outputs": [
    {
     "data": {
      "text/plain": [
       "300"
      ]
     },
     "execution_count": 123,
     "metadata": {},
     "output_type": "execute_result"
    }
   ],
   "source": [
    "using Ipopt, JuMP, LinearAlgebra\n",
    "obs_cases = vcat(1,2,4,8,15,27,44,58,55,32,12,3,1,zeros(13))\n",
    "SI_max = length(obs_cases)\n",
    "N = 300"
   ]
  },
  {
   "cell_type": "code",
   "execution_count": 124,
   "metadata": {},
   "outputs": [
    {
     "data": {
      "text/plain": [
       "1×26 adjoint(::Vector{Float64}) with eltype Float64:\n",
       " 1.0  2.0  4.0  8.0  15.0  27.0  44.0  …  0.0  0.0  0.0  0.0  0.0  0.0  0.0"
      ]
     },
     "execution_count": 124,
     "metadata": {},
     "output_type": "execute_result"
    }
   ],
   "source": [
    "obs_cases'"
   ]
  },
  {
   "cell_type": "code",
   "execution_count": 125,
   "metadata": {
    "scrolled": true
   },
   "outputs": [
    {
     "name": "stdout",
     "output_type": "stream",
     "text": [
      "Min ε[1] ^ 2.0 + ε[2] ^ 2.0 + ε[3] ^ 2.0 + ε[4] ^ 2.0 + ε[5] ^ 2.0 + ε[6] ^ 2.0 + ε[7] ^ 2.0 + ε[8] ^ 2.0 + ε[9] ^ 2.0 + ε[10] ^ 2.0 + ε[11] ^ 2.0 + ε[12] ^ 2.0 + ε[13] ^ 2.0 + ε[14] ^ 2.0 + ε[15] ^ 2.0 + ε[16] ^ 2.0 + ε[17] ^ 2.0 + ε[18] ^ 2.0 + ε[19] ^ 2.0 + ε[20] ^ 2.0 + ε[21] ^ 2.0 + ε[22] ^ 2.0 + ε[23] ^ 2.0 + ε[24] ^ 2.0 + ε[25] ^ 2.0 + ε[26] ^ 2.0\n",
      "Subject to\n",
      " -I_[1] + ε[1] == -1\n",
      " -I_[2] + ε[2] == -2\n",
      " -I_[3] + ε[3] == -4\n",
      " -I_[4] + ε[4] == -8\n",
      " -I_[5] + ε[5] == -15\n",
      " -I_[6] + ε[6] == -27\n",
      " -I_[7] + ε[7] == -44\n",
      " -I_[8] + ε[8] == -58\n",
      " -I_[9] + ε[9] == -55\n",
      " -I_[10] + ε[10] == -32\n",
      " -I_[11] + ε[11] == -12\n",
      " -I_[12] + ε[12] == -3\n",
      " -I_[13] + ε[13] == -1\n",
      " -I_[14] + ε[14] == 0\n",
      " -I_[15] + ε[15] == 0\n",
      " -I_[16] + ε[16] == 0\n",
      " -I_[17] + ε[17] == 0\n",
      " -I_[18] + ε[18] == 0\n",
      " -I_[19] + ε[19] == 0\n",
      " -I_[20] + ε[20] == 0\n",
      " -I_[21] + ε[21] == 0\n",
      " -I_[22] + ε[22] == 0\n",
      " -I_[23] + ε[23] == 0\n",
      " -I_[24] + ε[24] == 0\n",
      " -I_[25] + ε[25] == 0\n",
      " -I_[26] + ε[26] == 0\n",
      " I_[1] == 1\n",
      " S[1] == 300\n",
      " I_[2] - S[1] + S[2] == 0\n",
      " I_[3] - S[2] + S[3] == 0\n",
      " I_[4] - S[3] + S[4] == 0\n",
      " I_[5] - S[4] + S[5] == 0\n",
      " I_[6] - S[5] + S[6] == 0\n",
      " I_[7] - S[6] + S[7] == 0\n",
      " I_[8] - S[7] + S[8] == 0\n",
      " I_[9] - S[8] + S[9] == 0\n",
      " I_[10] - S[9] + S[10] == 0\n",
      " I_[11] - S[10] + S[11] == 0\n",
      " I_[12] - S[11] + S[12] == 0\n",
      " I_[13] - S[12] + S[13] == 0\n",
      " I_[14] - S[13] + S[14] == 0\n",
      " I_[15] - S[14] + S[15] == 0\n",
      " I_[16] - S[15] + S[16] == 0\n",
      " I_[17] - S[16] + S[17] == 0\n",
      " I_[18] - S[17] + S[18] == 0\n",
      " I_[19] - S[18] + S[19] == 0\n",
      " I_[20] - S[19] + S[20] == 0\n",
      " I_[21] - S[20] + S[21] == 0\n",
      " I_[22] - S[21] + S[22] == 0\n",
      " I_[23] - S[22] + S[23] == 0\n",
      " I_[24] - S[23] + S[24] == 0\n",
      " I_[25] - S[24] + S[25] == 0\n",
      " I_[26] - S[25] + S[26] == 0\n",
      " α >= 0.5\n",
      " β >= 0.05\n",
      " I_[1] >= 0\n",
      " I_[2] >= 0\n",
      " I_[3] >= 0\n",
      " I_[4] >= 0\n",
      " I_[5] >= 0\n",
      " I_[6] >= 0\n",
      " I_[7] >= 0\n",
      " I_[8] >= 0\n",
      " I_[9] >= 0\n",
      " I_[10] >= 0\n",
      " I_[11] >= 0\n",
      " I_[12] >= 0\n",
      " I_[13] >= 0\n",
      " I_[14] >= 0\n",
      " I_[15] >= 0\n",
      " I_[16] >= 0\n",
      " I_[17] >= 0\n",
      " I_[18] >= 0\n",
      " I_[19] >= 0\n",
      " I_[20] >= 0\n",
      " I_[21] >= 0\n",
      " I_[22] >= 0\n",
      " I_[23] >= 0\n",
      " I_[24] >= 0\n",
      " I_[25] >= 0\n",
      " I_[26] >= 0\n",
      " S[1] >= 0\n",
      " S[2] >= 0\n",
      " S[3] >= 0\n",
      " S[4] >= 0\n",
      " S[5] >= 0\n",
      " S[6] >= 0\n",
      " S[7] >= 0\n",
      " S[8] >= 0\n",
      " S[9] >= 0\n",
      " S[10] >= 0\n",
      " S[11] >= 0\n",
      " S[12] >= 0\n",
      " S[13] >= 0\n",
      " S[14] >= 0\n",
      " S[15] >= 0\n",
      " S[16] >= 0\n",
      " S[17] >= 0\n",
      " S[18] >= 0\n",
      " S[19] >= 0\n",
      " S[20] >= 0\n",
      " S[21] >= 0\n",
      " S[22] >= 0\n",
      " S[23] >= 0\n",
      " S[24] >= 0\n",
      " S[25] >= 0\n",
      " S[26] >= 0\n",
      " α <= 1.5\n",
      " β <= 70\n",
      " I_[1] <= 300\n",
      " I_[2] <= 300\n",
      " I_[3] <= 300\n",
      " I_[4] <= 300\n",
      " I_[5] <= 300\n",
      " I_[6] <= 300\n",
      " I_[7] <= 300\n",
      " I_[8] <= 300\n",
      " I_[9] <= 300\n",
      " I_[10] <= 300\n",
      " I_[11] <= 300\n",
      " I_[12] <= 300\n",
      " I_[13] <= 300\n",
      " I_[14] <= 300\n",
      " I_[15] <= 300\n",
      " I_[16] <= 300\n",
      " I_[17] <= 300\n",
      " I_[18] <= 300\n",
      " I_[19] <= 300\n",
      " I_[20] <= 300\n",
      " I_[21] <= 300\n",
      " I_[22] <= 300\n",
      " I_[23] <= 300\n",
      " I_[24] <= 300\n",
      " I_[25] <= 300\n",
      " I_[26] <= 300\n",
      " S[1] <= 300\n",
      " S[2] <= 300\n",
      " S[3] <= 300\n",
      " S[4] <= 300\n",
      " S[5] <= 300\n",
      " S[6] <= 300\n",
      " S[7] <= 300\n",
      " S[8] <= 300\n",
      " S[9] <= 300\n",
      " S[10] <= 300\n",
      " S[11] <= 300\n",
      " S[12] <= 300\n",
      " S[13] <= 300\n",
      " S[14] <= 300\n",
      " S[15] <= 300\n",
      " S[16] <= 300\n",
      " S[17] <= 300\n",
      " S[18] <= 300\n",
      " S[19] <= 300\n",
      " S[20] <= 300\n",
      " S[21] <= 300\n",
      " S[22] <= 300\n",
      " S[23] <= 300\n",
      " S[24] <= 300\n",
      " S[25] <= 300\n",
      " S[26] <= 300\n",
      " (I_[2] - (β * I_[1] ^ α * S[1]) / 300.0) - 0.0 == 0\n",
      " (I_[3] - (β * I_[2] ^ α * S[2]) / 300.0) - 0.0 == 0\n",
      " (I_[4] - (β * I_[3] ^ α * S[3]) / 300.0) - 0.0 == 0\n",
      " (I_[5] - (β * I_[4] ^ α * S[4]) / 300.0) - 0.0 == 0\n",
      " (I_[6] - (β * I_[5] ^ α * S[5]) / 300.0) - 0.0 == 0\n",
      " (I_[7] - (β * I_[6] ^ α * S[6]) / 300.0) - 0.0 == 0\n",
      " (I_[8] - (β * I_[7] ^ α * S[7]) / 300.0) - 0.0 == 0\n",
      " (I_[9] - (β * I_[8] ^ α * S[8]) / 300.0) - 0.0 == 0\n",
      " (I_[10] - (β * I_[9] ^ α * S[9]) / 300.0) - 0.0 == 0\n",
      " (I_[11] - (β * I_[10] ^ α * S[10]) / 300.0) - 0.0 == 0\n",
      " (I_[12] - (β * I_[11] ^ α * S[11]) / 300.0) - 0.0 == 0\n",
      " (I_[13] - (β * I_[12] ^ α * S[12]) / 300.0) - 0.0 == 0\n",
      " (I_[14] - (β * I_[13] ^ α * S[13]) / 300.0) - 0.0 == 0\n",
      " (I_[15] - (β * I_[14] ^ α * S[14]) / 300.0) - 0.0 == 0\n",
      " (I_[16] - (β * I_[15] ^ α * S[15]) / 300.0) - 0.0 == 0\n",
      " (I_[17] - (β * I_[16] ^ α * S[16]) / 300.0) - 0.0 == 0\n",
      " (I_[18] - (β * I_[17] ^ α * S[17]) / 300.0) - 0.0 == 0\n",
      " (I_[19] - (β * I_[18] ^ α * S[18]) / 300.0) - 0.0 == 0\n",
      " (I_[20] - (β * I_[19] ^ α * S[19]) / 300.0) - 0.0 == 0\n",
      " (I_[21] - (β * I_[20] ^ α * S[20]) / 300.0) - 0.0 == 0\n",
      " (I_[22] - (β * I_[21] ^ α * S[21]) / 300.0) - 0.0 == 0\n",
      " (I_[23] - (β * I_[22] ^ α * S[22]) / 300.0) - 0.0 == 0\n",
      " (I_[24] - (β * I_[23] ^ α * S[23]) / 300.0) - 0.0 == 0\n",
      " (I_[25] - (β * I_[24] ^ α * S[24]) / 300.0) - 0.0 == 0\n",
      " (I_[26] - (β * I_[25] ^ α * S[25]) / 300.0) - 0.0 == 0\n",
      "\n"
     ]
    }
   ],
   "source": [
    "using JuMP, Ipopt\n",
    "m = Model(optimizer_with_attributes(Ipopt.Optimizer, (\"print_level\"=>2))); \n",
    "@variable(m, 0.5 <= α <= 1.5)\n",
    "@variable(m, 0.05 <= β <= 70)\n",
    "@variable(m, 0 <= I_[1:SI_max] <= N)\n",
    "\n",
    "@variable(m, 0 <= S[1:SI_max]  <= N)\n",
    "@variable(m, ε[1:SI_max])\n",
    "@constraint(m, ε .== I_ .- obs_cases  )\n",
    "@constraint(m, I_[1] == 1)\n",
    "for i=2:SI_max\n",
    "   @NLconstraint(m, I_[i] == β*(I_[i-1]^α)*S[i-1]/N)\n",
    "end\n",
    "\n",
    "@constraint(m, S[1] == N)\n",
    "for i=2:SI_max\n",
    "   @constraint(m, S[i] == S[i-1]-I_[i])\n",
    "end\n",
    "\n",
    "@NLobjective(m, Min, sum(ε[i]^2 for i in 1:SI_max))\n",
    "println(m)"
   ]
  },
  {
   "cell_type": "code",
   "execution_count": 126,
   "metadata": {},
   "outputs": [
    {
     "name": "stdout",
     "output_type": "stream",
     "text": [
      "Cost: 0.4826914548884895\n",
      "α=0.9978555010305015\n",
      "β=2.0069930759045875\n"
     ]
    }
   ],
   "source": [
    "\n",
    "optimize!(m)\n",
    "\n",
    "println(\"Cost: $(objective_value(m))\")\n",
    "println(\"α=$(value(α))\\nβ=$(value(β))\")\n"
   ]
  },
  {
   "cell_type": "code",
   "execution_count": 127,
   "metadata": {},
   "outputs": [
    {
     "data": {
      "text/html": [
       "<div><div style = \"float: left;\"><span>118×5 DataFrame</span></div><div style = \"float: right;\"><span style = \"font-style: italic;\">93 rows omitted</span></div><div style = \"clear: both;\"></div></div><div class = \"data-frame\" style = \"overflow-x: scroll;\"><table class = \"data-frame\" style = \"margin-bottom: 6px;\"><thead><tr class = \"header\"><th class = \"rowNumber\" style = \"font-weight: bold; text-align: right;\">Row</th><th style = \"text-align: left;\">long</th><th style = \"text-align: left;\">latt</th><th style = \"text-align: left;\">name</th><th style = \"text-align: left;\">address</th><th style = \"text-align: left;\">node</th></tr><tr class = \"subheader headerLastRow\"><th class = \"rowNumber\" style = \"font-weight: bold; text-align: right;\"></th><th title = \"Float64\" style = \"text-align: left;\">Float64</th><th title = \"Float64\" style = \"text-align: left;\">Float64</th><th title = \"String7\" style = \"text-align: left;\">String7</th><th title = \"String\" style = \"text-align: left;\">String</th><th title = \"Int64\" style = \"text-align: left;\">Int64</th></tr></thead><tbody><tr><td class = \"rowNumber\" style = \"font-weight: bold; text-align: right;\">1</td><td style = \"text-align: right;\">-115.314</td><td style = \"text-align: right;\">36.1003</td><td style = \"text-align: left;\">Subway</td><td style = \"text-align: left;\">10140 W Tropicana Ave, Las Vegas, NV, 89147</td><td style = \"text-align: right;\">5503377919</td></tr><tr><td class = \"rowNumber\" style = \"font-weight: bold; text-align: right;\">2</td><td style = \"text-align: right;\">-115.141</td><td style = \"text-align: right;\">36.1148</td><td style = \"text-align: left;\">Subway</td><td style = \"text-align: left;\">1040 E Flamingo, Las Vegas, NV, 89109</td><td style = \"text-align: right;\">2747920069</td></tr><tr><td class = \"rowNumber\" style = \"font-weight: bold; text-align: right;\">3</td><td style = \"text-align: right;\">-115.325</td><td style = \"text-align: right;\">36.2187</td><td style = \"text-align: left;\">Subway</td><td style = \"text-align: left;\">10470 W Cheyanne, Las Vegas, NV, 89129</td><td style = \"text-align: right;\">2590273363</td></tr><tr><td class = \"rowNumber\" style = \"font-weight: bold; text-align: right;\">4</td><td style = \"text-align: right;\">-115.207</td><td style = \"text-align: right;\">35.9976</td><td style = \"text-align: left;\">Subway</td><td style = \"text-align: left;\">10550 Southern Highlands Pky, Las Vegas, NV, 89141</td><td style = \"text-align: right;\">5514940961</td></tr><tr><td class = \"rowNumber\" style = \"font-weight: bold; text-align: right;\">5</td><td style = \"text-align: right;\">-115.244</td><td style = \"text-align: right;\">36.1588</td><td style = \"text-align: left;\">Subway</td><td style = \"text-align: left;\">1105 S Rainbow, Las Vegas, NV, 89102</td><td style = \"text-align: right;\">5794871693</td></tr><tr><td class = \"rowNumber\" style = \"font-weight: bold; text-align: right;\">6</td><td style = \"text-align: right;\">-115.137</td><td style = \"text-align: right;\">36.1011</td><td style = \"text-align: left;\">Subway</td><td style = \"text-align: left;\">1196 E Tropicana Ave, Las Vegas, NV, 89119</td><td style = \"text-align: right;\">5717536771</td></tr><tr><td class = \"rowNumber\" style = \"font-weight: bold; text-align: right;\">7</td><td style = \"text-align: right;\">-115.08</td><td style = \"text-align: right;\">36.1575</td><td style = \"text-align: left;\">Subway</td><td style = \"text-align: left;\">1300 South Lamb Blvd., Las Vegas, NV, 89104</td><td style = \"text-align: right;\">4807070083</td></tr><tr><td class = \"rowNumber\" style = \"font-weight: bold; text-align: right;\">8</td><td style = \"text-align: right;\">-115.26</td><td style = \"text-align: right;\">36.1901</td><td style = \"text-align: left;\">Subway</td><td style = \"text-align: left;\">1750 N Buffalo, Las Vegas, NV, 89128</td><td style = \"text-align: right;\">5778125595</td></tr><tr><td class = \"rowNumber\" style = \"font-weight: bold; text-align: right;\">9</td><td style = \"text-align: right;\">-115.206</td><td style = \"text-align: right;\">36.1948</td><td style = \"text-align: left;\">Subway</td><td style = \"text-align: left;\">1940 N Decatur Blvd, Las Vegas, NV, 89108</td><td style = \"text-align: right;\">5797720840</td></tr><tr><td class = \"rowNumber\" style = \"font-weight: bold; text-align: right;\">10</td><td style = \"text-align: right;\">-115.062</td><td style = \"text-align: right;\">36.1956</td><td style = \"text-align: left;\">Subway</td><td style = \"text-align: left;\">1961 N Nellis Blvd, Las Vegas, NV, 89115</td><td style = \"text-align: right;\">5521321066</td></tr><tr><td class = \"rowNumber\" style = \"font-weight: bold; text-align: right;\">11</td><td style = \"text-align: right;\">-115.208</td><td style = \"text-align: right;\">36.1498</td><td style = \"text-align: left;\">Subway</td><td style = \"text-align: left;\">2003 S Decatur Blvd, Las Vegas, NV, 89102</td><td style = \"text-align: right;\">5844881906</td></tr><tr><td class = \"rowNumber\" style = \"font-weight: bold; text-align: right;\">12</td><td style = \"text-align: right;\">-115.144</td><td style = \"text-align: right;\">36.1707</td><td style = \"text-align: left;\">Subway</td><td style = \"text-align: left;\">202 Fremont Street, Las Vegas, NV, 89101</td><td style = \"text-align: right;\">3813314952</td></tr><tr><td class = \"rowNumber\" style = \"font-weight: bold; text-align: right;\">13</td><td style = \"text-align: right;\">-115.12</td><td style = \"text-align: right;\">36.2762</td><td style = \"text-align: left;\">Subway</td><td style = \"text-align: left;\">2225 E Centennial Pky, Las Vegas, NV, 89081</td><td style = \"text-align: right;\">5509334872</td></tr><tr><td style = \"text-align: right;\">&vellip;</td><td style = \"text-align: right;\">&vellip;</td><td style = \"text-align: right;\">&vellip;</td><td style = \"text-align: right;\">&vellip;</td><td style = \"text-align: right;\">&vellip;</td><td style = \"text-align: right;\">&vellip;</td></tr><tr><td class = \"rowNumber\" style = \"font-weight: bold; text-align: right;\">107</td><td style = \"text-align: right;\">-115.149</td><td style = \"text-align: right;\">36.0855</td><td style = \"text-align: left;\">Subway</td><td style = \"text-align: left;\">C Gate McCarran Int Airport, Las Vegas, NV, 89111</td><td style = \"text-align: right;\">4538984240</td></tr><tr><td class = \"rowNumber\" style = \"font-weight: bold; text-align: right;\">108</td><td style = \"text-align: right;\">-115.146</td><td style = \"text-align: right;\">36.1715</td><td style = \"text-align: left;\">Subway</td><td style = \"text-align: left;\">One South Main St, Las Vegas, NV, 89125</td><td style = \"text-align: right;\">3813314954</td></tr><tr><td class = \"rowNumber\" style = \"font-weight: bold; text-align: right;\">109</td><td style = \"text-align: right;\">-115.178</td><td style = \"text-align: right;\">36.2857</td><td style = \"text-align: left;\">Subway</td><td style = \"text-align: left;\">6885 Aliante Parkway, N Las Vegas, NV, 89084</td><td style = \"text-align: right;\">4208824392</td></tr><tr><td class = \"rowNumber\" style = \"font-weight: bold; text-align: right;\">110</td><td style = \"text-align: right;\">-115.118</td><td style = \"text-align: right;\">36.2176</td><td style = \"text-align: left;\">Subway</td><td style = \"text-align: left;\">2265 Cheyenne Avenue, North Las Vegas, NV, 89030</td><td style = \"text-align: right;\">5851001667</td></tr><tr><td class = \"rowNumber\" style = \"font-weight: bold; text-align: right;\">111</td><td style = \"text-align: right;\">-115.116</td><td style = \"text-align: right;\">36.24</td><td style = \"text-align: left;\">Subway</td><td style = \"text-align: left;\">2546 E Craig Rd, North Las Vegas, NV, 89030</td><td style = \"text-align: right;\">5534608424</td></tr><tr><td class = \"rowNumber\" style = \"font-weight: bold; text-align: right;\">112</td><td style = \"text-align: right;\">-115.109</td><td style = \"text-align: right;\">36.2081</td><td style = \"text-align: left;\">Subway</td><td style = \"text-align: left;\">2668 North Las Vegas Blvd, North Las Vegas, NV, 89030</td><td style = \"text-align: right;\">5483724476</td></tr><tr><td class = \"rowNumber\" style = \"font-weight: bold; text-align: right;\">113</td><td style = \"text-align: right;\">-115.179</td><td style = \"text-align: right;\">36.2396</td><td style = \"text-align: left;\">Subway</td><td style = \"text-align: left;\">2816 W Craig Rd, North Las Vegas, NV, 89030</td><td style = \"text-align: right;\">5513681535</td></tr><tr><td class = \"rowNumber\" style = \"font-weight: bold; text-align: right;\">114</td><td style = \"text-align: right;\">-115.182</td><td style = \"text-align: right;\">36.2617</td><td style = \"text-align: left;\">Subway</td><td style = \"text-align: left;\">3030 W Ann Rd, North Las Vegas, NV, 89031</td><td style = \"text-align: right;\">5512410055</td></tr><tr><td class = \"rowNumber\" style = \"font-weight: bold; text-align: right;\">115</td><td style = \"text-align: right;\">-115.193</td><td style = \"text-align: right;\">36.1999</td><td style = \"text-align: left;\">Subway</td><td style = \"text-align: left;\">3950 W Lake Mead Blvd, North Las Vegas, NV, 89032</td><td style = \"text-align: right;\">5788688096</td></tr><tr><td class = \"rowNumber\" style = \"font-weight: bold; text-align: right;\">116</td><td style = \"text-align: right;\">-115.097</td><td style = \"text-align: right;\">36.2396</td><td style = \"text-align: left;\">Subway</td><td style = \"text-align: left;\">4375 N Pecos Rd, North Las Vegas, NV, 89030</td><td style = \"text-align: right;\">5534608851</td></tr><tr><td class = \"rowNumber\" style = \"font-weight: bold; text-align: right;\">117</td><td style = \"text-align: right;\">-115.155</td><td style = \"text-align: right;\">36.2603</td><td style = \"text-align: left;\">Subway</td><td style = \"text-align: left;\">5546 Camino Al Norte, North Las Vegas, NV, 89031</td><td style = \"text-align: right;\">5096983700</td></tr><tr><td class = \"rowNumber\" style = \"font-weight: bold; text-align: right;\">118</td><td style = \"text-align: right;\">-115.18</td><td style = \"text-align: right;\">36.2753</td><td style = \"text-align: left;\">Subway</td><td style = \"text-align: left;\">6360 Simmons St., North Las Vegas, NV, 89031</td><td style = \"text-align: right;\">5512410390</td></tr></tbody></table></div>"
      ],
      "text/latex": [
       "\\begin{tabular}{r|ccccc}\n",
       "\t& long & latt & name & address & \\\\\n",
       "\t\\hline\n",
       "\t& Float64 & Float64 & String7 & String & \\\\\n",
       "\t\\hline\n",
       "\t1 & -115.314 & 36.1003 & Subway & 10140 W Tropicana Ave, Las Vegas, NV, 89147 & $\\dots$ \\\\\n",
       "\t2 & -115.141 & 36.1148 & Subway & 1040 E Flamingo, Las Vegas, NV, 89109 & $\\dots$ \\\\\n",
       "\t3 & -115.325 & 36.2187 & Subway & 10470 W Cheyanne, Las Vegas, NV, 89129 & $\\dots$ \\\\\n",
       "\t4 & -115.207 & 35.9976 & Subway & 10550 Southern Highlands Pky, Las Vegas, NV, 89141 & $\\dots$ \\\\\n",
       "\t5 & -115.244 & 36.1588 & Subway & 1105 S Rainbow, Las Vegas, NV, 89102 & $\\dots$ \\\\\n",
       "\t6 & -115.137 & 36.1011 & Subway & 1196 E Tropicana Ave, Las Vegas, NV, 89119 & $\\dots$ \\\\\n",
       "\t7 & -115.08 & 36.1575 & Subway & 1300 South Lamb Blvd., Las Vegas, NV, 89104 & $\\dots$ \\\\\n",
       "\t8 & -115.26 & 36.1901 & Subway & 1750 N Buffalo, Las Vegas, NV, 89128 & $\\dots$ \\\\\n",
       "\t9 & -115.206 & 36.1948 & Subway & 1940 N Decatur Blvd, Las Vegas, NV, 89108 & $\\dots$ \\\\\n",
       "\t10 & -115.062 & 36.1956 & Subway & 1961 N Nellis Blvd, Las Vegas, NV, 89115 & $\\dots$ \\\\\n",
       "\t11 & -115.208 & 36.1498 & Subway & 2003 S Decatur Blvd, Las Vegas, NV, 89102 & $\\dots$ \\\\\n",
       "\t12 & -115.144 & 36.1707 & Subway & 202 Fremont Street, Las Vegas, NV, 89101 & $\\dots$ \\\\\n",
       "\t13 & -115.12 & 36.2762 & Subway & 2225 E Centennial Pky, Las Vegas, NV, 89081 & $\\dots$ \\\\\n",
       "\t14 & -115.155 & 36.1443 & Subway & 2246 Paradise Road, Las Vegas, NV, 89104 & $\\dots$ \\\\\n",
       "\t15 & -115.28 & 36.2032 & Subway & 2255 N Rampart Blvd, Las Vegas, NV, 89128 & $\\dots$ \\\\\n",
       "\t16 & -115.12 & 36.0999 & Subway & 2375 E Tropicana Ave, Las Vegas, NV, 89119 & $\\dots$ \\\\\n",
       "\t17 & -115.197 & 36.2005 & Subway & 2400 N Rancho Dr, Las Vegas, NV, 89130 & $\\dots$ \\\\\n",
       "\t18 & -115.175 & 36.1438 & Subway & 2411 W Sahara Ave, Las Vegas, NV, 89102 & $\\dots$ \\\\\n",
       "\t19 & -115.119 & 36.1438 & Subway & 2520 S Eastern Ave, Las Vegas, NV, 89109 & $\\dots$ \\\\\n",
       "\t20 & -115.279 & 36.143 & Subway & 2551 S Durango Dr, Las Vegas, NV, 89117 & $\\dots$ \\\\\n",
       "\t21 & -115.163 & 36.1362 & Subway & 2890 Las Vegas Blvd S, Las Vegas, NV, 89109 & $\\dots$ \\\\\n",
       "\t22 & -115.107 & 36.1738 & Subway & 3040 E Bonanza Rd, Las Vegas, NV, 89101 & $\\dots$ \\\\\n",
       "\t23 & -115.19 & 36.1329 & Subway & 3140 S Valley View Blvd, Las Vegas, NV, 89102 & $\\dots$ \\\\\n",
       "\t24 & -115.106 & 36.1299 & Subway & 3180 E Desert Inn Rd, Las Vegas, NV, 89121 & $\\dots$ \\\\\n",
       "\t25 & -115.168 & 36.1277 & Subway & 3200 Las Vegas Blvd S, Las Vegas, NV, 89109 & $\\dots$ \\\\\n",
       "\t26 & -115.212 & 36.2172 & Subway & 3201 N Rancho Dr, Las Vegas, NV, 89108 & $\\dots$ \\\\\n",
       "\t27 & -115.065 & 36.1311 & Subway & 3210 S Nellis Blvd, Las Vegas, NV, 89121 & $\\dots$ \\\\\n",
       "\t28 & -115.315 & 36.1284 & Subway & 3370 S Hualapai, Las Vegas, NV, 89117 & $\\dots$ \\\\\n",
       "\t29 & -115.101 & 36.0998 & Subway & 3395 E Tropicana Ave, Las Vegas, NV, 89120 & $\\dots$ \\\\\n",
       "\t30 & -115.172 & 36.1208 & Subway & 3411 Las Vegas Blvd S, Las Vegas, NV, 89109 & $\\dots$ \\\\\n",
       "\t$\\dots$ & $\\dots$ & $\\dots$ & $\\dots$ & $\\dots$ &  \\\\\n",
       "\\end{tabular}\n"
      ],
      "text/plain": [
       "\u001b[1m118×5 DataFrame\u001b[0m\n",
       "\u001b[1m Row \u001b[0m│\u001b[1m long     \u001b[0m\u001b[1m latt    \u001b[0m\u001b[1m name    \u001b[0m\u001b[1m address                           \u001b[0m\u001b[1m node    \u001b[0m ⋯\n",
       "     │\u001b[90m Float64  \u001b[0m\u001b[90m Float64 \u001b[0m\u001b[90m String7 \u001b[0m\u001b[90m String                            \u001b[0m\u001b[90m Int64   \u001b[0m ⋯\n",
       "─────┼──────────────────────────────────────────────────────────────────────────\n",
       "   1 │ -115.314  36.1003  Subway   10140 W Tropicana Ave, Las Vegas…  55033779 ⋯\n",
       "   2 │ -115.141  36.1148  Subway   1040 E Flamingo, Las Vegas, NV, …  27479200\n",
       "   3 │ -115.325  36.2187  Subway   10470 W Cheyanne, Las Vegas, NV,…  25902733\n",
       "   4 │ -115.207  35.9976  Subway   10550 Southern Highlands Pky, La…  55149409\n",
       "   5 │ -115.244  36.1588  Subway   1105 S Rainbow, Las Vegas, NV, 8…  57948716 ⋯\n",
       "   6 │ -115.137  36.1011  Subway   1196 E Tropicana Ave, Las Vegas,…  57175367\n",
       "   7 │ -115.08   36.1575  Subway   1300 South Lamb Blvd., Las Vegas…  48070700\n",
       "   8 │ -115.26   36.1901  Subway   1750 N Buffalo, Las Vegas, NV, 8…  57781255\n",
       "   9 │ -115.206  36.1948  Subway   1940 N Decatur Blvd, Las Vegas, …  57977208 ⋯\n",
       "  10 │ -115.062  36.1956  Subway   1961 N Nellis Blvd, Las Vegas, N…  55213210\n",
       "  11 │ -115.208  36.1498  Subway   2003 S Decatur Blvd, Las Vegas, …  58448819\n",
       "  ⋮  │    ⋮         ⋮        ⋮                     ⋮                      ⋮    ⋱\n",
       " 109 │ -115.178  36.2857  Subway   6885 Aliante Parkway, N Las Vega…  42088243\n",
       " 110 │ -115.118  36.2176  Subway   2265 Cheyenne Avenue, North Las …  58510016 ⋯\n",
       " 111 │ -115.116  36.24    Subway   2546 E Craig Rd, North Las Vegas…  55346084\n",
       " 112 │ -115.109  36.2081  Subway   2668 North Las Vegas Blvd, North…  54837244\n",
       " 113 │ -115.179  36.2396  Subway   2816 W Craig Rd, North Las Vegas…  55136815\n",
       " 114 │ -115.182  36.2617  Subway   3030 W Ann Rd, North Las Vegas, …  55124100 ⋯\n",
       " 115 │ -115.193  36.1999  Subway   3950 W Lake Mead Blvd, North Las…  57886880\n",
       " 116 │ -115.097  36.2396  Subway   4375 N Pecos Rd, North Las Vegas…  55346088\n",
       " 117 │ -115.155  36.2603  Subway   5546 Camino Al Norte, North Las …  50969837\n",
       " 118 │ -115.18   36.2753  Subway   6360 Simmons St., North Las Vega…  55124103 ⋯\n",
       "\u001b[36m                                                    1 column and 97 rows omitted\u001b[0m"
      ]
     },
     "execution_count": 127,
     "metadata": {},
     "output_type": "execute_result"
    }
   ],
   "source": [
    "sbws_la "
   ]
  },
  {
   "cell_type": "code",
   "execution_count": 128,
   "metadata": {},
   "outputs": [
    {
     "data": {
      "text/plain": [
       "26-element Vector{Float64}:\n",
       "  1.0\n",
       "  2.01\n",
       "  4.0\n",
       "  7.83\n",
       " 14.93\n",
       " 26.94\n",
       " 43.72\n",
       " 58.19\n",
       " 54.95\n",
       " 31.87\n",
       " 11.76\n",
       "  3.43\n",
       "  0.92\n",
       "  0.24\n",
       "  0.06\n",
       "  0.02\n",
       "  0.0\n",
       "  0.0\n",
       "  0.0\n",
       "  0.0\n",
       "  0.0\n",
       "  0.0\n",
       "  0.0\n",
       "  0.0\n",
       "  0.0\n",
       "  0.0"
      ]
     },
     "execution_count": 128,
     "metadata": {},
     "output_type": "execute_result"
    }
   ],
   "source": [
    "round.(value.(I_), digits=2)"
   ]
  }
 ],
 "metadata": {
  "kernelspec": {
   "display_name": "Julia 1.9.3",
   "language": "julia",
   "name": "julia-1.9"
  },
  "language_info": {
   "file_extension": ".jl",
   "mimetype": "application/julia",
   "name": "julia",
   "version": "1.9.3"
  }
 },
 "nbformat": 4,
 "nbformat_minor": 4
}
